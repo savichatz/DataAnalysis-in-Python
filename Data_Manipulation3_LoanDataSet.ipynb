{
 "cells": [
  {
   "cell_type": "markdown",
   "metadata": {
    "id": "bK1uceqAMcWq"
   },
   "source": [
    "### Data Manipulation on Loan DataSet"
   ]
  },
  {
   "cell_type": "markdown",
   "metadata": {
    "id": "X2sWAadtM6xv"
   },
   "source": [
    "* About Data\n",
    "    * Database resides in AWS \n",
    "\n",
    "* Connecting to Cloud AWS \n",
    "     * import create_engine\n",
    "     * install pymssql\n",
    "     * assign uri, engine and conn objects\n",
    "\n",
    "* Verifying all existing tables from Database\n",
    "     * SELECT TABLE_NAME FROM INFORMATION_SCHEMA.TABLES\n",
    "        \n",
    "* Load tables into pandas dataframe\n",
    "\n",
    "* Joining two tables and store the result into dataframe\n",
    "     * Solution1 - join tables using SQL join and store the result into dataframe\n",
    "     * Solution2 - mergeing tables using df.merge() and store the result into dataframe\n",
    "        \n",
    "* Handling missing values\n",
    "     * Identify missing values \n",
    "     * Droping those unwanted cols\n",
    "     * Get only requuired cols and store the result into new df\n",
    "\n",
    "* Answer Business Questions\n",
    "     * Q1. How many customers took a loan?\n",
    "     * Q2. How many customers have settled their loadn?\n",
    "     * Q3. Loanamount by Tenor with Loanstatus is 'Due'?\n",
    "     * Q4. Loanamount by LoanPurpose?\n",
    "     * Q5. Average Loanamount requested by customer age(number)?\n"
   ]
  },
  {
   "cell_type": "code",
   "execution_count": 47,
   "metadata": {
    "id": "tHsBx0Ku_BmV"
   },
   "outputs": [],
   "source": [
    "import pandas as pd\n",
    "from sqlalchemy import create_engine"
   ]
  },
  {
   "cell_type": "code",
   "execution_count": 48,
   "metadata": {
    "colab": {
     "base_uri": "https://localhost:8080/"
    },
    "id": "7OiCisfk_B5F",
    "outputId": "2d8f29f4-8561-40db-fd37-7c0d50ec76e3"
   },
   "outputs": [
    {
     "name": "stdout",
     "output_type": "stream",
     "text": [
      "Requirement already satisfied: pymssql in c:\\programdata\\anaconda3\\lib\\site-packages (2.2.3)\n"
     ]
    },
    {
     "name": "stderr",
     "output_type": "stream",
     "text": [
      "WARNING: You are using pip version 20.2.4; however, version 21.3.1 is available.\n",
      "You should consider upgrading via the 'c:\\programdata\\anaconda3\\python.exe -m pip install --upgrade pip' command.\n"
     ]
    }
   ],
   "source": [
    "#install pymssql\n",
    "!pip install pymssql"
   ]
  },
  {
   "cell_type": "code",
   "execution_count": 49,
   "metadata": {
    "id": "UhRHuqD8w59-"
   },
   "outputs": [],
   "source": [
    "import pymssql"
   ]
  },
  {
   "cell_type": "markdown",
   "metadata": {},
   "source": [
    "### Connecting to AWS Database"
   ]
  },
  {
   "cell_type": "code",
   "execution_count": 50,
   "metadata": {
    "id": "kF2u53o9_7vs"
   },
   "outputs": [],
   "source": [
    "uri = \"redacted\"\n",
    "engine = create_engine(uri)"
   ]
  },
  {
   "cell_type": "code",
   "execution_count": 51,
   "metadata": {
    "id": "moBr-yD6Bc9F"
   },
   "outputs": [],
   "source": [
    "conn = engine.connect()"
   ]
  },
  {
   "cell_type": "code",
   "execution_count": null,
   "metadata": {
    "id": "fQ8XCirTBjak"
   },
   "outputs": [],
   "source": [
    "# Loans data, customer demographice"
   ]
  },
  {
   "cell_type": "markdown",
   "metadata": {},
   "source": [
    "### Get all existing tables from Database"
   ]
  },
  {
   "cell_type": "code",
   "execution_count": 104,
   "metadata": {
    "colab": {
     "base_uri": "https://localhost:8080/",
     "height": 143
    },
    "id": "vRQbAMeCCcMH",
    "outputId": "16b99bee-bbb0-4312-9a07-c0cb21ca7923"
   },
   "outputs": [
    {
     "data": {
      "text/html": [
       "<div>\n",
       "<style scoped>\n",
       "    .dataframe tbody tr th:only-of-type {\n",
       "        vertical-align: middle;\n",
       "    }\n",
       "\n",
       "    .dataframe tbody tr th {\n",
       "        vertical-align: top;\n",
       "    }\n",
       "\n",
       "    .dataframe thead th {\n",
       "        text-align: right;\n",
       "    }\n",
       "</style>\n",
       "<table border=\"1\" class=\"dataframe\">\n",
       "  <thead>\n",
       "    <tr style=\"text-align: right;\">\n",
       "      <th></th>\n",
       "      <th>TABLE_NAME</th>\n",
       "    </tr>\n",
       "  </thead>\n",
       "  <tbody>\n",
       "    <tr>\n",
       "      <th>0</th>\n",
       "      <td>LoanAccounts</td>\n",
       "    </tr>\n",
       "    <tr>\n",
       "      <th>1</th>\n",
       "      <td>TransactionsLog</td>\n",
       "    </tr>\n",
       "    <tr>\n",
       "      <th>2</th>\n",
       "      <td>Customers</td>\n",
       "    </tr>\n",
       "  </tbody>\n",
       "</table>\n",
       "</div>"
      ],
      "text/plain": [
       "        TABLE_NAME\n",
       "0     LoanAccounts\n",
       "1  TransactionsLog\n",
       "2        Customers"
      ]
     },
     "execution_count": 104,
     "metadata": {},
     "output_type": "execute_result"
    }
   ],
   "source": [
    "# All tables from the DataBase\n",
    "pd.read_sql('SELECT TABLE_NAME FROM INFORMATION_SCHEMA.TABLES', conn)\n"
   ]
  },
  {
   "cell_type": "markdown",
   "metadata": {},
   "source": [
    "### Load database tables into pandas dataframe"
   ]
  },
  {
   "cell_type": "code",
   "execution_count": 105,
   "metadata": {
    "id": "OpApvUpsEgkU"
   },
   "outputs": [],
   "source": [
    "#Analysing LoanAccounts Data"
   ]
  },
  {
   "cell_type": "code",
   "execution_count": 106,
   "metadata": {
    "id": "3bffhtYkBr8k"
   },
   "outputs": [],
   "source": [
    "query1 = 'SELECT * FROM [LOANAccounts]'\n",
    "\n",
    "loans = pd.read_sql(query1, conn)"
   ]
  },
  {
   "cell_type": "code",
   "execution_count": 107,
   "metadata": {},
   "outputs": [],
   "source": [
    "#Exporting to csv jus for my reference\n",
    "loans.to_csv('loans.csv')"
   ]
  },
  {
   "cell_type": "code",
   "execution_count": 108,
   "metadata": {
    "colab": {
     "base_uri": "https://localhost:8080/",
     "height": 357
    },
    "id": "_8x6-fOmBpvb",
    "outputId": "903b5189-b935-4f3f-d18d-d2f6425ad114"
   },
   "outputs": [
    {
     "data": {
      "text/html": [
       "<div>\n",
       "<style scoped>\n",
       "    .dataframe tbody tr th:only-of-type {\n",
       "        vertical-align: middle;\n",
       "    }\n",
       "\n",
       "    .dataframe tbody tr th {\n",
       "        vertical-align: top;\n",
       "    }\n",
       "\n",
       "    .dataframe thead th {\n",
       "        text-align: right;\n",
       "    }\n",
       "</style>\n",
       "<table border=\"1\" class=\"dataframe\">\n",
       "  <thead>\n",
       "    <tr style=\"text-align: right;\">\n",
       "      <th></th>\n",
       "      <th>Id</th>\n",
       "      <th>CreatedDate</th>\n",
       "      <th>CustomerId</th>\n",
       "      <th>LoanAmount</th>\n",
       "      <th>ProductId</th>\n",
       "      <th>LoanReason</th>\n",
       "      <th>Installment</th>\n",
       "      <th>Tenor</th>\n",
       "      <th>Rate</th>\n",
       "      <th>LoanStatus</th>\n",
       "      <th>FirstRepaymentDate</th>\n",
       "      <th>MaturityDate</th>\n",
       "      <th>TotalOutstandingPrincipal</th>\n",
       "      <th>TotalOutstandingInterest</th>\n",
       "      <th>TotalOutstandingBalance</th>\n",
       "      <th>IsEmployed</th>\n",
       "      <th>IsHomeOwner</th>\n",
       "      <th>RepaymentType</th>\n",
       "      <th>LoanPurpose</th>\n",
       "    </tr>\n",
       "  </thead>\n",
       "  <tbody>\n",
       "    <tr>\n",
       "      <th>0</th>\n",
       "      <td>1</td>\n",
       "      <td>2021-06-08 21:54:53.830</td>\n",
       "      <td>2</td>\n",
       "      <td>40000.0</td>\n",
       "      <td>1</td>\n",
       "      <td>NA</td>\n",
       "      <td>54933.33</td>\n",
       "      <td>3</td>\n",
       "      <td>312.0</td>\n",
       "      <td>Rejected</td>\n",
       "      <td>2021-07-07</td>\n",
       "      <td>2021-08-09 21:54:53.820</td>\n",
       "      <td>40000.0</td>\n",
       "      <td>124800.00</td>\n",
       "      <td>164800.00</td>\n",
       "      <td>True</td>\n",
       "      <td>None</td>\n",
       "      <td>1</td>\n",
       "      <td>Business</td>\n",
       "    </tr>\n",
       "    <tr>\n",
       "      <th>1</th>\n",
       "      <td>2</td>\n",
       "      <td>2021-06-09 16:17:15.367</td>\n",
       "      <td>2</td>\n",
       "      <td>45000.0</td>\n",
       "      <td>1</td>\n",
       "      <td>NA</td>\n",
       "      <td>30900.00</td>\n",
       "      <td>6</td>\n",
       "      <td>312.0</td>\n",
       "      <td>Rejected</td>\n",
       "      <td>2021-07-08</td>\n",
       "      <td>2021-11-09 16:17:15.357</td>\n",
       "      <td>45000.0</td>\n",
       "      <td>140400.00</td>\n",
       "      <td>185400.00</td>\n",
       "      <td>True</td>\n",
       "      <td>None</td>\n",
       "      <td>1</td>\n",
       "      <td>SpecialEvents</td>\n",
       "    </tr>\n",
       "    <tr>\n",
       "      <th>2</th>\n",
       "      <td>3</td>\n",
       "      <td>2021-06-09 18:01:55.690</td>\n",
       "      <td>2</td>\n",
       "      <td>45000.0</td>\n",
       "      <td>1</td>\n",
       "      <td>NA</td>\n",
       "      <td>30900.00</td>\n",
       "      <td>6</td>\n",
       "      <td>312.0</td>\n",
       "      <td>Rejected</td>\n",
       "      <td>2021-07-08</td>\n",
       "      <td>2021-11-09 18:01:55.690</td>\n",
       "      <td>45000.0</td>\n",
       "      <td>140400.00</td>\n",
       "      <td>185400.00</td>\n",
       "      <td>True</td>\n",
       "      <td>None</td>\n",
       "      <td>1</td>\n",
       "      <td>Investment</td>\n",
       "    </tr>\n",
       "    <tr>\n",
       "      <th>3</th>\n",
       "      <td>4</td>\n",
       "      <td>2021-06-09 18:16:59.903</td>\n",
       "      <td>2</td>\n",
       "      <td>25000.0</td>\n",
       "      <td>1</td>\n",
       "      <td>NA</td>\n",
       "      <td>34333.33</td>\n",
       "      <td>3</td>\n",
       "      <td>312.0</td>\n",
       "      <td>Rejected</td>\n",
       "      <td>2021-07-08</td>\n",
       "      <td>2021-08-09 18:16:59.900</td>\n",
       "      <td>25000.0</td>\n",
       "      <td>78000.00</td>\n",
       "      <td>103000.00</td>\n",
       "      <td>True</td>\n",
       "      <td>None</td>\n",
       "      <td>1</td>\n",
       "      <td>Investment</td>\n",
       "    </tr>\n",
       "    <tr>\n",
       "      <th>4</th>\n",
       "      <td>5</td>\n",
       "      <td>2021-06-09 18:49:50.483</td>\n",
       "      <td>2</td>\n",
       "      <td>25000.0</td>\n",
       "      <td>1</td>\n",
       "      <td>NA</td>\n",
       "      <td>10774.98</td>\n",
       "      <td>4</td>\n",
       "      <td>312.0</td>\n",
       "      <td>Settled</td>\n",
       "      <td>2021-07-08</td>\n",
       "      <td>2021-09-09 18:49:50.483</td>\n",
       "      <td>25000.0</td>\n",
       "      <td>18099.93</td>\n",
       "      <td>43099.93</td>\n",
       "      <td>True</td>\n",
       "      <td>None</td>\n",
       "      <td>1</td>\n",
       "      <td>Rent</td>\n",
       "    </tr>\n",
       "  </tbody>\n",
       "</table>\n",
       "</div>"
      ],
      "text/plain": [
       "   Id             CreatedDate  CustomerId  LoanAmount  ProductId LoanReason  \\\n",
       "0   1 2021-06-08 21:54:53.830           2     40000.0          1         NA   \n",
       "1   2 2021-06-09 16:17:15.367           2     45000.0          1         NA   \n",
       "2   3 2021-06-09 18:01:55.690           2     45000.0          1         NA   \n",
       "3   4 2021-06-09 18:16:59.903           2     25000.0          1         NA   \n",
       "4   5 2021-06-09 18:49:50.483           2     25000.0          1         NA   \n",
       "\n",
       "   Installment  Tenor   Rate LoanStatus FirstRepaymentDate  \\\n",
       "0     54933.33      3  312.0   Rejected         2021-07-07   \n",
       "1     30900.00      6  312.0   Rejected         2021-07-08   \n",
       "2     30900.00      6  312.0   Rejected         2021-07-08   \n",
       "3     34333.33      3  312.0   Rejected         2021-07-08   \n",
       "4     10774.98      4  312.0    Settled         2021-07-08   \n",
       "\n",
       "             MaturityDate  TotalOutstandingPrincipal  \\\n",
       "0 2021-08-09 21:54:53.820                    40000.0   \n",
       "1 2021-11-09 16:17:15.357                    45000.0   \n",
       "2 2021-11-09 18:01:55.690                    45000.0   \n",
       "3 2021-08-09 18:16:59.900                    25000.0   \n",
       "4 2021-09-09 18:49:50.483                    25000.0   \n",
       "\n",
       "   TotalOutstandingInterest  TotalOutstandingBalance  IsEmployed IsHomeOwner  \\\n",
       "0                 124800.00                164800.00        True        None   \n",
       "1                 140400.00                185400.00        True        None   \n",
       "2                 140400.00                185400.00        True        None   \n",
       "3                  78000.00                103000.00        True        None   \n",
       "4                  18099.93                 43099.93        True        None   \n",
       "\n",
       "   RepaymentType    LoanPurpose  \n",
       "0              1       Business  \n",
       "1              1  SpecialEvents  \n",
       "2              1     Investment  \n",
       "3              1     Investment  \n",
       "4              1           Rent  "
      ]
     },
     "execution_count": 108,
     "metadata": {},
     "output_type": "execute_result"
    }
   ],
   "source": [
    "loans.head()"
   ]
  },
  {
   "cell_type": "code",
   "execution_count": 57,
   "metadata": {
    "colab": {
     "base_uri": "https://localhost:8080/"
    },
    "id": "1mgYwvfGDiyt",
    "outputId": "3a2c4a49-ef14-4547-df6d-50aa3573c896"
   },
   "outputs": [
    {
     "data": {
      "text/plain": [
       "Id                                    int64\n",
       "CreatedDate                  datetime64[ns]\n",
       "CustomerId                            int64\n",
       "LoanAmount                          float64\n",
       "ProductId                             int64\n",
       "LoanReason                           object\n",
       "Installment                         float64\n",
       "Tenor                                 int64\n",
       "Rate                                float64\n",
       "LoanStatus                           object\n",
       "FirstRepaymentDate           datetime64[ns]\n",
       "MaturityDate                 datetime64[ns]\n",
       "TotalOutstandingPrincipal           float64\n",
       "TotalOutstandingInterest            float64\n",
       "TotalOutstandingBalance             float64\n",
       "IsEmployed                             bool\n",
       "IsHomeOwner                          object\n",
       "RepaymentType                         int64\n",
       "LoanPurpose                          object\n",
       "dtype: object"
      ]
     },
     "execution_count": 57,
     "metadata": {},
     "output_type": "execute_result"
    }
   ],
   "source": [
    "#Check whether all columns are having right datatypes\n",
    "loans.dtypes"
   ]
  },
  {
   "cell_type": "code",
   "execution_count": 109,
   "metadata": {
    "id": "uK1RigkCDLyA"
   },
   "outputs": [],
   "source": [
    "query2 = 'SELECT * FROM Customers'\n",
    "\n",
    "customers = pd.read_sql(query2, conn)"
   ]
  },
  {
   "cell_type": "code",
   "execution_count": 110,
   "metadata": {},
   "outputs": [],
   "source": [
    "#Exporting to csv jus for my reference\n",
    "customers.to_csv('customers.csv')"
   ]
  },
  {
   "cell_type": "code",
   "execution_count": 111,
   "metadata": {
    "colab": {
     "base_uri": "https://localhost:8080/"
    },
    "id": "JG1n-Mi8Do8G",
    "outputId": "8ee98963-4713-4341-8cf6-d3f0e65c1751"
   },
   "outputs": [
    {
     "data": {
      "text/plain": [
       "array(['NA'], dtype=object)"
      ]
     },
     "execution_count": 111,
     "metadata": {},
     "output_type": "execute_result"
    }
   ],
   "source": [
    "loans['LoanReason'].unique()"
   ]
  },
  {
   "cell_type": "code",
   "execution_count": 112,
   "metadata": {
    "colab": {
     "base_uri": "https://localhost:8080/",
     "height": 211
    },
    "id": "vurLD1nLDWzp",
    "outputId": "e242cfc4-4fab-4ed7-91e6-66139c56e82c"
   },
   "outputs": [
    {
     "data": {
      "text/html": [
       "<div>\n",
       "<style scoped>\n",
       "    .dataframe tbody tr th:only-of-type {\n",
       "        vertical-align: middle;\n",
       "    }\n",
       "\n",
       "    .dataframe tbody tr th {\n",
       "        vertical-align: top;\n",
       "    }\n",
       "\n",
       "    .dataframe thead th {\n",
       "        text-align: right;\n",
       "    }\n",
       "</style>\n",
       "<table border=\"1\" class=\"dataframe\">\n",
       "  <thead>\n",
       "    <tr style=\"text-align: right;\">\n",
       "      <th></th>\n",
       "      <th>Id</th>\n",
       "      <th>DateOfBirth</th>\n",
       "      <th>Gender</th>\n",
       "      <th>MaritalStatus</th>\n",
       "      <th>CreditScore</th>\n",
       "      <th>LastLoginTime</th>\n",
       "      <th>IsEmailConfirmed</th>\n",
       "      <th>EmailConfirmationDate</th>\n",
       "      <th>PhoneNumberConfirmationDate</th>\n",
       "      <th>IsPhoneNumberConfirmed</th>\n",
       "      <th>EmployerSector</th>\n",
       "      <th>EmploymentStatus</th>\n",
       "      <th>IsVerified</th>\n",
       "      <th>IsBasicProfileComplete</th>\n",
       "    </tr>\n",
       "  </thead>\n",
       "  <tbody>\n",
       "    <tr>\n",
       "      <th>0</th>\n",
       "      <td>1</td>\n",
       "      <td>1997-06-20 00:00:00</td>\n",
       "      <td>Female</td>\n",
       "      <td>Single</td>\n",
       "      <td>0</td>\n",
       "      <td>None</td>\n",
       "      <td>True</td>\n",
       "      <td>2021-06-08 20:04:32.227</td>\n",
       "      <td>None</td>\n",
       "      <td>False</td>\n",
       "      <td>Private</td>\n",
       "      <td>Employed</td>\n",
       "      <td>None</td>\n",
       "      <td>True</td>\n",
       "    </tr>\n",
       "    <tr>\n",
       "      <th>1</th>\n",
       "      <td>2</td>\n",
       "      <td>1983-03-25 00:00:00</td>\n",
       "      <td>Male</td>\n",
       "      <td>Married</td>\n",
       "      <td>0</td>\n",
       "      <td>None</td>\n",
       "      <td>True</td>\n",
       "      <td>2021-06-08 20:50:22.583</td>\n",
       "      <td>None</td>\n",
       "      <td>False</td>\n",
       "      <td>Private</td>\n",
       "      <td>Employed</td>\n",
       "      <td>None</td>\n",
       "      <td>True</td>\n",
       "    </tr>\n",
       "  </tbody>\n",
       "</table>\n",
       "</div>"
      ],
      "text/plain": [
       "   Id          DateOfBirth  Gender MaritalStatus CreditScore LastLoginTime  \\\n",
       "0   1  1997-06-20 00:00:00  Female        Single           0          None   \n",
       "1   2  1983-03-25 00:00:00    Male       Married           0          None   \n",
       "\n",
       "   IsEmailConfirmed   EmailConfirmationDate PhoneNumberConfirmationDate  \\\n",
       "0              True 2021-06-08 20:04:32.227                        None   \n",
       "1              True 2021-06-08 20:50:22.583                        None   \n",
       "\n",
       "   IsPhoneNumberConfirmed EmployerSector EmploymentStatus IsVerified  \\\n",
       "0                   False        Private         Employed       None   \n",
       "1                   False        Private         Employed       None   \n",
       "\n",
       "   IsBasicProfileComplete  \n",
       "0                    True  \n",
       "1                    True  "
      ]
     },
     "execution_count": 112,
     "metadata": {},
     "output_type": "execute_result"
    }
   ],
   "source": [
    "customers.head(2)"
   ]
  },
  {
   "cell_type": "code",
   "execution_count": 113,
   "metadata": {
    "colab": {
     "base_uri": "https://localhost:8080/"
    },
    "id": "9E96tHgEDZXr",
    "outputId": "2edf4aaa-4565-4932-edde-f41520e91755"
   },
   "outputs": [
    {
     "data": {
      "text/plain": [
       "Id                                      int64\n",
       "DateOfBirth                            object\n",
       "Gender                                 object\n",
       "MaritalStatus                          object\n",
       "CreditScore                            object\n",
       "LastLoginTime                          object\n",
       "IsEmailConfirmed                         bool\n",
       "EmailConfirmationDate          datetime64[ns]\n",
       "PhoneNumberConfirmationDate            object\n",
       "IsPhoneNumberConfirmed                   bool\n",
       "EmployerSector                         object\n",
       "EmploymentStatus                       object\n",
       "IsVerified                             object\n",
       "IsBasicProfileComplete                   bool\n",
       "dtype: object"
      ]
     },
     "execution_count": 113,
     "metadata": {},
     "output_type": "execute_result"
    }
   ],
   "source": [
    "customers.dtypes"
   ]
  },
  {
   "cell_type": "markdown",
   "metadata": {},
   "source": [
    "### Joining two tables and store the result into dataframe"
   ]
  },
  {
   "cell_type": "code",
   "execution_count": 114,
   "metadata": {
    "id": "N2OTw-XhDgTd"
   },
   "outputs": [],
   "source": [
    "#Solution1 - Merging the Customer table with the LoanAccount table using SQL\n",
    "query3 = 'SELECT L.*,C.* from LoanAccounts L join Customers C on L.CustomerId = C.Id'\n",
    "CustomerLoanAccounts = pd.read_sql(query3, conn)"
   ]
  },
  {
   "cell_type": "code",
   "execution_count": 64,
   "metadata": {
    "colab": {
     "base_uri": "https://localhost:8080/",
     "height": 211
    },
    "id": "NfzIatfuFofa",
    "outputId": "a5086f19-273e-4547-91ee-7a0834373187"
   },
   "outputs": [
    {
     "data": {
      "text/html": [
       "<div>\n",
       "<style scoped>\n",
       "    .dataframe tbody tr th:only-of-type {\n",
       "        vertical-align: middle;\n",
       "    }\n",
       "\n",
       "    .dataframe tbody tr th {\n",
       "        vertical-align: top;\n",
       "    }\n",
       "\n",
       "    .dataframe thead th {\n",
       "        text-align: right;\n",
       "    }\n",
       "</style>\n",
       "<table border=\"1\" class=\"dataframe\">\n",
       "  <thead>\n",
       "    <tr style=\"text-align: right;\">\n",
       "      <th></th>\n",
       "      <th>Id</th>\n",
       "      <th>CreatedDate</th>\n",
       "      <th>CustomerId</th>\n",
       "      <th>LoanAmount</th>\n",
       "      <th>ProductId</th>\n",
       "      <th>LoanReason</th>\n",
       "      <th>Installment</th>\n",
       "      <th>Tenor</th>\n",
       "      <th>Rate</th>\n",
       "      <th>LoanStatus</th>\n",
       "      <th>...</th>\n",
       "      <th>CreditScore</th>\n",
       "      <th>LastLoginTime</th>\n",
       "      <th>IsEmailConfirmed</th>\n",
       "      <th>EmailConfirmationDate</th>\n",
       "      <th>PhoneNumberConfirmationDate</th>\n",
       "      <th>IsPhoneNumberConfirmed</th>\n",
       "      <th>EmployerSector</th>\n",
       "      <th>EmploymentStatus</th>\n",
       "      <th>IsVerified</th>\n",
       "      <th>IsBasicProfileComplete</th>\n",
       "    </tr>\n",
       "  </thead>\n",
       "  <tbody>\n",
       "    <tr>\n",
       "      <th>0</th>\n",
       "      <td>6</td>\n",
       "      <td>2021-06-09 18:51:18.263</td>\n",
       "      <td>1</td>\n",
       "      <td>25000.0</td>\n",
       "      <td>1</td>\n",
       "      <td>NA</td>\n",
       "      <td>9459.86</td>\n",
       "      <td>6</td>\n",
       "      <td>360.0</td>\n",
       "      <td>Settled</td>\n",
       "      <td>...</td>\n",
       "      <td>0</td>\n",
       "      <td>None</td>\n",
       "      <td>True</td>\n",
       "      <td>2021-06-08 20:04:32.227</td>\n",
       "      <td>None</td>\n",
       "      <td>False</td>\n",
       "      <td>Private</td>\n",
       "      <td>Employed</td>\n",
       "      <td>None</td>\n",
       "      <td>True</td>\n",
       "    </tr>\n",
       "    <tr>\n",
       "      <th>1</th>\n",
       "      <td>15</td>\n",
       "      <td>2021-06-11 09:34:33.620</td>\n",
       "      <td>1</td>\n",
       "      <td>25000.0</td>\n",
       "      <td>1</td>\n",
       "      <td>NA</td>\n",
       "      <td>9459.86</td>\n",
       "      <td>6</td>\n",
       "      <td>360.0</td>\n",
       "      <td>Settled</td>\n",
       "      <td>...</td>\n",
       "      <td>0</td>\n",
       "      <td>None</td>\n",
       "      <td>True</td>\n",
       "      <td>2021-06-08 20:04:32.227</td>\n",
       "      <td>None</td>\n",
       "      <td>False</td>\n",
       "      <td>Private</td>\n",
       "      <td>Employed</td>\n",
       "      <td>None</td>\n",
       "      <td>True</td>\n",
       "    </tr>\n",
       "  </tbody>\n",
       "</table>\n",
       "<p>2 rows × 33 columns</p>\n",
       "</div>"
      ],
      "text/plain": [
       "   Id             CreatedDate  CustomerId  LoanAmount  ProductId LoanReason  \\\n",
       "0   6 2021-06-09 18:51:18.263           1     25000.0          1         NA   \n",
       "1  15 2021-06-11 09:34:33.620           1     25000.0          1         NA   \n",
       "\n",
       "   Installment  Tenor   Rate LoanStatus  ... CreditScore LastLoginTime  \\\n",
       "0      9459.86      6  360.0    Settled  ...           0          None   \n",
       "1      9459.86      6  360.0    Settled  ...           0          None   \n",
       "\n",
       "   IsEmailConfirmed   EmailConfirmationDate  PhoneNumberConfirmationDate  \\\n",
       "0              True 2021-06-08 20:04:32.227                         None   \n",
       "1              True 2021-06-08 20:04:32.227                         None   \n",
       "\n",
       "   IsPhoneNumberConfirmed EmployerSector  EmploymentStatus IsVerified  \\\n",
       "0                   False        Private          Employed       None   \n",
       "1                   False        Private          Employed       None   \n",
       "\n",
       "   IsBasicProfileComplete  \n",
       "0                    True  \n",
       "1                    True  \n",
       "\n",
       "[2 rows x 33 columns]"
      ]
     },
     "execution_count": 64,
     "metadata": {},
     "output_type": "execute_result"
    }
   ],
   "source": [
    "CustomerLoanAccounts.head(2)"
   ]
  },
  {
   "cell_type": "code",
   "execution_count": 115,
   "metadata": {
    "id": "GS43guRVFrXu"
   },
   "outputs": [],
   "source": [
    "#Solution2\n",
    "# Merging the Customer table/customers dataframe  with the LoanAccount table/loans dataframe using Pandas, \n",
    "# Using left_on and right_on because both tables have different col_names for primary and forignkey\n",
    "customer_loans_account = loans.merge(customers, left_on = 'CustomerId', right_on='Id')"
   ]
  },
  {
   "cell_type": "code",
   "execution_count": 116,
   "metadata": {
    "colab": {
     "base_uri": "https://localhost:8080/"
    },
    "id": "fX6k8BZpGpGO",
    "outputId": "79a96265-fb50-4d4a-96e5-ef3dffbed87b"
   },
   "outputs": [
    {
     "data": {
      "text/plain": [
       "(6081, 33)"
      ]
     },
     "execution_count": 116,
     "metadata": {},
     "output_type": "execute_result"
    }
   ],
   "source": [
    "customer_loans_account.shape"
   ]
  },
  {
   "cell_type": "code",
   "execution_count": 117,
   "metadata": {
    "colab": {
     "base_uri": "https://localhost:8080/",
     "height": 211
    },
    "id": "F4aBBiNWHKjh",
    "outputId": "3575479a-e059-4c84-b38a-b51954af110f"
   },
   "outputs": [
    {
     "data": {
      "text/html": [
       "<div>\n",
       "<style scoped>\n",
       "    .dataframe tbody tr th:only-of-type {\n",
       "        vertical-align: middle;\n",
       "    }\n",
       "\n",
       "    .dataframe tbody tr th {\n",
       "        vertical-align: top;\n",
       "    }\n",
       "\n",
       "    .dataframe thead th {\n",
       "        text-align: right;\n",
       "    }\n",
       "</style>\n",
       "<table border=\"1\" class=\"dataframe\">\n",
       "  <thead>\n",
       "    <tr style=\"text-align: right;\">\n",
       "      <th></th>\n",
       "      <th>Id_x</th>\n",
       "      <th>CreatedDate</th>\n",
       "      <th>CustomerId</th>\n",
       "      <th>LoanAmount</th>\n",
       "      <th>ProductId</th>\n",
       "      <th>LoanReason</th>\n",
       "      <th>Installment</th>\n",
       "      <th>Tenor</th>\n",
       "      <th>Rate</th>\n",
       "      <th>LoanStatus</th>\n",
       "      <th>...</th>\n",
       "      <th>CreditScore</th>\n",
       "      <th>LastLoginTime</th>\n",
       "      <th>IsEmailConfirmed</th>\n",
       "      <th>EmailConfirmationDate</th>\n",
       "      <th>PhoneNumberConfirmationDate</th>\n",
       "      <th>IsPhoneNumberConfirmed</th>\n",
       "      <th>EmployerSector</th>\n",
       "      <th>EmploymentStatus</th>\n",
       "      <th>IsVerified</th>\n",
       "      <th>IsBasicProfileComplete</th>\n",
       "    </tr>\n",
       "  </thead>\n",
       "  <tbody>\n",
       "    <tr>\n",
       "      <th>0</th>\n",
       "      <td>1</td>\n",
       "      <td>2021-06-08 21:54:53.830</td>\n",
       "      <td>2</td>\n",
       "      <td>40000.0</td>\n",
       "      <td>1</td>\n",
       "      <td>NA</td>\n",
       "      <td>54933.33</td>\n",
       "      <td>3</td>\n",
       "      <td>312.0</td>\n",
       "      <td>Rejected</td>\n",
       "      <td>...</td>\n",
       "      <td>0</td>\n",
       "      <td>None</td>\n",
       "      <td>True</td>\n",
       "      <td>2021-06-08 20:50:22.583</td>\n",
       "      <td>None</td>\n",
       "      <td>False</td>\n",
       "      <td>Private</td>\n",
       "      <td>Employed</td>\n",
       "      <td>None</td>\n",
       "      <td>True</td>\n",
       "    </tr>\n",
       "    <tr>\n",
       "      <th>1</th>\n",
       "      <td>2</td>\n",
       "      <td>2021-06-09 16:17:15.367</td>\n",
       "      <td>2</td>\n",
       "      <td>45000.0</td>\n",
       "      <td>1</td>\n",
       "      <td>NA</td>\n",
       "      <td>30900.00</td>\n",
       "      <td>6</td>\n",
       "      <td>312.0</td>\n",
       "      <td>Rejected</td>\n",
       "      <td>...</td>\n",
       "      <td>0</td>\n",
       "      <td>None</td>\n",
       "      <td>True</td>\n",
       "      <td>2021-06-08 20:50:22.583</td>\n",
       "      <td>None</td>\n",
       "      <td>False</td>\n",
       "      <td>Private</td>\n",
       "      <td>Employed</td>\n",
       "      <td>None</td>\n",
       "      <td>True</td>\n",
       "    </tr>\n",
       "  </tbody>\n",
       "</table>\n",
       "<p>2 rows × 33 columns</p>\n",
       "</div>"
      ],
      "text/plain": [
       "   Id_x             CreatedDate  CustomerId  LoanAmount  ProductId LoanReason  \\\n",
       "0     1 2021-06-08 21:54:53.830           2     40000.0          1         NA   \n",
       "1     2 2021-06-09 16:17:15.367           2     45000.0          1         NA   \n",
       "\n",
       "   Installment  Tenor   Rate LoanStatus  ... CreditScore LastLoginTime  \\\n",
       "0     54933.33      3  312.0   Rejected  ...           0          None   \n",
       "1     30900.00      6  312.0   Rejected  ...           0          None   \n",
       "\n",
       "   IsEmailConfirmed   EmailConfirmationDate  PhoneNumberConfirmationDate  \\\n",
       "0              True 2021-06-08 20:50:22.583                         None   \n",
       "1              True 2021-06-08 20:50:22.583                         None   \n",
       "\n",
       "   IsPhoneNumberConfirmed EmployerSector  EmploymentStatus IsVerified  \\\n",
       "0                   False        Private          Employed       None   \n",
       "1                   False        Private          Employed       None   \n",
       "\n",
       "   IsBasicProfileComplete  \n",
       "0                    True  \n",
       "1                    True  \n",
       "\n",
       "[2 rows x 33 columns]"
      ]
     },
     "execution_count": 117,
     "metadata": {},
     "output_type": "execute_result"
    }
   ],
   "source": [
    "customer_loans_account.head(2)"
   ]
  },
  {
   "cell_type": "markdown",
   "metadata": {},
   "source": [
    "### Handling Missing Values"
   ]
  },
  {
   "cell_type": "code",
   "execution_count": 118,
   "metadata": {
    "colab": {
     "base_uri": "https://localhost:8080/"
    },
    "id": "MI_otLHhHRqD",
    "outputId": "60e4b60c-0ee3-4c2b-c599-94cb3290d351"
   },
   "outputs": [
    {
     "data": {
      "text/plain": [
       "Id_x                              0\n",
       "CreatedDate                       0\n",
       "CustomerId                        0\n",
       "LoanAmount                        0\n",
       "ProductId                         0\n",
       "LoanReason                        0\n",
       "Installment                       0\n",
       "Tenor                             0\n",
       "Rate                              0\n",
       "LoanStatus                        0\n",
       "FirstRepaymentDate                0\n",
       "MaturityDate                      0\n",
       "TotalOutstandingPrincipal         0\n",
       "TotalOutstandingInterest          0\n",
       "TotalOutstandingBalance           0\n",
       "IsEmployed                        0\n",
       "IsHomeOwner                    6081\n",
       "RepaymentType                     0\n",
       "LoanPurpose                       0\n",
       "Id_y                              0\n",
       "DateOfBirth                       0\n",
       "Gender                            0\n",
       "MaritalStatus                     0\n",
       "CreditScore                       0\n",
       "LastLoginTime                  6081\n",
       "IsEmailConfirmed                  0\n",
       "EmailConfirmationDate             0\n",
       "PhoneNumberConfirmationDate    6081\n",
       "IsPhoneNumberConfirmed            0\n",
       "EmployerSector                    0\n",
       "EmploymentStatus                  0\n",
       "IsVerified                     6081\n",
       "IsBasicProfileComplete            0\n",
       "dtype: int64"
      ]
     },
     "execution_count": 118,
     "metadata": {},
     "output_type": "execute_result"
    }
   ],
   "source": [
    "#Find Missing values sum\n",
    "customer_loans_account.isnull().sum()"
   ]
  },
  {
   "cell_type": "markdown",
   "metadata": {},
   "source": [
    "### Dropping unwanted cols"
   ]
  },
  {
   "cell_type": "code",
   "execution_count": 119,
   "metadata": {
    "id": "5xt5IDd-Imew"
   },
   "outputs": [],
   "source": [
    "CustomerLoanAccounts.drop(['IsHomeOwner','LastLoginTime','PhoneNumberConfirmationDate','IsVerified'], axis=1, inplace=True)"
   ]
  },
  {
   "cell_type": "code",
   "execution_count": 121,
   "metadata": {},
   "outputs": [
    {
     "data": {
      "text/html": [
       "<div>\n",
       "<style scoped>\n",
       "    .dataframe tbody tr th:only-of-type {\n",
       "        vertical-align: middle;\n",
       "    }\n",
       "\n",
       "    .dataframe tbody tr th {\n",
       "        vertical-align: top;\n",
       "    }\n",
       "\n",
       "    .dataframe thead th {\n",
       "        text-align: right;\n",
       "    }\n",
       "</style>\n",
       "<table border=\"1\" class=\"dataframe\">\n",
       "  <thead>\n",
       "    <tr style=\"text-align: right;\">\n",
       "      <th></th>\n",
       "      <th>Id</th>\n",
       "      <th>CreatedDate</th>\n",
       "      <th>CustomerId</th>\n",
       "      <th>LoanAmount</th>\n",
       "      <th>ProductId</th>\n",
       "      <th>LoanReason</th>\n",
       "      <th>Installment</th>\n",
       "      <th>Tenor</th>\n",
       "      <th>Rate</th>\n",
       "      <th>LoanStatus</th>\n",
       "      <th>...</th>\n",
       "      <th>DateOfBirth</th>\n",
       "      <th>Gender</th>\n",
       "      <th>MaritalStatus</th>\n",
       "      <th>CreditScore</th>\n",
       "      <th>IsEmailConfirmed</th>\n",
       "      <th>EmailConfirmationDate</th>\n",
       "      <th>IsPhoneNumberConfirmed</th>\n",
       "      <th>EmployerSector</th>\n",
       "      <th>EmploymentStatus</th>\n",
       "      <th>IsBasicProfileComplete</th>\n",
       "    </tr>\n",
       "  </thead>\n",
       "  <tbody>\n",
       "    <tr>\n",
       "      <th>0</th>\n",
       "      <td>6</td>\n",
       "      <td>2021-06-09 18:51:18.263</td>\n",
       "      <td>1</td>\n",
       "      <td>25000.0</td>\n",
       "      <td>1</td>\n",
       "      <td>NA</td>\n",
       "      <td>9459.86</td>\n",
       "      <td>6</td>\n",
       "      <td>360.0</td>\n",
       "      <td>Settled</td>\n",
       "      <td>...</td>\n",
       "      <td>1997-06-20</td>\n",
       "      <td>Female</td>\n",
       "      <td>Single</td>\n",
       "      <td>0</td>\n",
       "      <td>True</td>\n",
       "      <td>2021-06-08 20:04:32.227</td>\n",
       "      <td>False</td>\n",
       "      <td>Private</td>\n",
       "      <td>Employed</td>\n",
       "      <td>True</td>\n",
       "    </tr>\n",
       "    <tr>\n",
       "      <th>1</th>\n",
       "      <td>15</td>\n",
       "      <td>2021-06-11 09:34:33.620</td>\n",
       "      <td>1</td>\n",
       "      <td>25000.0</td>\n",
       "      <td>1</td>\n",
       "      <td>NA</td>\n",
       "      <td>9459.86</td>\n",
       "      <td>6</td>\n",
       "      <td>360.0</td>\n",
       "      <td>Settled</td>\n",
       "      <td>...</td>\n",
       "      <td>1997-06-20</td>\n",
       "      <td>Female</td>\n",
       "      <td>Single</td>\n",
       "      <td>0</td>\n",
       "      <td>True</td>\n",
       "      <td>2021-06-08 20:04:32.227</td>\n",
       "      <td>False</td>\n",
       "      <td>Private</td>\n",
       "      <td>Employed</td>\n",
       "      <td>True</td>\n",
       "    </tr>\n",
       "  </tbody>\n",
       "</table>\n",
       "<p>2 rows × 29 columns</p>\n",
       "</div>"
      ],
      "text/plain": [
       "   Id             CreatedDate  CustomerId  LoanAmount  ProductId LoanReason  \\\n",
       "0   6 2021-06-09 18:51:18.263           1     25000.0          1         NA   \n",
       "1  15 2021-06-11 09:34:33.620           1     25000.0          1         NA   \n",
       "\n",
       "   Installment  Tenor   Rate LoanStatus  ... DateOfBirth  Gender  \\\n",
       "0      9459.86      6  360.0    Settled  ...  1997-06-20  Female   \n",
       "1      9459.86      6  360.0    Settled  ...  1997-06-20  Female   \n",
       "\n",
       "   MaritalStatus  CreditScore  IsEmailConfirmed   EmailConfirmationDate  \\\n",
       "0         Single            0              True 2021-06-08 20:04:32.227   \n",
       "1         Single            0              True 2021-06-08 20:04:32.227   \n",
       "\n",
       "   IsPhoneNumberConfirmed EmployerSector  EmploymentStatus  \\\n",
       "0                   False        Private          Employed   \n",
       "1                   False        Private          Employed   \n",
       "\n",
       "  IsBasicProfileComplete  \n",
       "0                   True  \n",
       "1                   True  \n",
       "\n",
       "[2 rows x 29 columns]"
      ]
     },
     "execution_count": 121,
     "metadata": {},
     "output_type": "execute_result"
    }
   ],
   "source": [
    "CustomerLoanAccounts.head(2)"
   ]
  },
  {
   "cell_type": "code",
   "execution_count": 122,
   "metadata": {
    "colab": {
     "base_uri": "https://localhost:8080/"
    },
    "id": "q2D0C6QxRcEF",
    "outputId": "acdf7842-9e32-4a00-e9b8-7f85c0ac9dd8"
   },
   "outputs": [
    {
     "data": {
      "text/plain": [
       "(6081, 29)"
      ]
     },
     "execution_count": 122,
     "metadata": {},
     "output_type": "execute_result"
    }
   ],
   "source": [
    "CustomerLoanAccounts.shape"
   ]
  },
  {
   "cell_type": "code",
   "execution_count": 123,
   "metadata": {
    "colab": {
     "base_uri": "https://localhost:8080/"
    },
    "id": "mRkYP0DsJ_cO",
    "outputId": "e454ab74-5107-4cd2-f050-1be828c6a932"
   },
   "outputs": [
    {
     "data": {
      "text/plain": [
       "Index(['Id', 'CreatedDate', 'CustomerId', 'LoanAmount', 'ProductId',\n",
       "       'LoanReason', 'Installment', 'Tenor', 'Rate', 'LoanStatus',\n",
       "       'FirstRepaymentDate', 'MaturityDate', 'TotalOutstandingPrincipal',\n",
       "       'TotalOutstandingInterest', 'TotalOutstandingBalance', 'IsEmployed',\n",
       "       'RepaymentType', 'LoanPurpose', 'Id', 'DateOfBirth', 'Gender',\n",
       "       'MaritalStatus', 'CreditScore', 'IsEmailConfirmed',\n",
       "       'EmailConfirmationDate', 'IsPhoneNumberConfirmed', 'EmployerSector',\n",
       "       'EmploymentStatus', 'IsBasicProfileComplete'],\n",
       "      dtype='object')"
      ]
     },
     "execution_count": 123,
     "metadata": {},
     "output_type": "execute_result"
    }
   ],
   "source": [
    "CustomerLoanAccounts.columns"
   ]
  },
  {
   "cell_type": "markdown",
   "metadata": {},
   "source": [
    "### Getting only required columns and store the result into new df"
   ]
  },
  {
   "cell_type": "code",
   "execution_count": 124,
   "metadata": {
    "id": "pITixODLJaBj"
   },
   "outputs": [],
   "source": [
    "#Getting only required cols\n",
    "cleaned_customerLoanAccounts = CustomerLoanAccounts[['CreatedDate','CustomerId', 'LoanAmount','Tenor','LoanStatus', 'TotalOutstandingInterest','TotalOutstandingBalance','LoanPurpose','Gender','DateOfBirth','MaritalStatus']]"
   ]
  },
  {
   "cell_type": "code",
   "execution_count": 125,
   "metadata": {
    "colab": {
     "base_uri": "https://localhost:8080/",
     "height": 206
    },
    "id": "Yc6QCdTbKNEf",
    "outputId": "4058fcc7-457d-4499-9d62-a7d282ca0081"
   },
   "outputs": [
    {
     "data": {
      "text/html": [
       "<div>\n",
       "<style scoped>\n",
       "    .dataframe tbody tr th:only-of-type {\n",
       "        vertical-align: middle;\n",
       "    }\n",
       "\n",
       "    .dataframe tbody tr th {\n",
       "        vertical-align: top;\n",
       "    }\n",
       "\n",
       "    .dataframe thead th {\n",
       "        text-align: right;\n",
       "    }\n",
       "</style>\n",
       "<table border=\"1\" class=\"dataframe\">\n",
       "  <thead>\n",
       "    <tr style=\"text-align: right;\">\n",
       "      <th></th>\n",
       "      <th>CreatedDate</th>\n",
       "      <th>CustomerId</th>\n",
       "      <th>LoanAmount</th>\n",
       "      <th>Tenor</th>\n",
       "      <th>LoanStatus</th>\n",
       "      <th>TotalOutstandingInterest</th>\n",
       "      <th>TotalOutstandingBalance</th>\n",
       "      <th>LoanPurpose</th>\n",
       "      <th>Gender</th>\n",
       "      <th>DateOfBirth</th>\n",
       "      <th>MaritalStatus</th>\n",
       "    </tr>\n",
       "  </thead>\n",
       "  <tbody>\n",
       "    <tr>\n",
       "      <th>0</th>\n",
       "      <td>2021-06-09 18:51:18.263</td>\n",
       "      <td>1</td>\n",
       "      <td>25000.0</td>\n",
       "      <td>6</td>\n",
       "      <td>Settled</td>\n",
       "      <td>31759.14</td>\n",
       "      <td>56759.14</td>\n",
       "      <td>Business</td>\n",
       "      <td>Female</td>\n",
       "      <td>1997-06-20</td>\n",
       "      <td>Single</td>\n",
       "    </tr>\n",
       "    <tr>\n",
       "      <th>1</th>\n",
       "      <td>2021-06-11 09:34:33.620</td>\n",
       "      <td>1</td>\n",
       "      <td>25000.0</td>\n",
       "      <td>6</td>\n",
       "      <td>Settled</td>\n",
       "      <td>31759.14</td>\n",
       "      <td>56759.14</td>\n",
       "      <td>Business</td>\n",
       "      <td>Female</td>\n",
       "      <td>1997-06-20</td>\n",
       "      <td>Single</td>\n",
       "    </tr>\n",
       "    <tr>\n",
       "      <th>2</th>\n",
       "      <td>2021-06-30 07:23:26.380</td>\n",
       "      <td>1</td>\n",
       "      <td>35000.0</td>\n",
       "      <td>5</td>\n",
       "      <td>Rejected</td>\n",
       "      <td>36851.77</td>\n",
       "      <td>71851.77</td>\n",
       "      <td>Education</td>\n",
       "      <td>Female</td>\n",
       "      <td>1997-06-20</td>\n",
       "      <td>Single</td>\n",
       "    </tr>\n",
       "    <tr>\n",
       "      <th>3</th>\n",
       "      <td>2021-07-10 21:46:19.800</td>\n",
       "      <td>1</td>\n",
       "      <td>25000.0</td>\n",
       "      <td>6</td>\n",
       "      <td>Rejected</td>\n",
       "      <td>31759.14</td>\n",
       "      <td>56759.14</td>\n",
       "      <td>Education</td>\n",
       "      <td>Female</td>\n",
       "      <td>1997-06-20</td>\n",
       "      <td>Single</td>\n",
       "    </tr>\n",
       "    <tr>\n",
       "      <th>4</th>\n",
       "      <td>2021-09-10 19:42:06.437</td>\n",
       "      <td>1</td>\n",
       "      <td>25000.0</td>\n",
       "      <td>6</td>\n",
       "      <td>Rejected</td>\n",
       "      <td>31759.16</td>\n",
       "      <td>56759.16</td>\n",
       "      <td>Investment</td>\n",
       "      <td>Female</td>\n",
       "      <td>1997-06-20</td>\n",
       "      <td>Single</td>\n",
       "    </tr>\n",
       "  </tbody>\n",
       "</table>\n",
       "</div>"
      ],
      "text/plain": [
       "              CreatedDate  CustomerId  LoanAmount  Tenor LoanStatus  \\\n",
       "0 2021-06-09 18:51:18.263           1     25000.0      6    Settled   \n",
       "1 2021-06-11 09:34:33.620           1     25000.0      6    Settled   \n",
       "2 2021-06-30 07:23:26.380           1     35000.0      5   Rejected   \n",
       "3 2021-07-10 21:46:19.800           1     25000.0      6   Rejected   \n",
       "4 2021-09-10 19:42:06.437           1     25000.0      6   Rejected   \n",
       "\n",
       "   TotalOutstandingInterest  TotalOutstandingBalance LoanPurpose  Gender  \\\n",
       "0                  31759.14                 56759.14    Business  Female   \n",
       "1                  31759.14                 56759.14    Business  Female   \n",
       "2                  36851.77                 71851.77   Education  Female   \n",
       "3                  31759.14                 56759.14   Education  Female   \n",
       "4                  31759.16                 56759.16  Investment  Female   \n",
       "\n",
       "  DateOfBirth MaritalStatus  \n",
       "0  1997-06-20        Single  \n",
       "1  1997-06-20        Single  \n",
       "2  1997-06-20        Single  \n",
       "3  1997-06-20        Single  \n",
       "4  1997-06-20        Single  "
      ]
     },
     "execution_count": 125,
     "metadata": {},
     "output_type": "execute_result"
    }
   ],
   "source": [
    "cleaned_customerLoanAccounts.head()"
   ]
  },
  {
   "cell_type": "markdown",
   "metadata": {
    "id": "dgGv2fkSKjP4"
   },
   "source": [
    "### Answering Business Questions"
   ]
  },
  {
   "cell_type": "code",
   "execution_count": 126,
   "metadata": {
    "id": "GRZN4XzZNobZ"
   },
   "outputs": [],
   "source": [
    "df = cleaned_customerLoanAccounts"
   ]
  },
  {
   "cell_type": "markdown",
   "metadata": {},
   "source": [
    "### Q1. How many customers took a loan?"
   ]
  },
  {
   "cell_type": "code",
   "execution_count": 127,
   "metadata": {
    "colab": {
     "base_uri": "https://localhost:8080/"
    },
    "id": "6UEd9RitK-TS",
    "outputId": "d34d841e-dfef-447a-9cc5-5a3e67218975"
   },
   "outputs": [
    {
     "data": {
      "text/plain": [
       "3716"
      ]
     },
     "execution_count": 127,
     "metadata": {},
     "output_type": "execute_result"
    }
   ],
   "source": [
    "#How many customers took a loan ? \n",
    "df['CustomerId'].nunique()"
   ]
  },
  {
   "cell_type": "markdown",
   "metadata": {},
   "source": [
    "### Q2. How many customers have settled their loadn?"
   ]
  },
  {
   "cell_type": "code",
   "execution_count": 128,
   "metadata": {
    "colab": {
     "base_uri": "https://localhost:8080/"
    },
    "id": "fuA4L0m4SJAa",
    "outputId": "28bc3b15-8fa1-40ee-bc9a-bdd4c47baea7"
   },
   "outputs": [
    {
     "data": {
      "text/plain": [
       "array(['Settled', 'Rejected', 'Due', 'Active'], dtype=object)"
      ]
     },
     "execution_count": 128,
     "metadata": {},
     "output_type": "execute_result"
    }
   ],
   "source": [
    "# How many customers have settled their loan ? - None\n",
    "df.LoanStatus.unique()"
   ]
  },
  {
   "cell_type": "code",
   "execution_count": 129,
   "metadata": {
    "colab": {
     "base_uri": "https://localhost:8080/"
    },
    "id": "madVS6poMAOD",
    "outputId": "8567e478-e710-49a2-9bb6-1cdf8a2f2b83"
   },
   "outputs": [
    {
     "data": {
      "text/plain": [
       "516"
      ]
     },
     "execution_count": 129,
     "metadata": {},
     "output_type": "execute_result"
    }
   ],
   "source": [
    "# How many customers have settled their loan ? - None\n",
    "df[df.LoanStatus == 'Settled'].CustomerId.nunique()"
   ]
  },
  {
   "cell_type": "code",
   "execution_count": 130,
   "metadata": {
    "colab": {
     "base_uri": "https://localhost:8080/",
     "height": 112
    },
    "id": "0mxb_EL9M9bb",
    "outputId": "2d34aef0-4a6f-4942-b6b4-b96ff213440b"
   },
   "outputs": [
    {
     "data": {
      "text/html": [
       "<div>\n",
       "<style scoped>\n",
       "    .dataframe tbody tr th:only-of-type {\n",
       "        vertical-align: middle;\n",
       "    }\n",
       "\n",
       "    .dataframe tbody tr th {\n",
       "        vertical-align: top;\n",
       "    }\n",
       "\n",
       "    .dataframe thead th {\n",
       "        text-align: right;\n",
       "    }\n",
       "</style>\n",
       "<table border=\"1\" class=\"dataframe\">\n",
       "  <thead>\n",
       "    <tr style=\"text-align: right;\">\n",
       "      <th></th>\n",
       "      <th>CreatedDate</th>\n",
       "      <th>CustomerId</th>\n",
       "      <th>LoanAmount</th>\n",
       "      <th>Tenor</th>\n",
       "      <th>LoanStatus</th>\n",
       "      <th>TotalOutstandingInterest</th>\n",
       "      <th>TotalOutstandingBalance</th>\n",
       "      <th>LoanPurpose</th>\n",
       "      <th>Gender</th>\n",
       "      <th>DateOfBirth</th>\n",
       "      <th>MaritalStatus</th>\n",
       "    </tr>\n",
       "  </thead>\n",
       "  <tbody>\n",
       "    <tr>\n",
       "      <th>0</th>\n",
       "      <td>2021-06-09 18:51:18.263</td>\n",
       "      <td>1</td>\n",
       "      <td>25000.0</td>\n",
       "      <td>6</td>\n",
       "      <td>Settled</td>\n",
       "      <td>31759.14</td>\n",
       "      <td>56759.14</td>\n",
       "      <td>Business</td>\n",
       "      <td>Female</td>\n",
       "      <td>1997-06-20</td>\n",
       "      <td>Single</td>\n",
       "    </tr>\n",
       "    <tr>\n",
       "      <th>1</th>\n",
       "      <td>2021-06-11 09:34:33.620</td>\n",
       "      <td>1</td>\n",
       "      <td>25000.0</td>\n",
       "      <td>6</td>\n",
       "      <td>Settled</td>\n",
       "      <td>31759.14</td>\n",
       "      <td>56759.14</td>\n",
       "      <td>Business</td>\n",
       "      <td>Female</td>\n",
       "      <td>1997-06-20</td>\n",
       "      <td>Single</td>\n",
       "    </tr>\n",
       "  </tbody>\n",
       "</table>\n",
       "</div>"
      ],
      "text/plain": [
       "              CreatedDate  CustomerId  LoanAmount  Tenor LoanStatus  \\\n",
       "0 2021-06-09 18:51:18.263           1     25000.0      6    Settled   \n",
       "1 2021-06-11 09:34:33.620           1     25000.0      6    Settled   \n",
       "\n",
       "   TotalOutstandingInterest  TotalOutstandingBalance LoanPurpose  Gender  \\\n",
       "0                  31759.14                 56759.14    Business  Female   \n",
       "1                  31759.14                 56759.14    Business  Female   \n",
       "\n",
       "  DateOfBirth MaritalStatus  \n",
       "0  1997-06-20        Single  \n",
       "1  1997-06-20        Single  "
      ]
     },
     "execution_count": 130,
     "metadata": {},
     "output_type": "execute_result"
    }
   ],
   "source": [
    "df.head(2)"
   ]
  },
  {
   "cell_type": "markdown",
   "metadata": {},
   "source": [
    "### Q3. Loanamount by Tenor with Loanstatus is 'Due'?"
   ]
  },
  {
   "cell_type": "code",
   "execution_count": 131,
   "metadata": {
    "colab": {
     "base_uri": "https://localhost:8080/"
    },
    "id": "2rulD4l9UhDK",
    "outputId": "5fed69da-69dc-49c3-be06-1195f931668e"
   },
   "outputs": [
    {
     "data": {
      "text/plain": [
       "array(['Settled', 'Rejected', 'Due', 'Active'], dtype=object)"
      ]
     },
     "execution_count": 131,
     "metadata": {},
     "output_type": "execute_result"
    }
   ],
   "source": [
    "df.LoanStatus.unique()"
   ]
  },
  {
   "cell_type": "code",
   "execution_count": 132,
   "metadata": {
    "colab": {
     "base_uri": "https://localhost:8080/"
    },
    "id": "AhLy4Uo9NasK",
    "outputId": "8c2b2eef-8d0a-4f1e-bc28-a4321c2dcc7b"
   },
   "outputs": [
    {
     "data": {
      "text/plain": [
       "Tenor\n",
       "3    4.833339e+07\n",
       "4    1.809070e+07\n",
       "5    1.230564e+07\n",
       "6    1.737599e+08\n",
       "Name: TotalOutstandingBalance, dtype: float64"
      ]
     },
     "execution_count": 132,
     "metadata": {},
     "output_type": "execute_result"
    }
   ],
   "source": [
    "# LoanAmount with Loanstatus=Due by Tenor \n",
    "df[df.LoanStatus == 'Due'].groupby('Tenor')['TotalOutstandingBalance'].sum()\n"
   ]
  },
  {
   "cell_type": "markdown",
   "metadata": {},
   "source": [
    "### Q4. Loanamount by LoanPurpose?"
   ]
  },
  {
   "cell_type": "code",
   "execution_count": 133,
   "metadata": {
    "colab": {
     "base_uri": "https://localhost:8080/",
     "height": 206
    },
    "id": "SUo35k91NTWW",
    "outputId": "9f03ee2b-500a-4503-ccba-ae6e1d6448cd"
   },
   "outputs": [
    {
     "data": {
      "text/html": [
       "<div>\n",
       "<style scoped>\n",
       "    .dataframe tbody tr th:only-of-type {\n",
       "        vertical-align: middle;\n",
       "    }\n",
       "\n",
       "    .dataframe tbody tr th {\n",
       "        vertical-align: top;\n",
       "    }\n",
       "\n",
       "    .dataframe thead th {\n",
       "        text-align: right;\n",
       "    }\n",
       "</style>\n",
       "<table border=\"1\" class=\"dataframe\">\n",
       "  <thead>\n",
       "    <tr style=\"text-align: right;\">\n",
       "      <th></th>\n",
       "      <th>CreatedDate</th>\n",
       "      <th>CustomerId</th>\n",
       "      <th>LoanAmount</th>\n",
       "      <th>Tenor</th>\n",
       "      <th>LoanStatus</th>\n",
       "      <th>TotalOutstandingInterest</th>\n",
       "      <th>TotalOutstandingBalance</th>\n",
       "      <th>LoanPurpose</th>\n",
       "      <th>Gender</th>\n",
       "      <th>DateOfBirth</th>\n",
       "      <th>MaritalStatus</th>\n",
       "    </tr>\n",
       "  </thead>\n",
       "  <tbody>\n",
       "    <tr>\n",
       "      <th>0</th>\n",
       "      <td>2021-06-09 18:51:18.263</td>\n",
       "      <td>1</td>\n",
       "      <td>25000.0</td>\n",
       "      <td>6</td>\n",
       "      <td>Settled</td>\n",
       "      <td>31759.14</td>\n",
       "      <td>56759.14</td>\n",
       "      <td>Business</td>\n",
       "      <td>Female</td>\n",
       "      <td>1997-06-20</td>\n",
       "      <td>Single</td>\n",
       "    </tr>\n",
       "    <tr>\n",
       "      <th>1</th>\n",
       "      <td>2021-06-11 09:34:33.620</td>\n",
       "      <td>1</td>\n",
       "      <td>25000.0</td>\n",
       "      <td>6</td>\n",
       "      <td>Settled</td>\n",
       "      <td>31759.14</td>\n",
       "      <td>56759.14</td>\n",
       "      <td>Business</td>\n",
       "      <td>Female</td>\n",
       "      <td>1997-06-20</td>\n",
       "      <td>Single</td>\n",
       "    </tr>\n",
       "  </tbody>\n",
       "</table>\n",
       "</div>"
      ],
      "text/plain": [
       "              CreatedDate  CustomerId  LoanAmount  Tenor LoanStatus  \\\n",
       "0 2021-06-09 18:51:18.263           1     25000.0      6    Settled   \n",
       "1 2021-06-11 09:34:33.620           1     25000.0      6    Settled   \n",
       "\n",
       "   TotalOutstandingInterest  TotalOutstandingBalance LoanPurpose  Gender  \\\n",
       "0                  31759.14                 56759.14    Business  Female   \n",
       "1                  31759.14                 56759.14    Business  Female   \n",
       "\n",
       "  DateOfBirth MaritalStatus  \n",
       "0  1997-06-20        Single  \n",
       "1  1997-06-20        Single  "
      ]
     },
     "execution_count": 133,
     "metadata": {},
     "output_type": "execute_result"
    }
   ],
   "source": [
    "#Average Loan Amount requested by Customer Age (Number)\n",
    "df.head(2)"
   ]
  },
  {
   "cell_type": "code",
   "execution_count": 134,
   "metadata": {
    "colab": {
     "base_uri": "https://localhost:8080/"
    },
    "id": "GVfoXaVxMlKt",
    "outputId": "5aa37aab-0fdf-484c-8814-e910668aace7"
   },
   "outputs": [
    {
     "data": {
      "text/plain": [
       "LoanPurpose\n",
       "Bills                 18026000.0\n",
       "Business             286201300.0\n",
       "CarExpense             8241000.0\n",
       "DebtConsideration      3273000.0\n",
       "Education             20761000.0\n",
       "Emergency             59735000.0\n",
       "Entertainment          1325000.0\n",
       "Food_Provisions        6745000.0\n",
       "Investment            32185000.0\n",
       "MedicalBills          27031000.0\n",
       "PocketMoney            1310000.0\n",
       "Rent                  40566009.0\n",
       "SpecialEvents          4435000.0\n",
       "Name: LoanAmount, dtype: float64"
      ]
     },
     "execution_count": 134,
     "metadata": {},
     "output_type": "execute_result"
    }
   ],
   "source": [
    "# Loan Amount by Purpose\n",
    "df.groupby('LoanPurpose').LoanAmount.sum()"
   ]
  },
  {
   "cell_type": "markdown",
   "metadata": {
    "id": "-QAoH96TWhL4"
   },
   "source": [
    "### Q5. Average Loanamount requested by customer age(number)?"
   ]
  },
  {
   "cell_type": "code",
   "execution_count": 135,
   "metadata": {},
   "outputs": [
    {
     "data": {
      "text/html": [
       "<div>\n",
       "<style scoped>\n",
       "    .dataframe tbody tr th:only-of-type {\n",
       "        vertical-align: middle;\n",
       "    }\n",
       "\n",
       "    .dataframe tbody tr th {\n",
       "        vertical-align: top;\n",
       "    }\n",
       "\n",
       "    .dataframe thead th {\n",
       "        text-align: right;\n",
       "    }\n",
       "</style>\n",
       "<table border=\"1\" class=\"dataframe\">\n",
       "  <thead>\n",
       "    <tr style=\"text-align: right;\">\n",
       "      <th></th>\n",
       "      <th>CreatedDate</th>\n",
       "      <th>CustomerId</th>\n",
       "      <th>LoanAmount</th>\n",
       "      <th>Tenor</th>\n",
       "      <th>LoanStatus</th>\n",
       "      <th>TotalOutstandingInterest</th>\n",
       "      <th>TotalOutstandingBalance</th>\n",
       "      <th>LoanPurpose</th>\n",
       "      <th>Gender</th>\n",
       "      <th>DateOfBirth</th>\n",
       "      <th>MaritalStatus</th>\n",
       "    </tr>\n",
       "  </thead>\n",
       "  <tbody>\n",
       "    <tr>\n",
       "      <th>0</th>\n",
       "      <td>2021-06-09 18:51:18.263</td>\n",
       "      <td>1</td>\n",
       "      <td>25000.0</td>\n",
       "      <td>6</td>\n",
       "      <td>Settled</td>\n",
       "      <td>31759.14</td>\n",
       "      <td>56759.14</td>\n",
       "      <td>Business</td>\n",
       "      <td>Female</td>\n",
       "      <td>1997-06-20</td>\n",
       "      <td>Single</td>\n",
       "    </tr>\n",
       "    <tr>\n",
       "      <th>1</th>\n",
       "      <td>2021-06-11 09:34:33.620</td>\n",
       "      <td>1</td>\n",
       "      <td>25000.0</td>\n",
       "      <td>6</td>\n",
       "      <td>Settled</td>\n",
       "      <td>31759.14</td>\n",
       "      <td>56759.14</td>\n",
       "      <td>Business</td>\n",
       "      <td>Female</td>\n",
       "      <td>1997-06-20</td>\n",
       "      <td>Single</td>\n",
       "    </tr>\n",
       "  </tbody>\n",
       "</table>\n",
       "</div>"
      ],
      "text/plain": [
       "              CreatedDate  CustomerId  LoanAmount  Tenor LoanStatus  \\\n",
       "0 2021-06-09 18:51:18.263           1     25000.0      6    Settled   \n",
       "1 2021-06-11 09:34:33.620           1     25000.0      6    Settled   \n",
       "\n",
       "   TotalOutstandingInterest  TotalOutstandingBalance LoanPurpose  Gender  \\\n",
       "0                  31759.14                 56759.14    Business  Female   \n",
       "1                  31759.14                 56759.14    Business  Female   \n",
       "\n",
       "  DateOfBirth MaritalStatus  \n",
       "0  1997-06-20        Single  \n",
       "1  1997-06-20        Single  "
      ]
     },
     "execution_count": 135,
     "metadata": {},
     "output_type": "execute_result"
    }
   ],
   "source": [
    "df.head(2)"
   ]
  },
  {
   "cell_type": "code",
   "execution_count": 136,
   "metadata": {},
   "outputs": [],
   "source": [
    "# To safely disable SettingWithCopywarning with the following assignment.\n",
    "pd.options.mode.chained_assignment = None  # default='warn'"
   ]
  },
  {
   "cell_type": "code",
   "execution_count": 137,
   "metadata": {
    "colab": {
     "base_uri": "https://localhost:8080/"
    },
    "id": "0S7Wk0eBWJA4",
    "outputId": "735d8836-d78e-4e8f-c3ae-1dff6aaeaf45"
   },
   "outputs": [],
   "source": [
    "\n",
    "#Solution 1\n",
    "now = pd.Timestamp('now')\n",
    "df['age'] = (now - df['DateOfBirth']).astype('<m8[Y]')  "
   ]
  },
  {
   "cell_type": "code",
   "execution_count": 138,
   "metadata": {
    "colab": {
     "base_uri": "https://localhost:8080/",
     "height": 206
    },
    "id": "kCcuRzvnWYcF",
    "outputId": "5da92bed-5451-464c-bfe6-0a2bba58efa7"
   },
   "outputs": [
    {
     "data": {
      "text/html": [
       "<div>\n",
       "<style scoped>\n",
       "    .dataframe tbody tr th:only-of-type {\n",
       "        vertical-align: middle;\n",
       "    }\n",
       "\n",
       "    .dataframe tbody tr th {\n",
       "        vertical-align: top;\n",
       "    }\n",
       "\n",
       "    .dataframe thead th {\n",
       "        text-align: right;\n",
       "    }\n",
       "</style>\n",
       "<table border=\"1\" class=\"dataframe\">\n",
       "  <thead>\n",
       "    <tr style=\"text-align: right;\">\n",
       "      <th></th>\n",
       "      <th>CreatedDate</th>\n",
       "      <th>CustomerId</th>\n",
       "      <th>LoanAmount</th>\n",
       "      <th>Tenor</th>\n",
       "      <th>LoanStatus</th>\n",
       "      <th>TotalOutstandingInterest</th>\n",
       "      <th>TotalOutstandingBalance</th>\n",
       "      <th>LoanPurpose</th>\n",
       "      <th>Gender</th>\n",
       "      <th>DateOfBirth</th>\n",
       "      <th>MaritalStatus</th>\n",
       "      <th>age</th>\n",
       "    </tr>\n",
       "  </thead>\n",
       "  <tbody>\n",
       "    <tr>\n",
       "      <th>0</th>\n",
       "      <td>2021-06-09 18:51:18.263</td>\n",
       "      <td>1</td>\n",
       "      <td>25000.0</td>\n",
       "      <td>6</td>\n",
       "      <td>Settled</td>\n",
       "      <td>31759.14</td>\n",
       "      <td>56759.14</td>\n",
       "      <td>Business</td>\n",
       "      <td>Female</td>\n",
       "      <td>1997-06-20</td>\n",
       "      <td>Single</td>\n",
       "      <td>24.0</td>\n",
       "    </tr>\n",
       "    <tr>\n",
       "      <th>1</th>\n",
       "      <td>2021-06-11 09:34:33.620</td>\n",
       "      <td>1</td>\n",
       "      <td>25000.0</td>\n",
       "      <td>6</td>\n",
       "      <td>Settled</td>\n",
       "      <td>31759.14</td>\n",
       "      <td>56759.14</td>\n",
       "      <td>Business</td>\n",
       "      <td>Female</td>\n",
       "      <td>1997-06-20</td>\n",
       "      <td>Single</td>\n",
       "      <td>24.0</td>\n",
       "    </tr>\n",
       "    <tr>\n",
       "      <th>2</th>\n",
       "      <td>2021-06-30 07:23:26.380</td>\n",
       "      <td>1</td>\n",
       "      <td>35000.0</td>\n",
       "      <td>5</td>\n",
       "      <td>Rejected</td>\n",
       "      <td>36851.77</td>\n",
       "      <td>71851.77</td>\n",
       "      <td>Education</td>\n",
       "      <td>Female</td>\n",
       "      <td>1997-06-20</td>\n",
       "      <td>Single</td>\n",
       "      <td>24.0</td>\n",
       "    </tr>\n",
       "    <tr>\n",
       "      <th>3</th>\n",
       "      <td>2021-07-10 21:46:19.800</td>\n",
       "      <td>1</td>\n",
       "      <td>25000.0</td>\n",
       "      <td>6</td>\n",
       "      <td>Rejected</td>\n",
       "      <td>31759.14</td>\n",
       "      <td>56759.14</td>\n",
       "      <td>Education</td>\n",
       "      <td>Female</td>\n",
       "      <td>1997-06-20</td>\n",
       "      <td>Single</td>\n",
       "      <td>24.0</td>\n",
       "    </tr>\n",
       "    <tr>\n",
       "      <th>4</th>\n",
       "      <td>2021-09-10 19:42:06.437</td>\n",
       "      <td>1</td>\n",
       "      <td>25000.0</td>\n",
       "      <td>6</td>\n",
       "      <td>Rejected</td>\n",
       "      <td>31759.16</td>\n",
       "      <td>56759.16</td>\n",
       "      <td>Investment</td>\n",
       "      <td>Female</td>\n",
       "      <td>1997-06-20</td>\n",
       "      <td>Single</td>\n",
       "      <td>24.0</td>\n",
       "    </tr>\n",
       "  </tbody>\n",
       "</table>\n",
       "</div>"
      ],
      "text/plain": [
       "              CreatedDate  CustomerId  LoanAmount  Tenor LoanStatus  \\\n",
       "0 2021-06-09 18:51:18.263           1     25000.0      6    Settled   \n",
       "1 2021-06-11 09:34:33.620           1     25000.0      6    Settled   \n",
       "2 2021-06-30 07:23:26.380           1     35000.0      5   Rejected   \n",
       "3 2021-07-10 21:46:19.800           1     25000.0      6   Rejected   \n",
       "4 2021-09-10 19:42:06.437           1     25000.0      6   Rejected   \n",
       "\n",
       "   TotalOutstandingInterest  TotalOutstandingBalance LoanPurpose  Gender  \\\n",
       "0                  31759.14                 56759.14    Business  Female   \n",
       "1                  31759.14                 56759.14    Business  Female   \n",
       "2                  36851.77                 71851.77   Education  Female   \n",
       "3                  31759.14                 56759.14   Education  Female   \n",
       "4                  31759.16                 56759.16  Investment  Female   \n",
       "\n",
       "  DateOfBirth MaritalStatus   age  \n",
       "0  1997-06-20        Single  24.0  \n",
       "1  1997-06-20        Single  24.0  \n",
       "2  1997-06-20        Single  24.0  \n",
       "3  1997-06-20        Single  24.0  \n",
       "4  1997-06-20        Single  24.0  "
      ]
     },
     "execution_count": 138,
     "metadata": {},
     "output_type": "execute_result"
    }
   ],
   "source": [
    "df.head()"
   ]
  },
  {
   "cell_type": "code",
   "execution_count": 139,
   "metadata": {
    "colab": {
     "base_uri": "https://localhost:8080/"
    },
    "id": "Mh_4ak0vWj5O",
    "outputId": "8f1db916-1927-4b92-9541-ee6754aac54e"
   },
   "outputs": [
    {
     "data": {
      "text/plain": [
       "age\n",
       "18.0     2725000.0\n",
       "19.0      770000.0\n",
       "20.0     4200000.0\n",
       "21.0     6295000.0\n",
       "22.0     9324000.0\n",
       "23.0     7216000.0\n",
       "24.0    12376000.0\n",
       "25.0    14376000.0\n",
       "26.0    17120000.0\n",
       "27.0    19451500.0\n",
       "28.0    24145009.0\n",
       "29.0    25685500.0\n",
       "30.0    20910000.0\n",
       "31.0    28970000.0\n",
       "32.0    28525500.0\n",
       "33.0    25315000.0\n",
       "34.0    25733800.0\n",
       "35.0    24125000.0\n",
       "36.0    26711000.0\n",
       "37.0    20461000.0\n",
       "38.0    23406000.0\n",
       "39.0    16969000.0\n",
       "40.0    15519000.0\n",
       "41.0    13750000.0\n",
       "42.0    13020000.0\n",
       "43.0    12944000.0\n",
       "44.0    11965000.0\n",
       "45.0     6637000.0\n",
       "46.0    11010000.0\n",
       "47.0     4680000.0\n",
       "48.0     4600000.0\n",
       "49.0     4305000.0\n",
       "50.0     1857000.0\n",
       "51.0     3880000.0\n",
       "52.0     1760000.0\n",
       "53.0     3163000.0\n",
       "54.0     2390000.0\n",
       "55.0      912000.0\n",
       "56.0     3720000.0\n",
       "57.0     1845000.0\n",
       "58.0     1551000.0\n",
       "59.0      390000.0\n",
       "60.0      965000.0\n",
       "61.0     1830000.0\n",
       "62.0      496000.0\n",
       "63.0      640000.0\n",
       "65.0     1150000.0\n",
       "71.0       45000.0\n",
       "Name: LoanAmount, dtype: float64"
      ]
     },
     "execution_count": 139,
     "metadata": {},
     "output_type": "execute_result"
    }
   ],
   "source": [
    "df.groupby('age').LoanAmount.sum()"
   ]
  },
  {
   "cell_type": "code",
   "execution_count": 140,
   "metadata": {
    "colab": {
     "base_uri": "https://localhost:8080/"
    },
    "id": "Yc0nnuRdW1jN",
    "outputId": "bbc851c8-3cf6-422a-c239-04656d7fa098"
   },
   "outputs": [
    {
     "data": {
      "text/plain": [
       "Age\n",
       "19     86515.151515\n",
       "20     42666.666667\n",
       "21     76696.428571\n",
       "22     54912.280702\n",
       "23     70640.287770\n",
       "24     46583.333333\n",
       "25     56898.148148\n",
       "26     58859.922179\n",
       "27     67900.826446\n",
       "28     76869.140625\n",
       "29     82587.444056\n",
       "30     71254.716981\n",
       "31     80278.810409\n",
       "32     85665.634675\n",
       "33    101403.010033\n",
       "34     86297.101449\n",
       "35     96617.228464\n",
       "36     85750.853242\n",
       "37     81092.024540\n",
       "38     87144.104803\n",
       "39     90279.527559\n",
       "40     87170.984456\n",
       "41     91825.581395\n",
       "42     95941.558442\n",
       "43     95000.000000\n",
       "44    110688.524590\n",
       "45    121413.043478\n",
       "46     87964.705882\n",
       "47    111098.901099\n",
       "48     79237.288136\n",
       "49    108452.380952\n",
       "50    121081.081081\n",
       "51     93444.444444\n",
       "52    117575.757576\n",
       "53     92631.578947\n",
       "54    103121.212121\n",
       "55     93478.260870\n",
       "56    118357.142857\n",
       "57    157894.736842\n",
       "58    108611.111111\n",
       "59    100400.000000\n",
       "60     60000.000000\n",
       "61    160833.333333\n",
       "62    123750.000000\n",
       "63    115333.333333\n",
       "64    128000.000000\n",
       "65     35000.000000\n",
       "66    223000.000000\n",
       "72     45000.000000\n",
       "Name: LoanAmount, dtype: float64"
      ]
     },
     "execution_count": 140,
     "metadata": {},
     "output_type": "execute_result"
    }
   ],
   "source": [
    "# Solution 2\n",
    "df['Age'] = 2022 - df['DateOfBirth'].dt.year\n",
    "df.groupby('Age')['LoanAmount'].mean()\n"
   ]
  },
  {
   "cell_type": "code",
   "execution_count": null,
   "metadata": {},
   "outputs": [],
   "source": [
    "Total Loan amount disbursed by DisbursedMonth, Gender, Tenor.\n",
    "Average days to disburse loan from application date ( Loan creation date, Loan Disbursement Date)\n",
    "Average Loan amount disbursed to Female for Business Purpose\n",
    "Average Age of Customers requesting loan for Educational Purpose\n",
    "Customers with the max credit score, average tenor for the loan disbursed to them.\n"
   ]
  },
  {
   "cell_type": "code",
   "execution_count": null,
   "metadata": {},
   "outputs": [],
   "source": [
    "# Total Loan amount disbursed by DisbursedMonth, Gender, Tenor"
   ]
  },
  {
   "cell_type": "code",
   "execution_count": 141,
   "metadata": {},
   "outputs": [
    {
     "data": {
      "text/html": [
       "<div>\n",
       "<style scoped>\n",
       "    .dataframe tbody tr th:only-of-type {\n",
       "        vertical-align: middle;\n",
       "    }\n",
       "\n",
       "    .dataframe tbody tr th {\n",
       "        vertical-align: top;\n",
       "    }\n",
       "\n",
       "    .dataframe thead th {\n",
       "        text-align: right;\n",
       "    }\n",
       "</style>\n",
       "<table border=\"1\" class=\"dataframe\">\n",
       "  <thead>\n",
       "    <tr style=\"text-align: right;\">\n",
       "      <th></th>\n",
       "      <th>CreatedDate</th>\n",
       "      <th>CustomerId</th>\n",
       "      <th>LoanAmount</th>\n",
       "      <th>Tenor</th>\n",
       "      <th>LoanStatus</th>\n",
       "      <th>TotalOutstandingInterest</th>\n",
       "      <th>TotalOutstandingBalance</th>\n",
       "      <th>LoanPurpose</th>\n",
       "      <th>Gender</th>\n",
       "      <th>DateOfBirth</th>\n",
       "      <th>MaritalStatus</th>\n",
       "      <th>age</th>\n",
       "      <th>Age</th>\n",
       "    </tr>\n",
       "  </thead>\n",
       "  <tbody>\n",
       "    <tr>\n",
       "      <th>0</th>\n",
       "      <td>2021-06-09 18:51:18.263</td>\n",
       "      <td>1</td>\n",
       "      <td>25000.0</td>\n",
       "      <td>6</td>\n",
       "      <td>Settled</td>\n",
       "      <td>31759.14</td>\n",
       "      <td>56759.14</td>\n",
       "      <td>Business</td>\n",
       "      <td>Female</td>\n",
       "      <td>1997-06-20</td>\n",
       "      <td>Single</td>\n",
       "      <td>24.0</td>\n",
       "      <td>25</td>\n",
       "    </tr>\n",
       "    <tr>\n",
       "      <th>1</th>\n",
       "      <td>2021-06-11 09:34:33.620</td>\n",
       "      <td>1</td>\n",
       "      <td>25000.0</td>\n",
       "      <td>6</td>\n",
       "      <td>Settled</td>\n",
       "      <td>31759.14</td>\n",
       "      <td>56759.14</td>\n",
       "      <td>Business</td>\n",
       "      <td>Female</td>\n",
       "      <td>1997-06-20</td>\n",
       "      <td>Single</td>\n",
       "      <td>24.0</td>\n",
       "      <td>25</td>\n",
       "    </tr>\n",
       "  </tbody>\n",
       "</table>\n",
       "</div>"
      ],
      "text/plain": [
       "              CreatedDate  CustomerId  LoanAmount  Tenor LoanStatus  \\\n",
       "0 2021-06-09 18:51:18.263           1     25000.0      6    Settled   \n",
       "1 2021-06-11 09:34:33.620           1     25000.0      6    Settled   \n",
       "\n",
       "   TotalOutstandingInterest  TotalOutstandingBalance LoanPurpose  Gender  \\\n",
       "0                  31759.14                 56759.14    Business  Female   \n",
       "1                  31759.14                 56759.14    Business  Female   \n",
       "\n",
       "  DateOfBirth MaritalStatus   age  Age  \n",
       "0  1997-06-20        Single  24.0   25  \n",
       "1  1997-06-20        Single  24.0   25  "
      ]
     },
     "execution_count": 141,
     "metadata": {},
     "output_type": "execute_result"
    }
   ],
   "source": [
    "df.head(2)"
   ]
  },
  {
   "cell_type": "code",
   "execution_count": null,
   "metadata": {},
   "outputs": [],
   "source": [
    "df.groupby('LoanAmount')['']"
   ]
  },
  {
   "cell_type": "code",
   "execution_count": 96,
   "metadata": {},
   "outputs": [],
   "source": [
    "#Get the TransactionLog data from database and store it in dataframe\n",
    "query3 = 'SELECT * FROM [TransactionsLog]'\n",
    "\n",
    "transactions = pd.read_sql(query3, conn)"
   ]
  },
  {
   "cell_type": "code",
   "execution_count": 97,
   "metadata": {},
   "outputs": [
    {
     "data": {
      "text/html": [
       "<div>\n",
       "<style scoped>\n",
       "    .dataframe tbody tr th:only-of-type {\n",
       "        vertical-align: middle;\n",
       "    }\n",
       "\n",
       "    .dataframe tbody tr th {\n",
       "        vertical-align: top;\n",
       "    }\n",
       "\n",
       "    .dataframe thead th {\n",
       "        text-align: right;\n",
       "    }\n",
       "</style>\n",
       "<table border=\"1\" class=\"dataframe\">\n",
       "  <thead>\n",
       "    <tr style=\"text-align: right;\">\n",
       "      <th></th>\n",
       "      <th>Id</th>\n",
       "      <th>CreatedDate</th>\n",
       "      <th>Amount</th>\n",
       "      <th>PaymentType</th>\n",
       "      <th>LoanAccountId</th>\n",
       "      <th>RepaymentDate</th>\n",
       "      <th>RepaymentDeduction</th>\n",
       "    </tr>\n",
       "  </thead>\n",
       "  <tbody>\n",
       "    <tr>\n",
       "      <th>0</th>\n",
       "      <td>1</td>\n",
       "      <td>2021-06-09 18:51:36.960</td>\n",
       "      <td>25000.0</td>\n",
       "      <td>LoanDisbursement</td>\n",
       "      <td>5</td>\n",
       "      <td>2021-06-09 18:51:36.960</td>\n",
       "      <td></td>\n",
       "    </tr>\n",
       "    <tr>\n",
       "      <th>1</th>\n",
       "      <td>2</td>\n",
       "      <td>2021-06-09 19:03:07.937</td>\n",
       "      <td>45000.0</td>\n",
       "      <td>LoanDisbursement</td>\n",
       "      <td>7</td>\n",
       "      <td>2021-06-09 19:03:07.937</td>\n",
       "      <td></td>\n",
       "    </tr>\n",
       "  </tbody>\n",
       "</table>\n",
       "</div>"
      ],
      "text/plain": [
       "   Id             CreatedDate   Amount       PaymentType  LoanAccountId  \\\n",
       "0   1 2021-06-09 18:51:36.960  25000.0  LoanDisbursement              5   \n",
       "1   2 2021-06-09 19:03:07.937  45000.0  LoanDisbursement              7   \n",
       "\n",
       "            RepaymentDate RepaymentDeduction  \n",
       "0 2021-06-09 18:51:36.960                     \n",
       "1 2021-06-09 19:03:07.937                     "
      ]
     },
     "execution_count": 97,
     "metadata": {},
     "output_type": "execute_result"
    }
   ],
   "source": [
    "transactions.head(2)"
   ]
  },
  {
   "cell_type": "code",
   "execution_count": 102,
   "metadata": {},
   "outputs": [
    {
     "data": {
      "text/plain": [
       "CPA                        5919\n",
       "BankTransfer               5077\n",
       "LoanDisbursement           2798\n",
       "CardPayment                2566\n",
       "Liquidation                1357\n",
       "Withdrawal_Cancellation     315\n",
       "CashDeposit                  15\n",
       "GoodwillCredit                5\n",
       "Name: PaymentType, dtype: int64"
      ]
     },
     "execution_count": 102,
     "metadata": {},
     "output_type": "execute_result"
    }
   ],
   "source": [
    "transactions.PaymentType.value_counts()"
   ]
  },
  {
   "cell_type": "code",
   "execution_count": 143,
   "metadata": {},
   "outputs": [
    {
     "data": {
      "text/html": [
       "<div>\n",
       "<style scoped>\n",
       "    .dataframe tbody tr th:only-of-type {\n",
       "        vertical-align: middle;\n",
       "    }\n",
       "\n",
       "    .dataframe tbody tr th {\n",
       "        vertical-align: top;\n",
       "    }\n",
       "\n",
       "    .dataframe thead th {\n",
       "        text-align: right;\n",
       "    }\n",
       "</style>\n",
       "<table border=\"1\" class=\"dataframe\">\n",
       "  <thead>\n",
       "    <tr style=\"text-align: right;\">\n",
       "      <th></th>\n",
       "      <th>Id</th>\n",
       "      <th>CreatedDate</th>\n",
       "      <th>CustomerId</th>\n",
       "      <th>LoanAmount</th>\n",
       "      <th>ProductId</th>\n",
       "      <th>LoanReason</th>\n",
       "      <th>Installment</th>\n",
       "      <th>Tenor</th>\n",
       "      <th>Rate</th>\n",
       "      <th>LoanStatus</th>\n",
       "      <th>...</th>\n",
       "      <th>DateOfBirth</th>\n",
       "      <th>Gender</th>\n",
       "      <th>MaritalStatus</th>\n",
       "      <th>CreditScore</th>\n",
       "      <th>IsEmailConfirmed</th>\n",
       "      <th>EmailConfirmationDate</th>\n",
       "      <th>IsPhoneNumberConfirmed</th>\n",
       "      <th>EmployerSector</th>\n",
       "      <th>EmploymentStatus</th>\n",
       "      <th>IsBasicProfileComplete</th>\n",
       "    </tr>\n",
       "  </thead>\n",
       "  <tbody>\n",
       "    <tr>\n",
       "      <th>0</th>\n",
       "      <td>6</td>\n",
       "      <td>2021-06-09 18:51:18.263</td>\n",
       "      <td>1</td>\n",
       "      <td>25000.0</td>\n",
       "      <td>1</td>\n",
       "      <td>NA</td>\n",
       "      <td>9459.86</td>\n",
       "      <td>6</td>\n",
       "      <td>360.0</td>\n",
       "      <td>Settled</td>\n",
       "      <td>...</td>\n",
       "      <td>1997-06-20</td>\n",
       "      <td>Female</td>\n",
       "      <td>Single</td>\n",
       "      <td>0</td>\n",
       "      <td>True</td>\n",
       "      <td>2021-06-08 20:04:32.227</td>\n",
       "      <td>False</td>\n",
       "      <td>Private</td>\n",
       "      <td>Employed</td>\n",
       "      <td>True</td>\n",
       "    </tr>\n",
       "    <tr>\n",
       "      <th>1</th>\n",
       "      <td>15</td>\n",
       "      <td>2021-06-11 09:34:33.620</td>\n",
       "      <td>1</td>\n",
       "      <td>25000.0</td>\n",
       "      <td>1</td>\n",
       "      <td>NA</td>\n",
       "      <td>9459.86</td>\n",
       "      <td>6</td>\n",
       "      <td>360.0</td>\n",
       "      <td>Settled</td>\n",
       "      <td>...</td>\n",
       "      <td>1997-06-20</td>\n",
       "      <td>Female</td>\n",
       "      <td>Single</td>\n",
       "      <td>0</td>\n",
       "      <td>True</td>\n",
       "      <td>2021-06-08 20:04:32.227</td>\n",
       "      <td>False</td>\n",
       "      <td>Private</td>\n",
       "      <td>Employed</td>\n",
       "      <td>True</td>\n",
       "    </tr>\n",
       "    <tr>\n",
       "      <th>2</th>\n",
       "      <td>227</td>\n",
       "      <td>2021-06-30 07:23:26.380</td>\n",
       "      <td>1</td>\n",
       "      <td>35000.0</td>\n",
       "      <td>1</td>\n",
       "      <td>NA</td>\n",
       "      <td>14370.35</td>\n",
       "      <td>5</td>\n",
       "      <td>360.0</td>\n",
       "      <td>Rejected</td>\n",
       "      <td>...</td>\n",
       "      <td>1997-06-20</td>\n",
       "      <td>Female</td>\n",
       "      <td>Single</td>\n",
       "      <td>0</td>\n",
       "      <td>True</td>\n",
       "      <td>2021-06-08 20:04:32.227</td>\n",
       "      <td>False</td>\n",
       "      <td>Private</td>\n",
       "      <td>Employed</td>\n",
       "      <td>True</td>\n",
       "    </tr>\n",
       "    <tr>\n",
       "      <th>3</th>\n",
       "      <td>1207</td>\n",
       "      <td>2021-07-10 21:46:19.800</td>\n",
       "      <td>1</td>\n",
       "      <td>25000.0</td>\n",
       "      <td>1</td>\n",
       "      <td>NA</td>\n",
       "      <td>9459.86</td>\n",
       "      <td>6</td>\n",
       "      <td>360.0</td>\n",
       "      <td>Rejected</td>\n",
       "      <td>...</td>\n",
       "      <td>1997-06-20</td>\n",
       "      <td>Female</td>\n",
       "      <td>Single</td>\n",
       "      <td>0</td>\n",
       "      <td>True</td>\n",
       "      <td>2021-06-08 20:04:32.227</td>\n",
       "      <td>False</td>\n",
       "      <td>Private</td>\n",
       "      <td>Employed</td>\n",
       "      <td>True</td>\n",
       "    </tr>\n",
       "    <tr>\n",
       "      <th>4</th>\n",
       "      <td>5509</td>\n",
       "      <td>2021-09-10 19:42:06.437</td>\n",
       "      <td>1</td>\n",
       "      <td>25000.0</td>\n",
       "      <td>1</td>\n",
       "      <td>NA</td>\n",
       "      <td>9459.86</td>\n",
       "      <td>6</td>\n",
       "      <td>360.0</td>\n",
       "      <td>Rejected</td>\n",
       "      <td>...</td>\n",
       "      <td>1997-06-20</td>\n",
       "      <td>Female</td>\n",
       "      <td>Single</td>\n",
       "      <td>0</td>\n",
       "      <td>True</td>\n",
       "      <td>2021-06-08 20:04:32.227</td>\n",
       "      <td>False</td>\n",
       "      <td>Private</td>\n",
       "      <td>Employed</td>\n",
       "      <td>True</td>\n",
       "    </tr>\n",
       "  </tbody>\n",
       "</table>\n",
       "<p>5 rows × 29 columns</p>\n",
       "</div>"
      ],
      "text/plain": [
       "     Id             CreatedDate  CustomerId  LoanAmount  ProductId LoanReason  \\\n",
       "0     6 2021-06-09 18:51:18.263           1     25000.0          1         NA   \n",
       "1    15 2021-06-11 09:34:33.620           1     25000.0          1         NA   \n",
       "2   227 2021-06-30 07:23:26.380           1     35000.0          1         NA   \n",
       "3  1207 2021-07-10 21:46:19.800           1     25000.0          1         NA   \n",
       "4  5509 2021-09-10 19:42:06.437           1     25000.0          1         NA   \n",
       "\n",
       "   Installment  Tenor   Rate LoanStatus  ... DateOfBirth  Gender  \\\n",
       "0      9459.86      6  360.0    Settled  ...  1997-06-20  Female   \n",
       "1      9459.86      6  360.0    Settled  ...  1997-06-20  Female   \n",
       "2     14370.35      5  360.0   Rejected  ...  1997-06-20  Female   \n",
       "3      9459.86      6  360.0   Rejected  ...  1997-06-20  Female   \n",
       "4      9459.86      6  360.0   Rejected  ...  1997-06-20  Female   \n",
       "\n",
       "   MaritalStatus  CreditScore  IsEmailConfirmed   EmailConfirmationDate  \\\n",
       "0         Single            0              True 2021-06-08 20:04:32.227   \n",
       "1         Single            0              True 2021-06-08 20:04:32.227   \n",
       "2         Single            0              True 2021-06-08 20:04:32.227   \n",
       "3         Single            0              True 2021-06-08 20:04:32.227   \n",
       "4         Single            0              True 2021-06-08 20:04:32.227   \n",
       "\n",
       "   IsPhoneNumberConfirmed EmployerSector  EmploymentStatus  \\\n",
       "0                   False        Private          Employed   \n",
       "1                   False        Private          Employed   \n",
       "2                   False        Private          Employed   \n",
       "3                   False        Private          Employed   \n",
       "4                   False        Private          Employed   \n",
       "\n",
       "  IsBasicProfileComplete  \n",
       "0                   True  \n",
       "1                   True  \n",
       "2                   True  \n",
       "3                   True  \n",
       "4                   True  \n",
       "\n",
       "[5 rows x 29 columns]"
      ]
     },
     "execution_count": 143,
     "metadata": {},
     "output_type": "execute_result"
    }
   ],
   "source": [
    "CustomerLoanAccounts.head()"
   ]
  },
  {
   "cell_type": "code",
   "execution_count": 142,
   "metadata": {},
   "outputs": [
    {
     "ename": "ValueError",
     "evalue": "The column label 'Id' is not unique.",
     "output_type": "error",
     "traceback": [
      "\u001b[1;31m---------------------------------------------------------------------------\u001b[0m",
      "\u001b[1;31mValueError\u001b[0m                                Traceback (most recent call last)",
      "\u001b[1;32m<ipython-input-142-aaf2344dae57>\u001b[0m in \u001b[0;36m<module>\u001b[1;34m\u001b[0m\n\u001b[1;32m----> 1\u001b[1;33m \u001b[0mcustomer_loan_transactions\u001b[0m \u001b[1;33m=\u001b[0m \u001b[0mCustomerLoanAccounts\u001b[0m\u001b[1;33m.\u001b[0m\u001b[0mmerge\u001b[0m\u001b[1;33m(\u001b[0m\u001b[0mtransactions\u001b[0m\u001b[1;33m,\u001b[0m \u001b[0mon\u001b[0m\u001b[1;33m=\u001b[0m\u001b[1;34m'Id'\u001b[0m\u001b[1;33m)\u001b[0m\u001b[1;33m\u001b[0m\u001b[1;33m\u001b[0m\u001b[0m\n\u001b[0m",
      "\u001b[1;32mC:\\ProgramData\\Anaconda3\\lib\\site-packages\\pandas\\core\\frame.py\u001b[0m in \u001b[0;36mmerge\u001b[1;34m(self, right, how, on, left_on, right_on, left_index, right_index, sort, suffixes, copy, indicator, validate)\u001b[0m\n\u001b[0;32m   7295\u001b[0m             \u001b[0mcopy\u001b[0m\u001b[1;33m=\u001b[0m\u001b[0mcopy\u001b[0m\u001b[1;33m,\u001b[0m\u001b[1;33m\u001b[0m\u001b[1;33m\u001b[0m\u001b[0m\n\u001b[0;32m   7296\u001b[0m             \u001b[0mindicator\u001b[0m\u001b[1;33m=\u001b[0m\u001b[0mindicator\u001b[0m\u001b[1;33m,\u001b[0m\u001b[1;33m\u001b[0m\u001b[1;33m\u001b[0m\u001b[0m\n\u001b[1;32m-> 7297\u001b[1;33m             \u001b[0mvalidate\u001b[0m\u001b[1;33m=\u001b[0m\u001b[0mvalidate\u001b[0m\u001b[1;33m,\u001b[0m\u001b[1;33m\u001b[0m\u001b[1;33m\u001b[0m\u001b[0m\n\u001b[0m\u001b[0;32m   7298\u001b[0m         )\n\u001b[0;32m   7299\u001b[0m \u001b[1;33m\u001b[0m\u001b[0m\n",
      "\u001b[1;32mC:\\ProgramData\\Anaconda3\\lib\\site-packages\\pandas\\core\\reshape\\merge.py\u001b[0m in \u001b[0;36mmerge\u001b[1;34m(left, right, how, on, left_on, right_on, left_index, right_index, sort, suffixes, copy, indicator, validate)\u001b[0m\n\u001b[0;32m     84\u001b[0m         \u001b[0mcopy\u001b[0m\u001b[1;33m=\u001b[0m\u001b[0mcopy\u001b[0m\u001b[1;33m,\u001b[0m\u001b[1;33m\u001b[0m\u001b[1;33m\u001b[0m\u001b[0m\n\u001b[0;32m     85\u001b[0m         \u001b[0mindicator\u001b[0m\u001b[1;33m=\u001b[0m\u001b[0mindicator\u001b[0m\u001b[1;33m,\u001b[0m\u001b[1;33m\u001b[0m\u001b[1;33m\u001b[0m\u001b[0m\n\u001b[1;32m---> 86\u001b[1;33m         \u001b[0mvalidate\u001b[0m\u001b[1;33m=\u001b[0m\u001b[0mvalidate\u001b[0m\u001b[1;33m,\u001b[0m\u001b[1;33m\u001b[0m\u001b[1;33m\u001b[0m\u001b[0m\n\u001b[0m\u001b[0;32m     87\u001b[0m     )\n\u001b[0;32m     88\u001b[0m     \u001b[1;32mreturn\u001b[0m \u001b[0mop\u001b[0m\u001b[1;33m.\u001b[0m\u001b[0mget_result\u001b[0m\u001b[1;33m(\u001b[0m\u001b[1;33m)\u001b[0m\u001b[1;33m\u001b[0m\u001b[1;33m\u001b[0m\u001b[0m\n",
      "\u001b[1;32mC:\\ProgramData\\Anaconda3\\lib\\site-packages\\pandas\\core\\reshape\\merge.py\u001b[0m in \u001b[0;36m__init__\u001b[1;34m(self, left, right, how, on, left_on, right_on, axis, left_index, right_index, sort, suffixes, copy, indicator, validate)\u001b[0m\n\u001b[0;32m    625\u001b[0m             \u001b[0mself\u001b[0m\u001b[1;33m.\u001b[0m\u001b[0mright_join_keys\u001b[0m\u001b[1;33m,\u001b[0m\u001b[1;33m\u001b[0m\u001b[1;33m\u001b[0m\u001b[0m\n\u001b[0;32m    626\u001b[0m             \u001b[0mself\u001b[0m\u001b[1;33m.\u001b[0m\u001b[0mjoin_names\u001b[0m\u001b[1;33m,\u001b[0m\u001b[1;33m\u001b[0m\u001b[1;33m\u001b[0m\u001b[0m\n\u001b[1;32m--> 627\u001b[1;33m         ) = self._get_merge_keys()\n\u001b[0m\u001b[0;32m    628\u001b[0m \u001b[1;33m\u001b[0m\u001b[0m\n\u001b[0;32m    629\u001b[0m         \u001b[1;31m# validate the merge keys dtypes. We may need to coerce\u001b[0m\u001b[1;33m\u001b[0m\u001b[1;33m\u001b[0m\u001b[1;33m\u001b[0m\u001b[0m\n",
      "\u001b[1;32mC:\\ProgramData\\Anaconda3\\lib\\site-packages\\pandas\\core\\reshape\\merge.py\u001b[0m in \u001b[0;36m_get_merge_keys\u001b[1;34m(self)\u001b[0m\n\u001b[0;32m    994\u001b[0m                         \u001b[0mright_keys\u001b[0m\u001b[1;33m.\u001b[0m\u001b[0mappend\u001b[0m\u001b[1;33m(\u001b[0m\u001b[0mrk\u001b[0m\u001b[1;33m)\u001b[0m\u001b[1;33m\u001b[0m\u001b[1;33m\u001b[0m\u001b[0m\n\u001b[0;32m    995\u001b[0m                     \u001b[1;32mif\u001b[0m \u001b[0mlk\u001b[0m \u001b[1;32mis\u001b[0m \u001b[1;32mnot\u001b[0m \u001b[1;32mNone\u001b[0m\u001b[1;33m:\u001b[0m\u001b[1;33m\u001b[0m\u001b[1;33m\u001b[0m\u001b[0m\n\u001b[1;32m--> 996\u001b[1;33m                         \u001b[0mleft_keys\u001b[0m\u001b[1;33m.\u001b[0m\u001b[0mappend\u001b[0m\u001b[1;33m(\u001b[0m\u001b[0mleft\u001b[0m\u001b[1;33m.\u001b[0m\u001b[0m_get_label_or_level_values\u001b[0m\u001b[1;33m(\u001b[0m\u001b[0mlk\u001b[0m\u001b[1;33m)\u001b[0m\u001b[1;33m)\u001b[0m\u001b[1;33m\u001b[0m\u001b[1;33m\u001b[0m\u001b[0m\n\u001b[0m\u001b[0;32m    997\u001b[0m                         \u001b[0mjoin_names\u001b[0m\u001b[1;33m.\u001b[0m\u001b[0mappend\u001b[0m\u001b[1;33m(\u001b[0m\u001b[0mlk\u001b[0m\u001b[1;33m)\u001b[0m\u001b[1;33m\u001b[0m\u001b[1;33m\u001b[0m\u001b[0m\n\u001b[0;32m    998\u001b[0m                     \u001b[1;32melse\u001b[0m\u001b[1;33m:\u001b[0m\u001b[1;33m\u001b[0m\u001b[1;33m\u001b[0m\u001b[0m\n",
      "\u001b[1;32mC:\\ProgramData\\Anaconda3\\lib\\site-packages\\pandas\\core\\generic.py\u001b[0m in \u001b[0;36m_get_label_or_level_values\u001b[1;34m(self, key, axis)\u001b[0m\n\u001b[0;32m   1708\u001b[0m             raise ValueError(\n\u001b[0;32m   1709\u001b[0m                 (\n\u001b[1;32m-> 1710\u001b[1;33m                     \u001b[1;34mf\"The {label_axis_name} label '{key}' \"\u001b[0m\u001b[1;33m\u001b[0m\u001b[1;33m\u001b[0m\u001b[0m\n\u001b[0m\u001b[0;32m   1711\u001b[0m                     \u001b[1;34mf\"is not unique.{multi_message}\"\u001b[0m\u001b[1;33m\u001b[0m\u001b[1;33m\u001b[0m\u001b[0m\n\u001b[0;32m   1712\u001b[0m                 )\n",
      "\u001b[1;31mValueError\u001b[0m: The column label 'Id' is not unique."
     ]
    }
   ],
   "source": [
    "customer_loan_transactions = CustomerLoanAccounts.merge(transactions, on='Id')"
   ]
  },
  {
   "cell_type": "code",
   "execution_count": null,
   "metadata": {},
   "outputs": [],
   "source": []
  }
 ],
 "metadata": {
  "colab": {
   "collapsed_sections": [],
   "name": "Data Manipulation3_LoanDataSetipynb",
   "provenance": []
  },
  "kernelspec": {
   "display_name": "Python 3",
   "language": "python",
   "name": "python3"
  },
  "language_info": {
   "codemirror_mode": {
    "name": "ipython",
    "version": 3
   },
   "file_extension": ".py",
   "mimetype": "text/x-python",
   "name": "python",
   "nbconvert_exporter": "python",
   "pygments_lexer": "ipython3",
   "version": "3.7.6"
  }
 },
 "nbformat": 4,
 "nbformat_minor": 1
}
