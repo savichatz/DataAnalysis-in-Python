{
 "cells": [
  {
   "cell_type": "markdown",
   "metadata": {},
   "source": [
    "### Data Manipulation of Sales Data"
   ]
  },
  {
   "cell_type": "markdown",
   "metadata": {},
   "source": [
    "* The commands that I am using for this project :\n",
    "    * df.head()\n",
    "    * df.dtypes()\n",
    "    * df.describe()\n",
    "    * df.shape\n",
    "    * df['col_name'].value_counts()\n",
    "    * df['col_name'].unique()\n",
    "* Operations on Date column\n",
    "    * df['date_col'] = pd.to_datetime(df['date_col'])\n",
    "    * df['year'] = df['date_col'].dt.year\n",
    "    * df['dayname'] = df['date_col'].dt.day_name()\n",
    "    * df['month'] = df['date_col'].dt.month_name()\n",
    "    * df['day_number'] = df['date_col'].dt.day #Deafault starts from Mon-0, Tues=1..Sun-6\n",
    "\n",
    "    * df.drop(columns = ['col1','col2'], inplace=True) #to drop multiple cols\n",
    "    \n",
    "#### Handling Missing Values\n",
    "\n",
    "* Identifing missing values \n",
    "     * df.isnull().sum()/df[df.isnull.sum()]\n",
    "* Updating missing values, manually based on exising data\n",
    "     *  solution 1 - df.loc[row_index, col_name] = 'value to be updated'\n",
    "     *  solution 2 - df.loc[df['col_name'].isnull(), 'col_name'] = 'value to be updated'\n",
    "\n",
    "#### Handling Outliers\n",
    "\n",
    "* Identifying outliers on daily Sales using scatter plot on 'sales' vs 'day of the month'\n",
    "    * fig, ax = plt.subplots(figsize=(16, 8))\n",
    "    * ax.scatter(df['day'], df['sales'])\n",
    "    * ax.set_xlabel(\"Day of the Month\")\n",
    "    * ax.set_ylabel(\"Sales\")\n",
    "    * plt.show()\n",
    "\n",
    "    * print all outliers in a dataframe based on criteria\n",
    "        * df[df['col_name'] >10000]\n",
    "    * Replacing outlier with NaN\n",
    "         * df.loc[df['col_name']>10000, 'col_name'] = np.NaN\n",
    "    * verify scatter plot after updating outliers\n",
    "\n",
    "### Answering Key BUSINESS QUESTIONs\n",
    "\n",
    "* Q1 Weekday Stats on below\n",
    "    * a. Sum of Sales by week day\n",
    "    * b. Sum of revenue by week day\n",
    "    * c. Average revenue by week day\n",
    "\n",
    "        * solution 1 - df.groupby('week_day').agg({'sales':'sum','revenue':['sum','mean']})\n",
    "        * solution 2 - data.groupby('week_day')[['sales','revenue']].agg(['sum','mean'])\n",
    "\n",
    "* Q2 Compute the percentage contribution to the overall revenue by day\n",
    "    * solution 1 - df['percentage'] = df['revenue']/df['revenue'].sum() * 100\n",
    "    * print dataframe df.head()\n",
    "\n",
    "  \n"
   ]
  },
  {
   "cell_type": "code",
   "execution_count": 251,
   "metadata": {},
   "outputs": [],
   "source": [
    "import pandas as pd\n",
    "import numpy as np\n",
    "import matplotlib.pyplot as plt"
   ]
  },
  {
   "cell_type": "code",
   "execution_count": 252,
   "metadata": {},
   "outputs": [],
   "source": [
    "sales = pd.read_csv(r'C:\\Savithri\\HyperIsland\\DA23_Projects\\Project6_Python\\DataManipulation_Emmanuel\\dummy_data_sales - sales.csv')"
   ]
  },
  {
   "cell_type": "code",
   "execution_count": 253,
   "metadata": {},
   "outputs": [
    {
     "data": {
      "text/html": [
       "<div>\n",
       "<style scoped>\n",
       "    .dataframe tbody tr th:only-of-type {\n",
       "        vertical-align: middle;\n",
       "    }\n",
       "\n",
       "    .dataframe tbody tr th {\n",
       "        vertical-align: top;\n",
       "    }\n",
       "\n",
       "    .dataframe thead th {\n",
       "        text-align: right;\n",
       "    }\n",
       "</style>\n",
       "<table border=\"1\" class=\"dataframe\">\n",
       "  <thead>\n",
       "    <tr style=\"text-align: right;\">\n",
       "      <th></th>\n",
       "      <th>id</th>\n",
       "      <th>date</th>\n",
       "      <th>emp_id</th>\n",
       "      <th>product_id</th>\n",
       "      <th>sales</th>\n",
       "      <th>price</th>\n",
       "    </tr>\n",
       "  </thead>\n",
       "  <tbody>\n",
       "    <tr>\n",
       "      <th>0</th>\n",
       "      <td>1</td>\n",
       "      <td>01/01/2019</td>\n",
       "      <td>A1</td>\n",
       "      <td>P1</td>\n",
       "      <td>30</td>\n",
       "      <td>11.5</td>\n",
       "    </tr>\n",
       "    <tr>\n",
       "      <th>1</th>\n",
       "      <td>2</td>\n",
       "      <td>01/02/2019</td>\n",
       "      <td>A1</td>\n",
       "      <td>P1</td>\n",
       "      <td>28</td>\n",
       "      <td>11.5</td>\n",
       "    </tr>\n",
       "  </tbody>\n",
       "</table>\n",
       "</div>"
      ],
      "text/plain": [
       "   id        date emp_id product_id  sales  price\n",
       "0   1  01/01/2019     A1         P1     30   11.5\n",
       "1   2  01/02/2019     A1         P1     28   11.5"
      ]
     },
     "execution_count": 253,
     "metadata": {},
     "output_type": "execute_result"
    }
   ],
   "source": [
    "sales.head(2)"
   ]
  },
  {
   "cell_type": "code",
   "execution_count": 254,
   "metadata": {},
   "outputs": [
    {
     "data": {
      "text/plain": [
       "(31, 6)"
      ]
     },
     "execution_count": 254,
     "metadata": {},
     "output_type": "execute_result"
    }
   ],
   "source": [
    "sales.shape"
   ]
  },
  {
   "cell_type": "code",
   "execution_count": 255,
   "metadata": {},
   "outputs": [
    {
     "data": {
      "text/plain": [
       "id              int64\n",
       "date           object\n",
       "emp_id         object\n",
       "product_id     object\n",
       "sales           int64\n",
       "price         float64\n",
       "dtype: object"
      ]
     },
     "execution_count": 255,
     "metadata": {},
     "output_type": "execute_result"
    }
   ],
   "source": [
    "sales.dtypes"
   ]
  },
  {
   "cell_type": "code",
   "execution_count": 256,
   "metadata": {},
   "outputs": [
    {
     "data": {
      "text/html": [
       "<div>\n",
       "<style scoped>\n",
       "    .dataframe tbody tr th:only-of-type {\n",
       "        vertical-align: middle;\n",
       "    }\n",
       "\n",
       "    .dataframe tbody tr th {\n",
       "        vertical-align: top;\n",
       "    }\n",
       "\n",
       "    .dataframe thead th {\n",
       "        text-align: right;\n",
       "    }\n",
       "</style>\n",
       "<table border=\"1\" class=\"dataframe\">\n",
       "  <thead>\n",
       "    <tr style=\"text-align: right;\">\n",
       "      <th></th>\n",
       "      <th>id</th>\n",
       "      <th>sales</th>\n",
       "      <th>price</th>\n",
       "    </tr>\n",
       "  </thead>\n",
       "  <tbody>\n",
       "    <tr>\n",
       "      <th>count</th>\n",
       "      <td>31.000000</td>\n",
       "      <td>31.000000</td>\n",
       "      <td>30.0</td>\n",
       "    </tr>\n",
       "    <tr>\n",
       "      <th>mean</th>\n",
       "      <td>16.000000</td>\n",
       "      <td>3046.032258</td>\n",
       "      <td>11.5</td>\n",
       "    </tr>\n",
       "    <tr>\n",
       "      <th>std</th>\n",
       "      <td>9.092121</td>\n",
       "      <td>11912.803397</td>\n",
       "      <td>0.0</td>\n",
       "    </tr>\n",
       "    <tr>\n",
       "      <th>min</th>\n",
       "      <td>1.000000</td>\n",
       "      <td>27.000000</td>\n",
       "      <td>11.5</td>\n",
       "    </tr>\n",
       "    <tr>\n",
       "      <th>25%</th>\n",
       "      <td>8.500000</td>\n",
       "      <td>43.000000</td>\n",
       "      <td>11.5</td>\n",
       "    </tr>\n",
       "    <tr>\n",
       "      <th>50%</th>\n",
       "      <td>16.000000</td>\n",
       "      <td>50.000000</td>\n",
       "      <td>11.5</td>\n",
       "    </tr>\n",
       "    <tr>\n",
       "      <th>75%</th>\n",
       "      <td>23.500000</td>\n",
       "      <td>58.500000</td>\n",
       "      <td>11.5</td>\n",
       "    </tr>\n",
       "    <tr>\n",
       "      <th>max</th>\n",
       "      <td>31.000000</td>\n",
       "      <td>57000.000000</td>\n",
       "      <td>11.5</td>\n",
       "    </tr>\n",
       "  </tbody>\n",
       "</table>\n",
       "</div>"
      ],
      "text/plain": [
       "              id         sales  price\n",
       "count  31.000000     31.000000   30.0\n",
       "mean   16.000000   3046.032258   11.5\n",
       "std     9.092121  11912.803397    0.0\n",
       "min     1.000000     27.000000   11.5\n",
       "25%     8.500000     43.000000   11.5\n",
       "50%    16.000000     50.000000   11.5\n",
       "75%    23.500000     58.500000   11.5\n",
       "max    31.000000  57000.000000   11.5"
      ]
     },
     "execution_count": 256,
     "metadata": {},
     "output_type": "execute_result"
    }
   ],
   "source": [
    "sales.describe()"
   ]
  },
  {
   "cell_type": "code",
   "execution_count": 257,
   "metadata": {},
   "outputs": [
    {
     "data": {
      "text/plain": [
       "id            0\n",
       "date          3\n",
       "emp_id        0\n",
       "product_id    0\n",
       "sales         0\n",
       "price         1\n",
       "dtype: int64"
      ]
     },
     "execution_count": 257,
     "metadata": {},
     "output_type": "execute_result"
    }
   ],
   "source": [
    "sales.isnull().sum() #Missing values"
   ]
  },
  {
   "cell_type": "code",
   "execution_count": 258,
   "metadata": {},
   "outputs": [
    {
     "data": {
      "text/html": [
       "<div>\n",
       "<style scoped>\n",
       "    .dataframe tbody tr th:only-of-type {\n",
       "        vertical-align: middle;\n",
       "    }\n",
       "\n",
       "    .dataframe tbody tr th {\n",
       "        vertical-align: top;\n",
       "    }\n",
       "\n",
       "    .dataframe thead th {\n",
       "        text-align: right;\n",
       "    }\n",
       "</style>\n",
       "<table border=\"1\" class=\"dataframe\">\n",
       "  <thead>\n",
       "    <tr style=\"text-align: right;\">\n",
       "      <th></th>\n",
       "      <th>id</th>\n",
       "      <th>date</th>\n",
       "      <th>emp_id</th>\n",
       "      <th>product_id</th>\n",
       "      <th>sales</th>\n",
       "      <th>price</th>\n",
       "    </tr>\n",
       "  </thead>\n",
       "  <tbody>\n",
       "    <tr>\n",
       "      <th>0</th>\n",
       "      <td>1</td>\n",
       "      <td>01/01/2019</td>\n",
       "      <td>A1</td>\n",
       "      <td>P1</td>\n",
       "      <td>30</td>\n",
       "      <td>11.5</td>\n",
       "    </tr>\n",
       "    <tr>\n",
       "      <th>1</th>\n",
       "      <td>2</td>\n",
       "      <td>01/02/2019</td>\n",
       "      <td>A1</td>\n",
       "      <td>P1</td>\n",
       "      <td>28</td>\n",
       "      <td>11.5</td>\n",
       "    </tr>\n",
       "  </tbody>\n",
       "</table>\n",
       "</div>"
      ],
      "text/plain": [
       "   id        date emp_id product_id  sales  price\n",
       "0   1  01/01/2019     A1         P1     30   11.5\n",
       "1   2  01/02/2019     A1         P1     28   11.5"
      ]
     },
     "execution_count": 258,
     "metadata": {},
     "output_type": "execute_result"
    }
   ],
   "source": [
    "sales.head(2)"
   ]
  },
  {
   "cell_type": "markdown",
   "metadata": {},
   "source": [
    "### Handling Missing values"
   ]
  },
  {
   "cell_type": "markdown",
   "metadata": {},
   "source": [
    "#### Identiyfing Missing values"
   ]
  },
  {
   "cell_type": "code",
   "execution_count": 259,
   "metadata": {},
   "outputs": [
    {
     "data": {
      "text/html": [
       "<div>\n",
       "<style scoped>\n",
       "    .dataframe tbody tr th:only-of-type {\n",
       "        vertical-align: middle;\n",
       "    }\n",
       "\n",
       "    .dataframe tbody tr th {\n",
       "        vertical-align: top;\n",
       "    }\n",
       "\n",
       "    .dataframe thead th {\n",
       "        text-align: right;\n",
       "    }\n",
       "</style>\n",
       "<table border=\"1\" class=\"dataframe\">\n",
       "  <thead>\n",
       "    <tr style=\"text-align: right;\">\n",
       "      <th></th>\n",
       "      <th>id</th>\n",
       "      <th>date</th>\n",
       "      <th>emp_id</th>\n",
       "      <th>product_id</th>\n",
       "      <th>sales</th>\n",
       "      <th>price</th>\n",
       "    </tr>\n",
       "  </thead>\n",
       "  <tbody>\n",
       "    <tr>\n",
       "      <th>7</th>\n",
       "      <td>8</td>\n",
       "      <td>NaN</td>\n",
       "      <td>A1</td>\n",
       "      <td>P1</td>\n",
       "      <td>40</td>\n",
       "      <td>11.5</td>\n",
       "    </tr>\n",
       "    <tr>\n",
       "      <th>18</th>\n",
       "      <td>19</td>\n",
       "      <td>NaN</td>\n",
       "      <td>A1</td>\n",
       "      <td>P1</td>\n",
       "      <td>56</td>\n",
       "      <td>11.5</td>\n",
       "    </tr>\n",
       "    <tr>\n",
       "      <th>24</th>\n",
       "      <td>25</td>\n",
       "      <td>NaN</td>\n",
       "      <td>A1</td>\n",
       "      <td>P1</td>\n",
       "      <td>65</td>\n",
       "      <td>11.5</td>\n",
       "    </tr>\n",
       "  </tbody>\n",
       "</table>\n",
       "</div>"
      ],
      "text/plain": [
       "    id date emp_id product_id  sales  price\n",
       "7    8  NaN     A1         P1     40   11.5\n",
       "18  19  NaN     A1         P1     56   11.5\n",
       "24  25  NaN     A1         P1     65   11.5"
      ]
     },
     "execution_count": 259,
     "metadata": {},
     "output_type": "execute_result"
    }
   ],
   "source": [
    "#Filter for missing dates \n",
    "#solution1 \n",
    "filter_missing_date = sales['date'].isnull()\n",
    "sales.loc[filter_missing_date]"
   ]
  },
  {
   "cell_type": "code",
   "execution_count": 260,
   "metadata": {},
   "outputs": [
    {
     "data": {
      "text/html": [
       "<div>\n",
       "<style scoped>\n",
       "    .dataframe tbody tr th:only-of-type {\n",
       "        vertical-align: middle;\n",
       "    }\n",
       "\n",
       "    .dataframe tbody tr th {\n",
       "        vertical-align: top;\n",
       "    }\n",
       "\n",
       "    .dataframe thead th {\n",
       "        text-align: right;\n",
       "    }\n",
       "</style>\n",
       "<table border=\"1\" class=\"dataframe\">\n",
       "  <thead>\n",
       "    <tr style=\"text-align: right;\">\n",
       "      <th></th>\n",
       "      <th>id</th>\n",
       "      <th>date</th>\n",
       "      <th>emp_id</th>\n",
       "      <th>product_id</th>\n",
       "      <th>sales</th>\n",
       "      <th>price</th>\n",
       "    </tr>\n",
       "  </thead>\n",
       "  <tbody>\n",
       "    <tr>\n",
       "      <th>7</th>\n",
       "      <td>8</td>\n",
       "      <td>NaN</td>\n",
       "      <td>A1</td>\n",
       "      <td>P1</td>\n",
       "      <td>40</td>\n",
       "      <td>11.5</td>\n",
       "    </tr>\n",
       "    <tr>\n",
       "      <th>18</th>\n",
       "      <td>19</td>\n",
       "      <td>NaN</td>\n",
       "      <td>A1</td>\n",
       "      <td>P1</td>\n",
       "      <td>56</td>\n",
       "      <td>11.5</td>\n",
       "    </tr>\n",
       "    <tr>\n",
       "      <th>24</th>\n",
       "      <td>25</td>\n",
       "      <td>NaN</td>\n",
       "      <td>A1</td>\n",
       "      <td>P1</td>\n",
       "      <td>65</td>\n",
       "      <td>11.5</td>\n",
       "    </tr>\n",
       "  </tbody>\n",
       "</table>\n",
       "</div>"
      ],
      "text/plain": [
       "    id date emp_id product_id  sales  price\n",
       "7    8  NaN     A1         P1     40   11.5\n",
       "18  19  NaN     A1         P1     56   11.5\n",
       "24  25  NaN     A1         P1     65   11.5"
      ]
     },
     "execution_count": 260,
     "metadata": {},
     "output_type": "execute_result"
    }
   ],
   "source": [
    "#solution 2\n",
    "sales[sales.date.isnull()]"
   ]
  },
  {
   "cell_type": "code",
   "execution_count": 261,
   "metadata": {},
   "outputs": [
    {
     "data": {
      "text/plain": [
       "29"
      ]
     },
     "execution_count": 261,
     "metadata": {},
     "output_type": "execute_result"
    }
   ],
   "source": [
    "len(sales['date'].unique())"
   ]
  },
  {
   "cell_type": "code",
   "execution_count": 262,
   "metadata": {},
   "outputs": [
    {
     "data": {
      "text/html": [
       "<div>\n",
       "<style scoped>\n",
       "    .dataframe tbody tr th:only-of-type {\n",
       "        vertical-align: middle;\n",
       "    }\n",
       "\n",
       "    .dataframe tbody tr th {\n",
       "        vertical-align: top;\n",
       "    }\n",
       "\n",
       "    .dataframe thead th {\n",
       "        text-align: right;\n",
       "    }\n",
       "</style>\n",
       "<table border=\"1\" class=\"dataframe\">\n",
       "  <thead>\n",
       "    <tr style=\"text-align: right;\">\n",
       "      <th></th>\n",
       "      <th>id</th>\n",
       "      <th>date</th>\n",
       "      <th>emp_id</th>\n",
       "      <th>product_id</th>\n",
       "      <th>sales</th>\n",
       "      <th>price</th>\n",
       "    </tr>\n",
       "  </thead>\n",
       "  <tbody>\n",
       "    <tr>\n",
       "      <th>0</th>\n",
       "      <td>1</td>\n",
       "      <td>01/01/2019</td>\n",
       "      <td>A1</td>\n",
       "      <td>P1</td>\n",
       "      <td>30</td>\n",
       "      <td>11.5</td>\n",
       "    </tr>\n",
       "    <tr>\n",
       "      <th>1</th>\n",
       "      <td>2</td>\n",
       "      <td>01/02/2019</td>\n",
       "      <td>A1</td>\n",
       "      <td>P1</td>\n",
       "      <td>28</td>\n",
       "      <td>11.5</td>\n",
       "    </tr>\n",
       "    <tr>\n",
       "      <th>2</th>\n",
       "      <td>3</td>\n",
       "      <td>01/03/2019</td>\n",
       "      <td>A1</td>\n",
       "      <td>P1</td>\n",
       "      <td>43</td>\n",
       "      <td>11.5</td>\n",
       "    </tr>\n",
       "    <tr>\n",
       "      <th>3</th>\n",
       "      <td>4</td>\n",
       "      <td>01/04/2019</td>\n",
       "      <td>A1</td>\n",
       "      <td>P1</td>\n",
       "      <td>45</td>\n",
       "      <td>11.5</td>\n",
       "    </tr>\n",
       "    <tr>\n",
       "      <th>4</th>\n",
       "      <td>5</td>\n",
       "      <td>01/05/2019</td>\n",
       "      <td>A1</td>\n",
       "      <td>P1</td>\n",
       "      <td>57</td>\n",
       "      <td>11.5</td>\n",
       "    </tr>\n",
       "    <tr>\n",
       "      <th>5</th>\n",
       "      <td>6</td>\n",
       "      <td>01/06/2019</td>\n",
       "      <td>A1</td>\n",
       "      <td>P1</td>\n",
       "      <td>33</td>\n",
       "      <td>11.5</td>\n",
       "    </tr>\n",
       "    <tr>\n",
       "      <th>6</th>\n",
       "      <td>7</td>\n",
       "      <td>01/07/2019</td>\n",
       "      <td>A1</td>\n",
       "      <td>P1</td>\n",
       "      <td>27</td>\n",
       "      <td>11.5</td>\n",
       "    </tr>\n",
       "    <tr>\n",
       "      <th>7</th>\n",
       "      <td>8</td>\n",
       "      <td>NaN</td>\n",
       "      <td>A1</td>\n",
       "      <td>P1</td>\n",
       "      <td>40</td>\n",
       "      <td>11.5</td>\n",
       "    </tr>\n",
       "    <tr>\n",
       "      <th>8</th>\n",
       "      <td>9</td>\n",
       "      <td>01/09/2019</td>\n",
       "      <td>A1</td>\n",
       "      <td>P1</td>\n",
       "      <td>41</td>\n",
       "      <td>11.5</td>\n",
       "    </tr>\n",
       "    <tr>\n",
       "      <th>9</th>\n",
       "      <td>10</td>\n",
       "      <td>01/10/2019</td>\n",
       "      <td>A1</td>\n",
       "      <td>P1</td>\n",
       "      <td>36000</td>\n",
       "      <td>11.5</td>\n",
       "    </tr>\n",
       "    <tr>\n",
       "      <th>10</th>\n",
       "      <td>11</td>\n",
       "      <td>01/11/2019</td>\n",
       "      <td>A1</td>\n",
       "      <td>P1</td>\n",
       "      <td>44</td>\n",
       "      <td>11.5</td>\n",
       "    </tr>\n",
       "    <tr>\n",
       "      <th>11</th>\n",
       "      <td>12</td>\n",
       "      <td>01/12/2019</td>\n",
       "      <td>A1</td>\n",
       "      <td>P1</td>\n",
       "      <td>46</td>\n",
       "      <td>11.5</td>\n",
       "    </tr>\n",
       "    <tr>\n",
       "      <th>12</th>\n",
       "      <td>13</td>\n",
       "      <td>01/13/2019</td>\n",
       "      <td>A1</td>\n",
       "      <td>P1</td>\n",
       "      <td>47</td>\n",
       "      <td>11.5</td>\n",
       "    </tr>\n",
       "    <tr>\n",
       "      <th>13</th>\n",
       "      <td>14</td>\n",
       "      <td>01/14/2019</td>\n",
       "      <td>A1</td>\n",
       "      <td>P1</td>\n",
       "      <td>48</td>\n",
       "      <td>11.5</td>\n",
       "    </tr>\n",
       "    <tr>\n",
       "      <th>14</th>\n",
       "      <td>15</td>\n",
       "      <td>01/15/2019</td>\n",
       "      <td>A1</td>\n",
       "      <td>P1</td>\n",
       "      <td>50</td>\n",
       "      <td>11.5</td>\n",
       "    </tr>\n",
       "    <tr>\n",
       "      <th>15</th>\n",
       "      <td>16</td>\n",
       "      <td>01/16/2019</td>\n",
       "      <td>A1</td>\n",
       "      <td>P1</td>\n",
       "      <td>51</td>\n",
       "      <td>NaN</td>\n",
       "    </tr>\n",
       "    <tr>\n",
       "      <th>16</th>\n",
       "      <td>17</td>\n",
       "      <td>01/17/2019</td>\n",
       "      <td>A1</td>\n",
       "      <td>P1</td>\n",
       "      <td>53</td>\n",
       "      <td>11.5</td>\n",
       "    </tr>\n",
       "    <tr>\n",
       "      <th>17</th>\n",
       "      <td>18</td>\n",
       "      <td>01/18/2019</td>\n",
       "      <td>A1</td>\n",
       "      <td>P1</td>\n",
       "      <td>54</td>\n",
       "      <td>11.5</td>\n",
       "    </tr>\n",
       "    <tr>\n",
       "      <th>18</th>\n",
       "      <td>19</td>\n",
       "      <td>NaN</td>\n",
       "      <td>A1</td>\n",
       "      <td>P1</td>\n",
       "      <td>56</td>\n",
       "      <td>11.5</td>\n",
       "    </tr>\n",
       "    <tr>\n",
       "      <th>19</th>\n",
       "      <td>20</td>\n",
       "      <td>01/20/2019</td>\n",
       "      <td>A1</td>\n",
       "      <td>P1</td>\n",
       "      <td>57</td>\n",
       "      <td>11.5</td>\n",
       "    </tr>\n",
       "    <tr>\n",
       "      <th>20</th>\n",
       "      <td>21</td>\n",
       "      <td>01/21/2019</td>\n",
       "      <td>A1</td>\n",
       "      <td>P1</td>\n",
       "      <td>57000</td>\n",
       "      <td>11.5</td>\n",
       "    </tr>\n",
       "    <tr>\n",
       "      <th>21</th>\n",
       "      <td>22</td>\n",
       "      <td>01/22/2019</td>\n",
       "      <td>A1</td>\n",
       "      <td>P1</td>\n",
       "      <td>60</td>\n",
       "      <td>11.5</td>\n",
       "    </tr>\n",
       "    <tr>\n",
       "      <th>22</th>\n",
       "      <td>23</td>\n",
       "      <td>01/23/2019</td>\n",
       "      <td>A1</td>\n",
       "      <td>P1</td>\n",
       "      <td>62</td>\n",
       "      <td>11.5</td>\n",
       "    </tr>\n",
       "    <tr>\n",
       "      <th>23</th>\n",
       "      <td>24</td>\n",
       "      <td>01/24/2019</td>\n",
       "      <td>A1</td>\n",
       "      <td>P1</td>\n",
       "      <td>45</td>\n",
       "      <td>11.5</td>\n",
       "    </tr>\n",
       "    <tr>\n",
       "      <th>24</th>\n",
       "      <td>25</td>\n",
       "      <td>NaN</td>\n",
       "      <td>A1</td>\n",
       "      <td>P1</td>\n",
       "      <td>65</td>\n",
       "      <td>11.5</td>\n",
       "    </tr>\n",
       "    <tr>\n",
       "      <th>25</th>\n",
       "      <td>26</td>\n",
       "      <td>01/26/2019</td>\n",
       "      <td>A1</td>\n",
       "      <td>P1</td>\n",
       "      <td>39</td>\n",
       "      <td>11.5</td>\n",
       "    </tr>\n",
       "    <tr>\n",
       "      <th>26</th>\n",
       "      <td>27</td>\n",
       "      <td>01/27/2019</td>\n",
       "      <td>A1</td>\n",
       "      <td>P1</td>\n",
       "      <td>68</td>\n",
       "      <td>11.5</td>\n",
       "    </tr>\n",
       "    <tr>\n",
       "      <th>27</th>\n",
       "      <td>28</td>\n",
       "      <td>01/28/2019</td>\n",
       "      <td>A1</td>\n",
       "      <td>P1</td>\n",
       "      <td>69</td>\n",
       "      <td>11.5</td>\n",
       "    </tr>\n",
       "    <tr>\n",
       "      <th>28</th>\n",
       "      <td>29</td>\n",
       "      <td>01/29/2019</td>\n",
       "      <td>A1</td>\n",
       "      <td>P1</td>\n",
       "      <td>43</td>\n",
       "      <td>11.5</td>\n",
       "    </tr>\n",
       "    <tr>\n",
       "      <th>29</th>\n",
       "      <td>30</td>\n",
       "      <td>01/30/2019</td>\n",
       "      <td>A1</td>\n",
       "      <td>P1</td>\n",
       "      <td>72</td>\n",
       "      <td>11.5</td>\n",
       "    </tr>\n",
       "    <tr>\n",
       "      <th>30</th>\n",
       "      <td>31</td>\n",
       "      <td>01/31/2019</td>\n",
       "      <td>A1</td>\n",
       "      <td>P1</td>\n",
       "      <td>54</td>\n",
       "      <td>11.5</td>\n",
       "    </tr>\n",
       "  </tbody>\n",
       "</table>\n",
       "</div>"
      ],
      "text/plain": [
       "    id        date emp_id product_id  sales  price\n",
       "0    1  01/01/2019     A1         P1     30   11.5\n",
       "1    2  01/02/2019     A1         P1     28   11.5\n",
       "2    3  01/03/2019     A1         P1     43   11.5\n",
       "3    4  01/04/2019     A1         P1     45   11.5\n",
       "4    5  01/05/2019     A1         P1     57   11.5\n",
       "5    6  01/06/2019     A1         P1     33   11.5\n",
       "6    7  01/07/2019     A1         P1     27   11.5\n",
       "7    8         NaN     A1         P1     40   11.5\n",
       "8    9  01/09/2019     A1         P1     41   11.5\n",
       "9   10  01/10/2019     A1         P1  36000   11.5\n",
       "10  11  01/11/2019     A1         P1     44   11.5\n",
       "11  12  01/12/2019     A1         P1     46   11.5\n",
       "12  13  01/13/2019     A1         P1     47   11.5\n",
       "13  14  01/14/2019     A1         P1     48   11.5\n",
       "14  15  01/15/2019     A1         P1     50   11.5\n",
       "15  16  01/16/2019     A1         P1     51    NaN\n",
       "16  17  01/17/2019     A1         P1     53   11.5\n",
       "17  18  01/18/2019     A1         P1     54   11.5\n",
       "18  19         NaN     A1         P1     56   11.5\n",
       "19  20  01/20/2019     A1         P1     57   11.5\n",
       "20  21  01/21/2019     A1         P1  57000   11.5\n",
       "21  22  01/22/2019     A1         P1     60   11.5\n",
       "22  23  01/23/2019     A1         P1     62   11.5\n",
       "23  24  01/24/2019     A1         P1     45   11.5\n",
       "24  25         NaN     A1         P1     65   11.5\n",
       "25  26  01/26/2019     A1         P1     39   11.5\n",
       "26  27  01/27/2019     A1         P1     68   11.5\n",
       "27  28  01/28/2019     A1         P1     69   11.5\n",
       "28  29  01/29/2019     A1         P1     43   11.5\n",
       "29  30  01/30/2019     A1         P1     72   11.5\n",
       "30  31  01/31/2019     A1         P1     54   11.5"
      ]
     },
     "execution_count": 262,
     "metadata": {},
     "output_type": "execute_result"
    }
   ],
   "source": [
    "sales"
   ]
  },
  {
   "cell_type": "code",
   "execution_count": 263,
   "metadata": {},
   "outputs": [
    {
     "data": {
      "text/plain": [
       "nan"
      ]
     },
     "execution_count": 263,
     "metadata": {},
     "output_type": "execute_result"
    }
   ],
   "source": [
    "sales.loc[7, 'date']"
   ]
  },
  {
   "cell_type": "markdown",
   "metadata": {},
   "source": [
    "### Updating missing values, manually based on exising data"
   ]
  },
  {
   "cell_type": "code",
   "execution_count": 264,
   "metadata": {},
   "outputs": [],
   "source": [
    "sales.loc[7, 'date'] = '2019-01-08'"
   ]
  },
  {
   "cell_type": "code",
   "execution_count": 265,
   "metadata": {},
   "outputs": [
    {
     "data": {
      "text/html": [
       "<div>\n",
       "<style scoped>\n",
       "    .dataframe tbody tr th:only-of-type {\n",
       "        vertical-align: middle;\n",
       "    }\n",
       "\n",
       "    .dataframe tbody tr th {\n",
       "        vertical-align: top;\n",
       "    }\n",
       "\n",
       "    .dataframe thead th {\n",
       "        text-align: right;\n",
       "    }\n",
       "</style>\n",
       "<table border=\"1\" class=\"dataframe\">\n",
       "  <thead>\n",
       "    <tr style=\"text-align: right;\">\n",
       "      <th></th>\n",
       "      <th>id</th>\n",
       "      <th>date</th>\n",
       "      <th>emp_id</th>\n",
       "      <th>product_id</th>\n",
       "      <th>sales</th>\n",
       "      <th>price</th>\n",
       "    </tr>\n",
       "  </thead>\n",
       "  <tbody>\n",
       "    <tr>\n",
       "      <th>18</th>\n",
       "      <td>19</td>\n",
       "      <td>NaN</td>\n",
       "      <td>A1</td>\n",
       "      <td>P1</td>\n",
       "      <td>56</td>\n",
       "      <td>11.5</td>\n",
       "    </tr>\n",
       "    <tr>\n",
       "      <th>24</th>\n",
       "      <td>25</td>\n",
       "      <td>NaN</td>\n",
       "      <td>A1</td>\n",
       "      <td>P1</td>\n",
       "      <td>65</td>\n",
       "      <td>11.5</td>\n",
       "    </tr>\n",
       "  </tbody>\n",
       "</table>\n",
       "</div>"
      ],
      "text/plain": [
       "    id date emp_id product_id  sales  price\n",
       "18  19  NaN     A1         P1     56   11.5\n",
       "24  25  NaN     A1         P1     65   11.5"
      ]
     },
     "execution_count": 265,
     "metadata": {},
     "output_type": "execute_result"
    }
   ],
   "source": [
    "sales[sales.date.isnull()]"
   ]
  },
  {
   "cell_type": "code",
   "execution_count": 266,
   "metadata": {},
   "outputs": [],
   "source": [
    "sales.loc[18, 'date'] = '2019-01-25'"
   ]
  },
  {
   "cell_type": "code",
   "execution_count": 267,
   "metadata": {},
   "outputs": [],
   "source": [
    "sales.loc[24, 'date'] = '2019-01-19'"
   ]
  },
  {
   "cell_type": "code",
   "execution_count": 268,
   "metadata": {},
   "outputs": [
    {
     "data": {
      "text/html": [
       "<div>\n",
       "<style scoped>\n",
       "    .dataframe tbody tr th:only-of-type {\n",
       "        vertical-align: middle;\n",
       "    }\n",
       "\n",
       "    .dataframe tbody tr th {\n",
       "        vertical-align: top;\n",
       "    }\n",
       "\n",
       "    .dataframe thead th {\n",
       "        text-align: right;\n",
       "    }\n",
       "</style>\n",
       "<table border=\"1\" class=\"dataframe\">\n",
       "  <thead>\n",
       "    <tr style=\"text-align: right;\">\n",
       "      <th></th>\n",
       "      <th>id</th>\n",
       "      <th>date</th>\n",
       "      <th>emp_id</th>\n",
       "      <th>product_id</th>\n",
       "      <th>sales</th>\n",
       "      <th>price</th>\n",
       "    </tr>\n",
       "  </thead>\n",
       "  <tbody>\n",
       "  </tbody>\n",
       "</table>\n",
       "</div>"
      ],
      "text/plain": [
       "Empty DataFrame\n",
       "Columns: [id, date, emp_id, product_id, sales, price]\n",
       "Index: []"
      ]
     },
     "execution_count": 268,
     "metadata": {},
     "output_type": "execute_result"
    }
   ],
   "source": [
    "sales[sales.date.isnull()]"
   ]
  },
  {
   "cell_type": "code",
   "execution_count": 269,
   "metadata": {},
   "outputs": [
    {
     "data": {
      "text/html": [
       "<div>\n",
       "<style scoped>\n",
       "    .dataframe tbody tr th:only-of-type {\n",
       "        vertical-align: middle;\n",
       "    }\n",
       "\n",
       "    .dataframe tbody tr th {\n",
       "        vertical-align: top;\n",
       "    }\n",
       "\n",
       "    .dataframe thead th {\n",
       "        text-align: right;\n",
       "    }\n",
       "</style>\n",
       "<table border=\"1\" class=\"dataframe\">\n",
       "  <thead>\n",
       "    <tr style=\"text-align: right;\">\n",
       "      <th></th>\n",
       "      <th>id</th>\n",
       "      <th>date</th>\n",
       "      <th>emp_id</th>\n",
       "      <th>product_id</th>\n",
       "      <th>sales</th>\n",
       "      <th>price</th>\n",
       "    </tr>\n",
       "  </thead>\n",
       "  <tbody>\n",
       "    <tr>\n",
       "      <th>15</th>\n",
       "      <td>16</td>\n",
       "      <td>01/16/2019</td>\n",
       "      <td>A1</td>\n",
       "      <td>P1</td>\n",
       "      <td>51</td>\n",
       "      <td>NaN</td>\n",
       "    </tr>\n",
       "  </tbody>\n",
       "</table>\n",
       "</div>"
      ],
      "text/plain": [
       "    id        date emp_id product_id  sales  price\n",
       "15  16  01/16/2019     A1         P1     51    NaN"
      ]
     },
     "execution_count": 269,
     "metadata": {},
     "output_type": "execute_result"
    }
   ],
   "source": [
    "sales[sales.price.isnull()]"
   ]
  },
  {
   "cell_type": "code",
   "execution_count": 270,
   "metadata": {},
   "outputs": [
    {
     "data": {
      "text/html": [
       "<div>\n",
       "<style scoped>\n",
       "    .dataframe tbody tr th:only-of-type {\n",
       "        vertical-align: middle;\n",
       "    }\n",
       "\n",
       "    .dataframe tbody tr th {\n",
       "        vertical-align: top;\n",
       "    }\n",
       "\n",
       "    .dataframe thead th {\n",
       "        text-align: right;\n",
       "    }\n",
       "</style>\n",
       "<table border=\"1\" class=\"dataframe\">\n",
       "  <thead>\n",
       "    <tr style=\"text-align: right;\">\n",
       "      <th></th>\n",
       "      <th>id</th>\n",
       "      <th>date</th>\n",
       "      <th>emp_id</th>\n",
       "      <th>product_id</th>\n",
       "      <th>sales</th>\n",
       "      <th>price</th>\n",
       "    </tr>\n",
       "  </thead>\n",
       "  <tbody>\n",
       "    <tr>\n",
       "      <th>0</th>\n",
       "      <td>1</td>\n",
       "      <td>01/01/2019</td>\n",
       "      <td>A1</td>\n",
       "      <td>P1</td>\n",
       "      <td>30</td>\n",
       "      <td>11.5</td>\n",
       "    </tr>\n",
       "    <tr>\n",
       "      <th>1</th>\n",
       "      <td>2</td>\n",
       "      <td>01/02/2019</td>\n",
       "      <td>A1</td>\n",
       "      <td>P1</td>\n",
       "      <td>28</td>\n",
       "      <td>11.5</td>\n",
       "    </tr>\n",
       "    <tr>\n",
       "      <th>2</th>\n",
       "      <td>3</td>\n",
       "      <td>01/03/2019</td>\n",
       "      <td>A1</td>\n",
       "      <td>P1</td>\n",
       "      <td>43</td>\n",
       "      <td>11.5</td>\n",
       "    </tr>\n",
       "    <tr>\n",
       "      <th>3</th>\n",
       "      <td>4</td>\n",
       "      <td>01/04/2019</td>\n",
       "      <td>A1</td>\n",
       "      <td>P1</td>\n",
       "      <td>45</td>\n",
       "      <td>11.5</td>\n",
       "    </tr>\n",
       "    <tr>\n",
       "      <th>4</th>\n",
       "      <td>5</td>\n",
       "      <td>01/05/2019</td>\n",
       "      <td>A1</td>\n",
       "      <td>P1</td>\n",
       "      <td>57</td>\n",
       "      <td>11.5</td>\n",
       "    </tr>\n",
       "    <tr>\n",
       "      <th>5</th>\n",
       "      <td>6</td>\n",
       "      <td>01/06/2019</td>\n",
       "      <td>A1</td>\n",
       "      <td>P1</td>\n",
       "      <td>33</td>\n",
       "      <td>11.5</td>\n",
       "    </tr>\n",
       "    <tr>\n",
       "      <th>6</th>\n",
       "      <td>7</td>\n",
       "      <td>01/07/2019</td>\n",
       "      <td>A1</td>\n",
       "      <td>P1</td>\n",
       "      <td>27</td>\n",
       "      <td>11.5</td>\n",
       "    </tr>\n",
       "    <tr>\n",
       "      <th>7</th>\n",
       "      <td>8</td>\n",
       "      <td>2019-01-08</td>\n",
       "      <td>A1</td>\n",
       "      <td>P1</td>\n",
       "      <td>40</td>\n",
       "      <td>11.5</td>\n",
       "    </tr>\n",
       "    <tr>\n",
       "      <th>8</th>\n",
       "      <td>9</td>\n",
       "      <td>01/09/2019</td>\n",
       "      <td>A1</td>\n",
       "      <td>P1</td>\n",
       "      <td>41</td>\n",
       "      <td>11.5</td>\n",
       "    </tr>\n",
       "    <tr>\n",
       "      <th>9</th>\n",
       "      <td>10</td>\n",
       "      <td>01/10/2019</td>\n",
       "      <td>A1</td>\n",
       "      <td>P1</td>\n",
       "      <td>36000</td>\n",
       "      <td>11.5</td>\n",
       "    </tr>\n",
       "    <tr>\n",
       "      <th>10</th>\n",
       "      <td>11</td>\n",
       "      <td>01/11/2019</td>\n",
       "      <td>A1</td>\n",
       "      <td>P1</td>\n",
       "      <td>44</td>\n",
       "      <td>11.5</td>\n",
       "    </tr>\n",
       "    <tr>\n",
       "      <th>11</th>\n",
       "      <td>12</td>\n",
       "      <td>01/12/2019</td>\n",
       "      <td>A1</td>\n",
       "      <td>P1</td>\n",
       "      <td>46</td>\n",
       "      <td>11.5</td>\n",
       "    </tr>\n",
       "    <tr>\n",
       "      <th>12</th>\n",
       "      <td>13</td>\n",
       "      <td>01/13/2019</td>\n",
       "      <td>A1</td>\n",
       "      <td>P1</td>\n",
       "      <td>47</td>\n",
       "      <td>11.5</td>\n",
       "    </tr>\n",
       "    <tr>\n",
       "      <th>13</th>\n",
       "      <td>14</td>\n",
       "      <td>01/14/2019</td>\n",
       "      <td>A1</td>\n",
       "      <td>P1</td>\n",
       "      <td>48</td>\n",
       "      <td>11.5</td>\n",
       "    </tr>\n",
       "    <tr>\n",
       "      <th>14</th>\n",
       "      <td>15</td>\n",
       "      <td>01/15/2019</td>\n",
       "      <td>A1</td>\n",
       "      <td>P1</td>\n",
       "      <td>50</td>\n",
       "      <td>11.5</td>\n",
       "    </tr>\n",
       "    <tr>\n",
       "      <th>15</th>\n",
       "      <td>16</td>\n",
       "      <td>01/16/2019</td>\n",
       "      <td>A1</td>\n",
       "      <td>P1</td>\n",
       "      <td>51</td>\n",
       "      <td>NaN</td>\n",
       "    </tr>\n",
       "    <tr>\n",
       "      <th>16</th>\n",
       "      <td>17</td>\n",
       "      <td>01/17/2019</td>\n",
       "      <td>A1</td>\n",
       "      <td>P1</td>\n",
       "      <td>53</td>\n",
       "      <td>11.5</td>\n",
       "    </tr>\n",
       "    <tr>\n",
       "      <th>17</th>\n",
       "      <td>18</td>\n",
       "      <td>01/18/2019</td>\n",
       "      <td>A1</td>\n",
       "      <td>P1</td>\n",
       "      <td>54</td>\n",
       "      <td>11.5</td>\n",
       "    </tr>\n",
       "    <tr>\n",
       "      <th>18</th>\n",
       "      <td>19</td>\n",
       "      <td>2019-01-25</td>\n",
       "      <td>A1</td>\n",
       "      <td>P1</td>\n",
       "      <td>56</td>\n",
       "      <td>11.5</td>\n",
       "    </tr>\n",
       "    <tr>\n",
       "      <th>19</th>\n",
       "      <td>20</td>\n",
       "      <td>01/20/2019</td>\n",
       "      <td>A1</td>\n",
       "      <td>P1</td>\n",
       "      <td>57</td>\n",
       "      <td>11.5</td>\n",
       "    </tr>\n",
       "    <tr>\n",
       "      <th>20</th>\n",
       "      <td>21</td>\n",
       "      <td>01/21/2019</td>\n",
       "      <td>A1</td>\n",
       "      <td>P1</td>\n",
       "      <td>57000</td>\n",
       "      <td>11.5</td>\n",
       "    </tr>\n",
       "    <tr>\n",
       "      <th>21</th>\n",
       "      <td>22</td>\n",
       "      <td>01/22/2019</td>\n",
       "      <td>A1</td>\n",
       "      <td>P1</td>\n",
       "      <td>60</td>\n",
       "      <td>11.5</td>\n",
       "    </tr>\n",
       "    <tr>\n",
       "      <th>22</th>\n",
       "      <td>23</td>\n",
       "      <td>01/23/2019</td>\n",
       "      <td>A1</td>\n",
       "      <td>P1</td>\n",
       "      <td>62</td>\n",
       "      <td>11.5</td>\n",
       "    </tr>\n",
       "    <tr>\n",
       "      <th>23</th>\n",
       "      <td>24</td>\n",
       "      <td>01/24/2019</td>\n",
       "      <td>A1</td>\n",
       "      <td>P1</td>\n",
       "      <td>45</td>\n",
       "      <td>11.5</td>\n",
       "    </tr>\n",
       "    <tr>\n",
       "      <th>24</th>\n",
       "      <td>25</td>\n",
       "      <td>2019-01-19</td>\n",
       "      <td>A1</td>\n",
       "      <td>P1</td>\n",
       "      <td>65</td>\n",
       "      <td>11.5</td>\n",
       "    </tr>\n",
       "    <tr>\n",
       "      <th>25</th>\n",
       "      <td>26</td>\n",
       "      <td>01/26/2019</td>\n",
       "      <td>A1</td>\n",
       "      <td>P1</td>\n",
       "      <td>39</td>\n",
       "      <td>11.5</td>\n",
       "    </tr>\n",
       "    <tr>\n",
       "      <th>26</th>\n",
       "      <td>27</td>\n",
       "      <td>01/27/2019</td>\n",
       "      <td>A1</td>\n",
       "      <td>P1</td>\n",
       "      <td>68</td>\n",
       "      <td>11.5</td>\n",
       "    </tr>\n",
       "    <tr>\n",
       "      <th>27</th>\n",
       "      <td>28</td>\n",
       "      <td>01/28/2019</td>\n",
       "      <td>A1</td>\n",
       "      <td>P1</td>\n",
       "      <td>69</td>\n",
       "      <td>11.5</td>\n",
       "    </tr>\n",
       "    <tr>\n",
       "      <th>28</th>\n",
       "      <td>29</td>\n",
       "      <td>01/29/2019</td>\n",
       "      <td>A1</td>\n",
       "      <td>P1</td>\n",
       "      <td>43</td>\n",
       "      <td>11.5</td>\n",
       "    </tr>\n",
       "    <tr>\n",
       "      <th>29</th>\n",
       "      <td>30</td>\n",
       "      <td>01/30/2019</td>\n",
       "      <td>A1</td>\n",
       "      <td>P1</td>\n",
       "      <td>72</td>\n",
       "      <td>11.5</td>\n",
       "    </tr>\n",
       "    <tr>\n",
       "      <th>30</th>\n",
       "      <td>31</td>\n",
       "      <td>01/31/2019</td>\n",
       "      <td>A1</td>\n",
       "      <td>P1</td>\n",
       "      <td>54</td>\n",
       "      <td>11.5</td>\n",
       "    </tr>\n",
       "  </tbody>\n",
       "</table>\n",
       "</div>"
      ],
      "text/plain": [
       "    id        date emp_id product_id  sales  price\n",
       "0    1  01/01/2019     A1         P1     30   11.5\n",
       "1    2  01/02/2019     A1         P1     28   11.5\n",
       "2    3  01/03/2019     A1         P1     43   11.5\n",
       "3    4  01/04/2019     A1         P1     45   11.5\n",
       "4    5  01/05/2019     A1         P1     57   11.5\n",
       "5    6  01/06/2019     A1         P1     33   11.5\n",
       "6    7  01/07/2019     A1         P1     27   11.5\n",
       "7    8  2019-01-08     A1         P1     40   11.5\n",
       "8    9  01/09/2019     A1         P1     41   11.5\n",
       "9   10  01/10/2019     A1         P1  36000   11.5\n",
       "10  11  01/11/2019     A1         P1     44   11.5\n",
       "11  12  01/12/2019     A1         P1     46   11.5\n",
       "12  13  01/13/2019     A1         P1     47   11.5\n",
       "13  14  01/14/2019     A1         P1     48   11.5\n",
       "14  15  01/15/2019     A1         P1     50   11.5\n",
       "15  16  01/16/2019     A1         P1     51    NaN\n",
       "16  17  01/17/2019     A1         P1     53   11.5\n",
       "17  18  01/18/2019     A1         P1     54   11.5\n",
       "18  19  2019-01-25     A1         P1     56   11.5\n",
       "19  20  01/20/2019     A1         P1     57   11.5\n",
       "20  21  01/21/2019     A1         P1  57000   11.5\n",
       "21  22  01/22/2019     A1         P1     60   11.5\n",
       "22  23  01/23/2019     A1         P1     62   11.5\n",
       "23  24  01/24/2019     A1         P1     45   11.5\n",
       "24  25  2019-01-19     A1         P1     65   11.5\n",
       "25  26  01/26/2019     A1         P1     39   11.5\n",
       "26  27  01/27/2019     A1         P1     68   11.5\n",
       "27  28  01/28/2019     A1         P1     69   11.5\n",
       "28  29  01/29/2019     A1         P1     43   11.5\n",
       "29  30  01/30/2019     A1         P1     72   11.5\n",
       "30  31  01/31/2019     A1         P1     54   11.5"
      ]
     },
     "execution_count": 270,
     "metadata": {},
     "output_type": "execute_result"
    }
   ],
   "source": [
    "sales"
   ]
  },
  {
   "cell_type": "code",
   "execution_count": 271,
   "metadata": {},
   "outputs": [],
   "source": [
    "sales.loc[15, 'price'] =11.5"
   ]
  },
  {
   "cell_type": "code",
   "execution_count": 272,
   "metadata": {},
   "outputs": [
    {
     "data": {
      "text/html": [
       "<div>\n",
       "<style scoped>\n",
       "    .dataframe tbody tr th:only-of-type {\n",
       "        vertical-align: middle;\n",
       "    }\n",
       "\n",
       "    .dataframe tbody tr th {\n",
       "        vertical-align: top;\n",
       "    }\n",
       "\n",
       "    .dataframe thead th {\n",
       "        text-align: right;\n",
       "    }\n",
       "</style>\n",
       "<table border=\"1\" class=\"dataframe\">\n",
       "  <thead>\n",
       "    <tr style=\"text-align: right;\">\n",
       "      <th></th>\n",
       "      <th>id</th>\n",
       "      <th>date</th>\n",
       "      <th>emp_id</th>\n",
       "      <th>product_id</th>\n",
       "      <th>sales</th>\n",
       "      <th>price</th>\n",
       "    </tr>\n",
       "  </thead>\n",
       "  <tbody>\n",
       "  </tbody>\n",
       "</table>\n",
       "</div>"
      ],
      "text/plain": [
       "Empty DataFrame\n",
       "Columns: [id, date, emp_id, product_id, sales, price]\n",
       "Index: []"
      ]
     },
     "execution_count": 272,
     "metadata": {},
     "output_type": "execute_result"
    }
   ],
   "source": [
    "sales[sales.price.isnull()]"
   ]
  },
  {
   "cell_type": "code",
   "execution_count": 273,
   "metadata": {},
   "outputs": [
    {
     "data": {
      "text/plain": [
       "id            0\n",
       "date          0\n",
       "emp_id        0\n",
       "product_id    0\n",
       "sales         0\n",
       "price         0\n",
       "dtype: int64"
      ]
     },
     "execution_count": 273,
     "metadata": {},
     "output_type": "execute_result"
    }
   ],
   "source": [
    "sales.isnull().sum()"
   ]
  },
  {
   "cell_type": "code",
   "execution_count": 274,
   "metadata": {},
   "outputs": [
    {
     "data": {
      "text/plain": [
       "id              int64\n",
       "date           object\n",
       "emp_id         object\n",
       "product_id     object\n",
       "sales           int64\n",
       "price         float64\n",
       "dtype: object"
      ]
     },
     "execution_count": 274,
     "metadata": {},
     "output_type": "execute_result"
    }
   ],
   "source": [
    "sales.dtypes"
   ]
  },
  {
   "cell_type": "markdown",
   "metadata": {},
   "source": [
    "### Operations on Date column"
   ]
  },
  {
   "cell_type": "code",
   "execution_count": 275,
   "metadata": {},
   "outputs": [],
   "source": [
    "sales.date = pd.to_datetime(sales.date)"
   ]
  },
  {
   "cell_type": "code",
   "execution_count": 276,
   "metadata": {},
   "outputs": [
    {
     "data": {
      "text/plain": [
       "id                     int64\n",
       "date          datetime64[ns]\n",
       "emp_id                object\n",
       "product_id            object\n",
       "sales                  int64\n",
       "price                float64\n",
       "dtype: object"
      ]
     },
     "execution_count": 276,
     "metadata": {},
     "output_type": "execute_result"
    }
   ],
   "source": [
    "sales.dtypes"
   ]
  },
  {
   "cell_type": "code",
   "execution_count": 277,
   "metadata": {},
   "outputs": [
    {
     "data": {
      "text/html": [
       "<div>\n",
       "<style scoped>\n",
       "    .dataframe tbody tr th:only-of-type {\n",
       "        vertical-align: middle;\n",
       "    }\n",
       "\n",
       "    .dataframe tbody tr th {\n",
       "        vertical-align: top;\n",
       "    }\n",
       "\n",
       "    .dataframe thead th {\n",
       "        text-align: right;\n",
       "    }\n",
       "</style>\n",
       "<table border=\"1\" class=\"dataframe\">\n",
       "  <thead>\n",
       "    <tr style=\"text-align: right;\">\n",
       "      <th></th>\n",
       "      <th>id</th>\n",
       "      <th>date</th>\n",
       "      <th>emp_id</th>\n",
       "      <th>product_id</th>\n",
       "      <th>sales</th>\n",
       "      <th>price</th>\n",
       "    </tr>\n",
       "  </thead>\n",
       "  <tbody>\n",
       "    <tr>\n",
       "      <th>0</th>\n",
       "      <td>1</td>\n",
       "      <td>2019-01-01</td>\n",
       "      <td>A1</td>\n",
       "      <td>P1</td>\n",
       "      <td>30</td>\n",
       "      <td>11.5</td>\n",
       "    </tr>\n",
       "    <tr>\n",
       "      <th>1</th>\n",
       "      <td>2</td>\n",
       "      <td>2019-01-02</td>\n",
       "      <td>A1</td>\n",
       "      <td>P1</td>\n",
       "      <td>28</td>\n",
       "      <td>11.5</td>\n",
       "    </tr>\n",
       "  </tbody>\n",
       "</table>\n",
       "</div>"
      ],
      "text/plain": [
       "   id       date emp_id product_id  sales  price\n",
       "0   1 2019-01-01     A1         P1     30   11.5\n",
       "1   2 2019-01-02     A1         P1     28   11.5"
      ]
     },
     "execution_count": 277,
     "metadata": {},
     "output_type": "execute_result"
    }
   ],
   "source": [
    "sales.head(2)"
   ]
  },
  {
   "cell_type": "code",
   "execution_count": 278,
   "metadata": {},
   "outputs": [
    {
     "data": {
      "text/plain": [
       "0     2019\n",
       "1     2019\n",
       "2     2019\n",
       "3     2019\n",
       "4     2019\n",
       "5     2019\n",
       "6     2019\n",
       "7     2019\n",
       "8     2019\n",
       "9     2019\n",
       "10    2019\n",
       "11    2019\n",
       "12    2019\n",
       "13    2019\n",
       "14    2019\n",
       "15    2019\n",
       "16    2019\n",
       "17    2019\n",
       "18    2019\n",
       "19    2019\n",
       "20    2019\n",
       "21    2019\n",
       "22    2019\n",
       "23    2019\n",
       "24    2019\n",
       "25    2019\n",
       "26    2019\n",
       "27    2019\n",
       "28    2019\n",
       "29    2019\n",
       "30    2019\n",
       "Name: date, dtype: int64"
      ]
     },
     "execution_count": 278,
     "metadata": {},
     "output_type": "execute_result"
    }
   ],
   "source": [
    "#Actual weekday(Mon-Sun)\n",
    "sales.date.dt.year"
   ]
  },
  {
   "cell_type": "code",
   "execution_count": 279,
   "metadata": {},
   "outputs": [],
   "source": [
    "#Actual weekday(Mon-Sun)\n",
    "sales['year'] = sales.date.dt.year"
   ]
  },
  {
   "cell_type": "code",
   "execution_count": 280,
   "metadata": {},
   "outputs": [],
   "source": [
    "sales['month'] = sales.date.dt.month_name()"
   ]
  },
  {
   "cell_type": "code",
   "execution_count": 281,
   "metadata": {},
   "outputs": [],
   "source": [
    "sales['week_day'] = sales.date.dt.day_name()"
   ]
  },
  {
   "cell_type": "code",
   "execution_count": 282,
   "metadata": {},
   "outputs": [],
   "source": [
    "sales['day'] = sales.date.dt.day"
   ]
  },
  {
   "cell_type": "code",
   "execution_count": 283,
   "metadata": {},
   "outputs": [
    {
     "data": {
      "text/html": [
       "<div>\n",
       "<style scoped>\n",
       "    .dataframe tbody tr th:only-of-type {\n",
       "        vertical-align: middle;\n",
       "    }\n",
       "\n",
       "    .dataframe tbody tr th {\n",
       "        vertical-align: top;\n",
       "    }\n",
       "\n",
       "    .dataframe thead th {\n",
       "        text-align: right;\n",
       "    }\n",
       "</style>\n",
       "<table border=\"1\" class=\"dataframe\">\n",
       "  <thead>\n",
       "    <tr style=\"text-align: right;\">\n",
       "      <th></th>\n",
       "      <th>id</th>\n",
       "      <th>date</th>\n",
       "      <th>emp_id</th>\n",
       "      <th>product_id</th>\n",
       "      <th>sales</th>\n",
       "      <th>price</th>\n",
       "      <th>year</th>\n",
       "      <th>month</th>\n",
       "      <th>week_day</th>\n",
       "      <th>day</th>\n",
       "    </tr>\n",
       "  </thead>\n",
       "  <tbody>\n",
       "    <tr>\n",
       "      <th>0</th>\n",
       "      <td>1</td>\n",
       "      <td>2019-01-01</td>\n",
       "      <td>A1</td>\n",
       "      <td>P1</td>\n",
       "      <td>30</td>\n",
       "      <td>11.5</td>\n",
       "      <td>2019</td>\n",
       "      <td>January</td>\n",
       "      <td>Tuesday</td>\n",
       "      <td>1</td>\n",
       "    </tr>\n",
       "    <tr>\n",
       "      <th>1</th>\n",
       "      <td>2</td>\n",
       "      <td>2019-01-02</td>\n",
       "      <td>A1</td>\n",
       "      <td>P1</td>\n",
       "      <td>28</td>\n",
       "      <td>11.5</td>\n",
       "      <td>2019</td>\n",
       "      <td>January</td>\n",
       "      <td>Wednesday</td>\n",
       "      <td>2</td>\n",
       "    </tr>\n",
       "  </tbody>\n",
       "</table>\n",
       "</div>"
      ],
      "text/plain": [
       "   id       date emp_id product_id  sales  price  year    month   week_day  \\\n",
       "0   1 2019-01-01     A1         P1     30   11.5  2019  January    Tuesday   \n",
       "1   2 2019-01-02     A1         P1     28   11.5  2019  January  Wednesday   \n",
       "\n",
       "   day  \n",
       "0    1  \n",
       "1    2  "
      ]
     },
     "execution_count": 283,
     "metadata": {},
     "output_type": "execute_result"
    }
   ],
   "source": [
    "sales.head(2)"
   ]
  },
  {
   "cell_type": "code",
   "execution_count": 284,
   "metadata": {},
   "outputs": [],
   "source": [
    "sales.drop(columns = ['id','date'], axis=1, inplace=True)"
   ]
  },
  {
   "cell_type": "code",
   "execution_count": 285,
   "metadata": {},
   "outputs": [
    {
     "data": {
      "text/html": [
       "<div>\n",
       "<style scoped>\n",
       "    .dataframe tbody tr th:only-of-type {\n",
       "        vertical-align: middle;\n",
       "    }\n",
       "\n",
       "    .dataframe tbody tr th {\n",
       "        vertical-align: top;\n",
       "    }\n",
       "\n",
       "    .dataframe thead th {\n",
       "        text-align: right;\n",
       "    }\n",
       "</style>\n",
       "<table border=\"1\" class=\"dataframe\">\n",
       "  <thead>\n",
       "    <tr style=\"text-align: right;\">\n",
       "      <th></th>\n",
       "      <th>emp_id</th>\n",
       "      <th>product_id</th>\n",
       "      <th>sales</th>\n",
       "      <th>price</th>\n",
       "      <th>year</th>\n",
       "      <th>month</th>\n",
       "      <th>week_day</th>\n",
       "      <th>day</th>\n",
       "    </tr>\n",
       "  </thead>\n",
       "  <tbody>\n",
       "    <tr>\n",
       "      <th>0</th>\n",
       "      <td>A1</td>\n",
       "      <td>P1</td>\n",
       "      <td>30</td>\n",
       "      <td>11.5</td>\n",
       "      <td>2019</td>\n",
       "      <td>January</td>\n",
       "      <td>Tuesday</td>\n",
       "      <td>1</td>\n",
       "    </tr>\n",
       "    <tr>\n",
       "      <th>1</th>\n",
       "      <td>A1</td>\n",
       "      <td>P1</td>\n",
       "      <td>28</td>\n",
       "      <td>11.5</td>\n",
       "      <td>2019</td>\n",
       "      <td>January</td>\n",
       "      <td>Wednesday</td>\n",
       "      <td>2</td>\n",
       "    </tr>\n",
       "  </tbody>\n",
       "</table>\n",
       "</div>"
      ],
      "text/plain": [
       "  emp_id product_id  sales  price  year    month   week_day  day\n",
       "0     A1         P1     30   11.5  2019  January    Tuesday    1\n",
       "1     A1         P1     28   11.5  2019  January  Wednesday    2"
      ]
     },
     "execution_count": 285,
     "metadata": {},
     "output_type": "execute_result"
    }
   ],
   "source": [
    "sales.head(2)"
   ]
  },
  {
   "cell_type": "markdown",
   "metadata": {},
   "source": [
    "### Handling Outliers"
   ]
  },
  {
   "cell_type": "markdown",
   "metadata": {},
   "source": [
    "### Finding outliers using scatter plot/Box plot/statistical plots"
   ]
  },
  {
   "cell_type": "code",
   "execution_count": 286,
   "metadata": {},
   "outputs": [
    {
     "data": {
      "image/png": "[encoded data removed]",
      "text/plain": [
       "<Figure size 1152x576 with 1 Axes>"
      ]
     },
     "metadata": {
      "needs_background": "light"
     },
     "output_type": "display_data"
    }
   ],
   "source": [
    "#Here I am using Scatter plot\n",
    "fig, ax = plt.subplots(figsize=(16, 8))\n",
    "ax.scatter(sales['day'], sales['sales'])\n",
    "ax.set_xlabel(\"Day of the Month\")\n",
    "ax.set_ylabel(\"Sales\")\n",
    "plt.show()\n"
   ]
  },
  {
   "cell_type": "code",
   "execution_count": 148,
   "metadata": {},
   "outputs": [
    {
     "data": {
      "text/html": [
       "<div>\n",
       "<style scoped>\n",
       "    .dataframe tbody tr th:only-of-type {\n",
       "        vertical-align: middle;\n",
       "    }\n",
       "\n",
       "    .dataframe tbody tr th {\n",
       "        vertical-align: top;\n",
       "    }\n",
       "\n",
       "    .dataframe thead th {\n",
       "        text-align: right;\n",
       "    }\n",
       "</style>\n",
       "<table border=\"1\" class=\"dataframe\">\n",
       "  <thead>\n",
       "    <tr style=\"text-align: right;\">\n",
       "      <th></th>\n",
       "      <th>emp_id</th>\n",
       "      <th>product_id</th>\n",
       "      <th>sales</th>\n",
       "      <th>price</th>\n",
       "      <th>year</th>\n",
       "      <th>month</th>\n",
       "      <th>week_day</th>\n",
       "      <th>day</th>\n",
       "    </tr>\n",
       "  </thead>\n",
       "  <tbody>\n",
       "    <tr>\n",
       "      <th>9</th>\n",
       "      <td>A1</td>\n",
       "      <td>P1</td>\n",
       "      <td>36000</td>\n",
       "      <td>11.5</td>\n",
       "      <td>2019</td>\n",
       "      <td>January</td>\n",
       "      <td>Thursday</td>\n",
       "      <td>10</td>\n",
       "    </tr>\n",
       "    <tr>\n",
       "      <th>20</th>\n",
       "      <td>A1</td>\n",
       "      <td>P1</td>\n",
       "      <td>57000</td>\n",
       "      <td>11.5</td>\n",
       "      <td>2019</td>\n",
       "      <td>January</td>\n",
       "      <td>Monday</td>\n",
       "      <td>21</td>\n",
       "    </tr>\n",
       "  </tbody>\n",
       "</table>\n",
       "</div>"
      ],
      "text/plain": [
       "   emp_id product_id  sales  price  year    month  week_day  day\n",
       "9      A1         P1  36000   11.5  2019  January  Thursday   10\n",
       "20     A1         P1  57000   11.5  2019  January    Monday   21"
      ]
     },
     "execution_count": 148,
     "metadata": {},
     "output_type": "execute_result"
    }
   ],
   "source": [
    "#Printing outliers in  a dataframe\n",
    "sales[sales['sales']>10000]\n"
   ]
  },
  {
   "cell_type": "markdown",
   "metadata": {},
   "source": [
    "### Updating outliers with NaN"
   ]
  },
  {
   "cell_type": "code",
   "execution_count": 149,
   "metadata": {},
   "outputs": [],
   "source": [
    "sales.loc[sales['sales']>10000, 'sales'] = np.NaN"
   ]
  },
  {
   "cell_type": "code",
   "execution_count": 155,
   "metadata": {},
   "outputs": [
    {
     "data": {
      "text/html": [
       "<div>\n",
       "<style scoped>\n",
       "    .dataframe tbody tr th:only-of-type {\n",
       "        vertical-align: middle;\n",
       "    }\n",
       "\n",
       "    .dataframe tbody tr th {\n",
       "        vertical-align: top;\n",
       "    }\n",
       "\n",
       "    .dataframe thead th {\n",
       "        text-align: right;\n",
       "    }\n",
       "</style>\n",
       "<table border=\"1\" class=\"dataframe\">\n",
       "  <thead>\n",
       "    <tr style=\"text-align: right;\">\n",
       "      <th></th>\n",
       "      <th>emp_id</th>\n",
       "      <th>product_id</th>\n",
       "      <th>sales</th>\n",
       "      <th>price</th>\n",
       "      <th>year</th>\n",
       "      <th>month</th>\n",
       "      <th>week_day</th>\n",
       "      <th>day</th>\n",
       "      <th>revenue</th>\n",
       "    </tr>\n",
       "  </thead>\n",
       "  <tbody>\n",
       "  </tbody>\n",
       "</table>\n",
       "</div>"
      ],
      "text/plain": [
       "Empty DataFrame\n",
       "Columns: [emp_id, product_id, sales, price, year, month, week_day, day, revenue]\n",
       "Index: []"
      ]
     },
     "execution_count": 155,
     "metadata": {},
     "output_type": "execute_result"
    }
   ],
   "source": [
    "sales[sales['sales']>10000]"
   ]
  },
  {
   "cell_type": "code",
   "execution_count": 151,
   "metadata": {},
   "outputs": [
    {
     "data": {
      "text/plain": [
       "<bound method NDFrame.head of    emp_id product_id  sales  price  year    month   week_day  day\n",
       "0      A1         P1   30.0   11.5  2019  January    Tuesday    1\n",
       "1      A1         P1   28.0   11.5  2019  January  Wednesday    2\n",
       "2      A1         P1   43.0   11.5  2019  January   Thursday    3\n",
       "3      A1         P1   45.0   11.5  2019  January     Friday    4\n",
       "4      A1         P1   57.0   11.5  2019  January   Saturday    5\n",
       "5      A1         P1   33.0   11.5  2019  January     Sunday    6\n",
       "6      A1         P1   27.0   11.5  2019  January     Monday    7\n",
       "7      A1         P1   40.0   11.5  2019  January    Tuesday    8\n",
       "8      A1         P1   41.0   11.5  2019  January  Wednesday    9\n",
       "9      A1         P1    NaN   11.5  2019  January   Thursday   10\n",
       "10     A1         P1   44.0   11.5  2019  January     Friday   11\n",
       "11     A1         P1   46.0   11.5  2019  January   Saturday   12\n",
       "12     A1         P1   47.0   11.5  2019  January     Sunday   13\n",
       "13     A1         P1   48.0   11.5  2019  January     Monday   14\n",
       "14     A1         P1   50.0   11.5  2019  January    Tuesday   15\n",
       "15     A1         P1   51.0   11.5  2019  January  Wednesday   16\n",
       "16     A1         P1   53.0   11.5  2019  January   Thursday   17\n",
       "17     A1         P1   54.0   11.5  2019  January     Friday   18\n",
       "18     A1         P1   56.0   11.5  2019  January     Friday   25\n",
       "19     A1         P1   57.0   11.5  2019  January     Sunday   20\n",
       "20     A1         P1    NaN   11.5  2019  January     Monday   21\n",
       "21     A1         P1   60.0   11.5  2019  January    Tuesday   22\n",
       "22     A1         P1   62.0   11.5  2019  January  Wednesday   23\n",
       "23     A1         P1   45.0   11.5  2019  January   Thursday   24\n",
       "24     A1         P1   65.0   11.5  2019  January   Saturday   19\n",
       "25     A1         P1   39.0   11.5  2019  January   Saturday   26\n",
       "26     A1         P1   68.0   11.5  2019  January     Sunday   27\n",
       "27     A1         P1   69.0   11.5  2019  January     Monday   28\n",
       "28     A1         P1   43.0   11.5  2019  January    Tuesday   29\n",
       "29     A1         P1   72.0   11.5  2019  January  Wednesday   30\n",
       "30     A1         P1   54.0   11.5  2019  January   Thursday   31>"
      ]
     },
     "execution_count": 151,
     "metadata": {},
     "output_type": "execute_result"
    }
   ],
   "source": [
    "sales.head"
   ]
  },
  {
   "cell_type": "markdown",
   "metadata": {},
   "source": [
    "### Verify Scatter plot after handling outliers"
   ]
  },
  {
   "cell_type": "code",
   "execution_count": 152,
   "metadata": {
    "scrolled": true
   },
   "outputs": [
    {
     "data": {
      "image/png": "[encoded data removed]",
      "text/plain": [
       "<Figure size 1152x576 with 1 Axes>"
      ]
     },
     "metadata": {
      "needs_background": "light"
     },
     "output_type": "display_data"
    }
   ],
   "source": [
    "fig, ax = plt.subplots(figsize=(16, 8))\n",
    "ax.scatter(sales['day'], sales['sales'])\n",
    "ax.set_xlabel(\"Day of the Month\")\n",
    "ax.set_ylabel(\"Sales\")\n",
    "plt.show()"
   ]
  },
  {
   "cell_type": "code",
   "execution_count": 153,
   "metadata": {},
   "outputs": [],
   "source": [
    "sales['revenue'] = sales['sales']*sales.price"
   ]
  },
  {
   "cell_type": "code",
   "execution_count": 156,
   "metadata": {},
   "outputs": [
    {
     "data": {
      "text/html": [
       "<div>\n",
       "<style scoped>\n",
       "    .dataframe tbody tr th:only-of-type {\n",
       "        vertical-align: middle;\n",
       "    }\n",
       "\n",
       "    .dataframe tbody tr th {\n",
       "        vertical-align: top;\n",
       "    }\n",
       "\n",
       "    .dataframe thead th {\n",
       "        text-align: right;\n",
       "    }\n",
       "</style>\n",
       "<table border=\"1\" class=\"dataframe\">\n",
       "  <thead>\n",
       "    <tr style=\"text-align: right;\">\n",
       "      <th></th>\n",
       "      <th>emp_id</th>\n",
       "      <th>product_id</th>\n",
       "      <th>sales</th>\n",
       "      <th>price</th>\n",
       "      <th>year</th>\n",
       "      <th>month</th>\n",
       "      <th>week_day</th>\n",
       "      <th>day</th>\n",
       "      <th>revenue</th>\n",
       "    </tr>\n",
       "  </thead>\n",
       "  <tbody>\n",
       "    <tr>\n",
       "      <th>0</th>\n",
       "      <td>A1</td>\n",
       "      <td>P1</td>\n",
       "      <td>30.0</td>\n",
       "      <td>11.5</td>\n",
       "      <td>2019</td>\n",
       "      <td>January</td>\n",
       "      <td>Tuesday</td>\n",
       "      <td>1</td>\n",
       "      <td>345.0</td>\n",
       "    </tr>\n",
       "    <tr>\n",
       "      <th>1</th>\n",
       "      <td>A1</td>\n",
       "      <td>P1</td>\n",
       "      <td>28.0</td>\n",
       "      <td>11.5</td>\n",
       "      <td>2019</td>\n",
       "      <td>January</td>\n",
       "      <td>Wednesday</td>\n",
       "      <td>2</td>\n",
       "      <td>322.0</td>\n",
       "    </tr>\n",
       "  </tbody>\n",
       "</table>\n",
       "</div>"
      ],
      "text/plain": [
       "  emp_id product_id  sales  price  year    month   week_day  day  revenue\n",
       "0     A1         P1   30.0   11.5  2019  January    Tuesday    1    345.0\n",
       "1     A1         P1   28.0   11.5  2019  January  Wednesday    2    322.0"
      ]
     },
     "execution_count": 156,
     "metadata": {},
     "output_type": "execute_result"
    }
   ],
   "source": [
    "sales.head(2)"
   ]
  },
  {
   "cell_type": "markdown",
   "metadata": {},
   "source": [
    "### Answering Key BUSINESS QUESTIONs"
   ]
  },
  {
   "cell_type": "markdown",
   "metadata": {},
   "source": [
    "### Q1 Weekday Stats on below\n",
    "#### a. Sum of Sales by week day\n",
    "#### b. Sum of revenue by week day\n",
    "#### c. Average revenue by week day"
   ]
  },
  {
   "cell_type": "code",
   "execution_count": 176,
   "metadata": {},
   "outputs": [
    {
     "data": {
      "text/html": [
       "<div>\n",
       "<style scoped>\n",
       "    .dataframe tbody tr th:only-of-type {\n",
       "        vertical-align: middle;\n",
       "    }\n",
       "\n",
       "    .dataframe tbody tr th {\n",
       "        vertical-align: top;\n",
       "    }\n",
       "\n",
       "    .dataframe thead tr th {\n",
       "        text-align: left;\n",
       "    }\n",
       "\n",
       "    .dataframe thead tr:last-of-type th {\n",
       "        text-align: right;\n",
       "    }\n",
       "</style>\n",
       "<table border=\"1\" class=\"dataframe\">\n",
       "  <thead>\n",
       "    <tr>\n",
       "      <th></th>\n",
       "      <th>sales</th>\n",
       "      <th colspan=\"2\" halign=\"left\">revenue</th>\n",
       "    </tr>\n",
       "    <tr>\n",
       "      <th></th>\n",
       "      <th>sum</th>\n",
       "      <th>sum</th>\n",
       "      <th>mean</th>\n",
       "    </tr>\n",
       "    <tr>\n",
       "      <th>week_day</th>\n",
       "      <th></th>\n",
       "      <th></th>\n",
       "      <th></th>\n",
       "    </tr>\n",
       "  </thead>\n",
       "  <tbody>\n",
       "    <tr>\n",
       "      <th>Friday</th>\n",
       "      <td>199.0</td>\n",
       "      <td>2288.5</td>\n",
       "      <td>572.125</td>\n",
       "    </tr>\n",
       "    <tr>\n",
       "      <th>Monday</th>\n",
       "      <td>144.0</td>\n",
       "      <td>1656.0</td>\n",
       "      <td>552.000</td>\n",
       "    </tr>\n",
       "    <tr>\n",
       "      <th>Saturday</th>\n",
       "      <td>207.0</td>\n",
       "      <td>2380.5</td>\n",
       "      <td>595.125</td>\n",
       "    </tr>\n",
       "    <tr>\n",
       "      <th>Sunday</th>\n",
       "      <td>205.0</td>\n",
       "      <td>2357.5</td>\n",
       "      <td>589.375</td>\n",
       "    </tr>\n",
       "    <tr>\n",
       "      <th>Thursday</th>\n",
       "      <td>195.0</td>\n",
       "      <td>2242.5</td>\n",
       "      <td>560.625</td>\n",
       "    </tr>\n",
       "    <tr>\n",
       "      <th>Tuesday</th>\n",
       "      <td>223.0</td>\n",
       "      <td>2564.5</td>\n",
       "      <td>512.900</td>\n",
       "    </tr>\n",
       "    <tr>\n",
       "      <th>Wednesday</th>\n",
       "      <td>254.0</td>\n",
       "      <td>2921.0</td>\n",
       "      <td>584.200</td>\n",
       "    </tr>\n",
       "  </tbody>\n",
       "</table>\n",
       "</div>"
      ],
      "text/plain": [
       "           sales revenue         \n",
       "             sum     sum     mean\n",
       "week_day                         \n",
       "Friday     199.0  2288.5  572.125\n",
       "Monday     144.0  1656.0  552.000\n",
       "Saturday   207.0  2380.5  595.125\n",
       "Sunday     205.0  2357.5  589.375\n",
       "Thursday   195.0  2242.5  560.625\n",
       "Tuesday    223.0  2564.5  512.900\n",
       "Wednesday  254.0  2921.0  584.200"
      ]
     },
     "execution_count": 176,
     "metadata": {},
     "output_type": "execute_result"
    }
   ],
   "source": [
    "#solution1 \n",
    "sales.groupby('week_day').agg({'sales':'sum','revenue':['sum', 'mean']})"
   ]
  },
  {
   "cell_type": "code",
   "execution_count": 189,
   "metadata": {},
   "outputs": [
    {
     "data": {
      "text/html": [
       "<div>\n",
       "<style scoped>\n",
       "    .dataframe tbody tr th:only-of-type {\n",
       "        vertical-align: middle;\n",
       "    }\n",
       "\n",
       "    .dataframe tbody tr th {\n",
       "        vertical-align: top;\n",
       "    }\n",
       "\n",
       "    .dataframe thead tr th {\n",
       "        text-align: left;\n",
       "    }\n",
       "\n",
       "    .dataframe thead tr:last-of-type th {\n",
       "        text-align: right;\n",
       "    }\n",
       "</style>\n",
       "<table border=\"1\" class=\"dataframe\">\n",
       "  <thead>\n",
       "    <tr>\n",
       "      <th></th>\n",
       "      <th colspan=\"2\" halign=\"left\">sales</th>\n",
       "      <th colspan=\"2\" halign=\"left\">revenue</th>\n",
       "    </tr>\n",
       "    <tr>\n",
       "      <th></th>\n",
       "      <th>sum</th>\n",
       "      <th>mean</th>\n",
       "      <th>sum</th>\n",
       "      <th>mean</th>\n",
       "    </tr>\n",
       "    <tr>\n",
       "      <th>week_day</th>\n",
       "      <th></th>\n",
       "      <th></th>\n",
       "      <th></th>\n",
       "      <th></th>\n",
       "    </tr>\n",
       "  </thead>\n",
       "  <tbody>\n",
       "    <tr>\n",
       "      <th>Friday</th>\n",
       "      <td>199.0</td>\n",
       "      <td>49.75</td>\n",
       "      <td>2288.5</td>\n",
       "      <td>572.125</td>\n",
       "    </tr>\n",
       "    <tr>\n",
       "      <th>Monday</th>\n",
       "      <td>144.0</td>\n",
       "      <td>48.00</td>\n",
       "      <td>1656.0</td>\n",
       "      <td>552.000</td>\n",
       "    </tr>\n",
       "    <tr>\n",
       "      <th>Saturday</th>\n",
       "      <td>207.0</td>\n",
       "      <td>51.75</td>\n",
       "      <td>2380.5</td>\n",
       "      <td>595.125</td>\n",
       "    </tr>\n",
       "    <tr>\n",
       "      <th>Sunday</th>\n",
       "      <td>205.0</td>\n",
       "      <td>51.25</td>\n",
       "      <td>2357.5</td>\n",
       "      <td>589.375</td>\n",
       "    </tr>\n",
       "    <tr>\n",
       "      <th>Thursday</th>\n",
       "      <td>195.0</td>\n",
       "      <td>48.75</td>\n",
       "      <td>2242.5</td>\n",
       "      <td>560.625</td>\n",
       "    </tr>\n",
       "    <tr>\n",
       "      <th>Tuesday</th>\n",
       "      <td>223.0</td>\n",
       "      <td>44.60</td>\n",
       "      <td>2564.5</td>\n",
       "      <td>512.900</td>\n",
       "    </tr>\n",
       "    <tr>\n",
       "      <th>Wednesday</th>\n",
       "      <td>254.0</td>\n",
       "      <td>50.80</td>\n",
       "      <td>2921.0</td>\n",
       "      <td>584.200</td>\n",
       "    </tr>\n",
       "  </tbody>\n",
       "</table>\n",
       "</div>"
      ],
      "text/plain": [
       "           sales        revenue         \n",
       "             sum   mean     sum     mean\n",
       "week_day                                \n",
       "Friday     199.0  49.75  2288.5  572.125\n",
       "Monday     144.0  48.00  1656.0  552.000\n",
       "Saturday   207.0  51.75  2380.5  595.125\n",
       "Sunday     205.0  51.25  2357.5  589.375\n",
       "Thursday   195.0  48.75  2242.5  560.625\n",
       "Tuesday    223.0  44.60  2564.5  512.900\n",
       "Wednesday  254.0  50.80  2921.0  584.200"
      ]
     },
     "execution_count": 189,
     "metadata": {},
     "output_type": "execute_result"
    }
   ],
   "source": [
    "#solution2\n",
    "sales.groupby('week_day')[['sales','revenue']].agg(['sum','mean'])\n"
   ]
  },
  {
   "cell_type": "code",
   "execution_count": 158,
   "metadata": {},
   "outputs": [
    {
     "name": "stderr",
     "output_type": "stream",
     "text": [
      "C:\\ProgramData\\Anaconda3\\lib\\site-packages\\ipykernel_launcher.py:1: FutureWarning: Indexing with multiple keys (implicitly converted to a tuple of keys) will be deprecated, use a list instead.\n",
      "  \"\"\"Entry point for launching an IPython kernel.\n"
     ]
    },
    {
     "data": {
      "text/html": [
       "<div>\n",
       "<style scoped>\n",
       "    .dataframe tbody tr th:only-of-type {\n",
       "        vertical-align: middle;\n",
       "    }\n",
       "\n",
       "    .dataframe tbody tr th {\n",
       "        vertical-align: top;\n",
       "    }\n",
       "\n",
       "    .dataframe thead th {\n",
       "        text-align: right;\n",
       "    }\n",
       "</style>\n",
       "<table border=\"1\" class=\"dataframe\">\n",
       "  <thead>\n",
       "    <tr style=\"text-align: right;\">\n",
       "      <th></th>\n",
       "      <th>sales</th>\n",
       "      <th>revenue</th>\n",
       "    </tr>\n",
       "    <tr>\n",
       "      <th>week_day</th>\n",
       "      <th></th>\n",
       "      <th></th>\n",
       "    </tr>\n",
       "  </thead>\n",
       "  <tbody>\n",
       "    <tr>\n",
       "      <th>Friday</th>\n",
       "      <td>199.0</td>\n",
       "      <td>2288.5</td>\n",
       "    </tr>\n",
       "    <tr>\n",
       "      <th>Monday</th>\n",
       "      <td>144.0</td>\n",
       "      <td>1656.0</td>\n",
       "    </tr>\n",
       "    <tr>\n",
       "      <th>Saturday</th>\n",
       "      <td>207.0</td>\n",
       "      <td>2380.5</td>\n",
       "    </tr>\n",
       "    <tr>\n",
       "      <th>Sunday</th>\n",
       "      <td>205.0</td>\n",
       "      <td>2357.5</td>\n",
       "    </tr>\n",
       "    <tr>\n",
       "      <th>Thursday</th>\n",
       "      <td>195.0</td>\n",
       "      <td>2242.5</td>\n",
       "    </tr>\n",
       "    <tr>\n",
       "      <th>Tuesday</th>\n",
       "      <td>223.0</td>\n",
       "      <td>2564.5</td>\n",
       "    </tr>\n",
       "    <tr>\n",
       "      <th>Wednesday</th>\n",
       "      <td>254.0</td>\n",
       "      <td>2921.0</td>\n",
       "    </tr>\n",
       "  </tbody>\n",
       "</table>\n",
       "</div>"
      ],
      "text/plain": [
       "           sales  revenue\n",
       "week_day                 \n",
       "Friday     199.0   2288.5\n",
       "Monday     144.0   1656.0\n",
       "Saturday   207.0   2380.5\n",
       "Sunday     205.0   2357.5\n",
       "Thursday   195.0   2242.5\n",
       "Tuesday    223.0   2564.5\n",
       "Wednesday  254.0   2921.0"
      ]
     },
     "execution_count": 158,
     "metadata": {},
     "output_type": "execute_result"
    }
   ],
   "source": [
    "#solution 3\n",
    "sales.groupby('week_day')['sales','revenue'].sum()"
   ]
  },
  {
   "cell_type": "code",
   "execution_count": 159,
   "metadata": {},
   "outputs": [
    {
     "data": {
      "text/plain": [
       "week_day\n",
       "Friday       11.5\n",
       "Monday       11.5\n",
       "Saturday     11.5\n",
       "Sunday       11.5\n",
       "Thursday     11.5\n",
       "Tuesday      11.5\n",
       "Wednesday    11.5\n",
       "Name: price, dtype: float64"
      ]
     },
     "execution_count": 159,
     "metadata": {},
     "output_type": "execute_result"
    }
   ],
   "source": [
    "sales.groupby('week_day')['price'].mean()"
   ]
  },
  {
   "cell_type": "code",
   "execution_count": 188,
   "metadata": {},
   "outputs": [
    {
     "data": {
      "text/html": [
       "<div>\n",
       "<style scoped>\n",
       "    .dataframe tbody tr th:only-of-type {\n",
       "        vertical-align: middle;\n",
       "    }\n",
       "\n",
       "    .dataframe tbody tr th {\n",
       "        vertical-align: top;\n",
       "    }\n",
       "\n",
       "    .dataframe thead th {\n",
       "        text-align: right;\n",
       "    }\n",
       "</style>\n",
       "<table border=\"1\" class=\"dataframe\">\n",
       "  <thead>\n",
       "    <tr style=\"text-align: right;\">\n",
       "      <th></th>\n",
       "      <th>emp_id</th>\n",
       "      <th>product_id</th>\n",
       "      <th>sales</th>\n",
       "      <th>price</th>\n",
       "      <th>year</th>\n",
       "      <th>month</th>\n",
       "      <th>week_day</th>\n",
       "      <th>day</th>\n",
       "      <th>revenue</th>\n",
       "      <th>percentage</th>\n",
       "    </tr>\n",
       "  </thead>\n",
       "  <tbody>\n",
       "    <tr>\n",
       "      <th>0</th>\n",
       "      <td>A1</td>\n",
       "      <td>P1</td>\n",
       "      <td>30.0</td>\n",
       "      <td>11.5</td>\n",
       "      <td>2019</td>\n",
       "      <td>January</td>\n",
       "      <td>Tuesday</td>\n",
       "      <td>1</td>\n",
       "      <td>345.0</td>\n",
       "      <td>2.102313</td>\n",
       "    </tr>\n",
       "    <tr>\n",
       "      <th>1</th>\n",
       "      <td>A1</td>\n",
       "      <td>P1</td>\n",
       "      <td>28.0</td>\n",
       "      <td>11.5</td>\n",
       "      <td>2019</td>\n",
       "      <td>January</td>\n",
       "      <td>Wednesday</td>\n",
       "      <td>2</td>\n",
       "      <td>322.0</td>\n",
       "      <td>1.962158</td>\n",
       "    </tr>\n",
       "  </tbody>\n",
       "</table>\n",
       "</div>"
      ],
      "text/plain": [
       "  emp_id product_id  sales  price  year    month   week_day  day  revenue  \\\n",
       "0     A1         P1   30.0   11.5  2019  January    Tuesday    1    345.0   \n",
       "1     A1         P1   28.0   11.5  2019  January  Wednesday    2    322.0   \n",
       "\n",
       "   percentage  \n",
       "0    2.102313  \n",
       "1    1.962158  "
      ]
     },
     "execution_count": 188,
     "metadata": {},
     "output_type": "execute_result"
    }
   ],
   "source": [
    "sales.head(2)"
   ]
  },
  {
   "cell_type": "markdown",
   "metadata": {},
   "source": [
    "### Q2. Compute the percentage contribution to the overall sales by day(which day the sales are peak?)"
   ]
  },
  {
   "cell_type": "code",
   "execution_count": 179,
   "metadata": {},
   "outputs": [
    {
     "data": {
      "text/plain": [
       "1427.0"
      ]
     },
     "execution_count": 179,
     "metadata": {},
     "output_type": "execute_result"
    }
   ],
   "source": [
    "sales['revenue'].sum()"
   ]
  },
  {
   "cell_type": "code",
   "execution_count": 184,
   "metadata": {},
   "outputs": [],
   "source": [
    "sales['percentage'] = (sales['revenue']/sales['revenue'].sum())*100"
   ]
  },
  {
   "cell_type": "code",
   "execution_count": 187,
   "metadata": {},
   "outputs": [
    {
     "data": {
      "text/html": [
       "<div>\n",
       "<style scoped>\n",
       "    .dataframe tbody tr th:only-of-type {\n",
       "        vertical-align: middle;\n",
       "    }\n",
       "\n",
       "    .dataframe tbody tr th {\n",
       "        vertical-align: top;\n",
       "    }\n",
       "\n",
       "    .dataframe thead th {\n",
       "        text-align: right;\n",
       "    }\n",
       "</style>\n",
       "<table border=\"1\" class=\"dataframe\">\n",
       "  <thead>\n",
       "    <tr style=\"text-align: right;\">\n",
       "      <th></th>\n",
       "      <th>emp_id</th>\n",
       "      <th>product_id</th>\n",
       "      <th>sales</th>\n",
       "      <th>price</th>\n",
       "      <th>year</th>\n",
       "      <th>month</th>\n",
       "      <th>week_day</th>\n",
       "      <th>day</th>\n",
       "      <th>revenue</th>\n",
       "      <th>percentage</th>\n",
       "    </tr>\n",
       "  </thead>\n",
       "  <tbody>\n",
       "    <tr>\n",
       "      <th>0</th>\n",
       "      <td>A1</td>\n",
       "      <td>P1</td>\n",
       "      <td>30.0</td>\n",
       "      <td>11.5</td>\n",
       "      <td>2019</td>\n",
       "      <td>January</td>\n",
       "      <td>Tuesday</td>\n",
       "      <td>1</td>\n",
       "      <td>345.0</td>\n",
       "      <td>2.102313</td>\n",
       "    </tr>\n",
       "    <tr>\n",
       "      <th>1</th>\n",
       "      <td>A1</td>\n",
       "      <td>P1</td>\n",
       "      <td>28.0</td>\n",
       "      <td>11.5</td>\n",
       "      <td>2019</td>\n",
       "      <td>January</td>\n",
       "      <td>Wednesday</td>\n",
       "      <td>2</td>\n",
       "      <td>322.0</td>\n",
       "      <td>1.962158</td>\n",
       "    </tr>\n",
       "  </tbody>\n",
       "</table>\n",
       "</div>"
      ],
      "text/plain": [
       "  emp_id product_id  sales  price  year    month   week_day  day  revenue  \\\n",
       "0     A1         P1   30.0   11.5  2019  January    Tuesday    1    345.0   \n",
       "1     A1         P1   28.0   11.5  2019  January  Wednesday    2    322.0   \n",
       "\n",
       "   percentage  \n",
       "0    2.102313  \n",
       "1    1.962158  "
      ]
     },
     "execution_count": 187,
     "metadata": {},
     "output_type": "execute_result"
    }
   ],
   "source": [
    "sales.head(2)"
   ]
  },
  {
   "cell_type": "code",
   "execution_count": 186,
   "metadata": {},
   "outputs": [
    {
     "data": {
      "text/plain": [
       "16410.5"
      ]
     },
     "execution_count": 186,
     "metadata": {},
     "output_type": "execute_result"
    }
   ],
   "source": [
    "sales.revenue.sum()"
   ]
  },
  {
   "cell_type": "code",
   "execution_count": null,
   "metadata": {},
   "outputs": [],
   "source": []
  }
 ],
 "metadata": {
  "kernelspec": {
   "display_name": "Python 3",
   "language": "python",
   "name": "python3"
  },
  "language_info": {
   "codemirror_mode": {
    "name": "ipython",
    "version": 3
   },
   "file_extension": ".py",
   "mimetype": "text/x-python",
   "name": "python",
   "nbconvert_exporter": "python",
   "pygments_lexer": "ipython3",
   "version": "3.7.6"
  }
 },
 "nbformat": 4,
 "nbformat_minor": 4
}
