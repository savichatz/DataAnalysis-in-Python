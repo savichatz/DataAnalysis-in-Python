{
 "cells": [
  {
   "cell_type": "markdown",
   "metadata": {
    "id": "bK1uceqAMcWq"
   },
   "source": [
    "### Data Manipulation on Loan DataSet"
   ]
  },
  {
   "cell_type": "markdown",
   "metadata": {
    "id": "X2sWAadtM6xv"
   },
   "source": [
    "* Below are the operations I am going to perform\n",
    "    * Connecting to AWS Database\n",
    "    * Get all existing tables from database\n",
    "    * Load database tables into pandas dataframe\n",
    "    * Check whether all columns have right datatypes\n",
    "    * Merging tables (customers, loans, transactions)\n",
    "    \n",
    "    * get month from date\n",
    "\n",
    "* Answering Business Questions\n",
    "    * Q1. Total Loan amount disbursed by DisbursedMonth, Gender, Tenor\n",
    "        * Get month name from the given date\n",
    "        * Use groupby on multiple cols and agg\n",
    "    * Q2. Average days to disburse loan from application date ( Loan creation date, Loan Disbursement Date)\n",
    "        * Calculate difference between dates\n",
    "        * Calculate mean on above based on condition given on specific value of a col\n",
    "    * Q3. Average Loan amount disbursed to Female for Business Purpose\n",
    "    * Q4. Average Age of Customers requesting loan for Educational Purpose\n",
    "        * Calculating age of customers based on DateOfBirth column- from (now-DoB)\n",
    "        * Calculate mean on above based on condition given on specific value of a col\n",
    "    * Q5. Average tenor for the loan disbursed for customers with the max credit score\n",
    "    * Q5. Customers with the max credit score, average tenor for the loan disbursed to them\n",
    "        * Create multiple filters based on given criteria\n"
   ]
  },
  {
   "cell_type": "code",
   "execution_count": 2,
   "metadata": {
    "id": "tHsBx0Ku_BmV"
   },
   "outputs": [],
   "source": [
    "import pandas as pd\n",
    "from sqlalchemy import create_engine"
   ]
  },
  {
   "cell_type": "code",
   "execution_count": 3,
   "metadata": {
    "colab": {
     "base_uri": "https://localhost:8080/"
    },
    "id": "7OiCisfk_B5F",
    "outputId": "2d8f29f4-8561-40db-fd37-7c0d50ec76e3"
   },
   "outputs": [
    {
     "name": "stdout",
     "output_type": "stream",
     "text": [
      "Requirement already satisfied: pymssql in c:\\programdata\\anaconda3\\lib\\site-packages (2.2.3)\n"
     ]
    },
    {
     "name": "stderr",
     "output_type": "stream",
     "text": [
      "WARNING: You are using pip version 20.2.4; however, version 21.3.1 is available.\n",
      "You should consider upgrading via the 'c:\\programdata\\anaconda3\\python.exe -m pip install --upgrade pip' command.\n"
     ]
    }
   ],
   "source": [
    "#install pymssql\n",
    "!pip install pymssql"
   ]
  },
  {
   "cell_type": "code",
   "execution_count": 4,
   "metadata": {
    "id": "UhRHuqD8w59-"
   },
   "outputs": [],
   "source": [
    "import pymssql"
   ]
  },
  {
   "cell_type": "markdown",
   "metadata": {},
   "source": [
    "### Connecting to AWS Database"
   ]
  },
  {
   "cell_type": "code",
   "execution_count": 7,
   "metadata": {
    "id": "kF2u53o9_7vs"
   },
   "outputs": [],
   "source": [
    "uri = \"redacted\"\n",
    "engine = create_engine(uri)"
   ]
  },
  {
   "cell_type": "code",
   "execution_count": 8,
   "metadata": {
    "id": "moBr-yD6Bc9F"
   },
   "outputs": [],
   "source": [
    "conn = engine.connect()"
   ]
  },
  {
   "cell_type": "code",
   "execution_count": null,
   "metadata": {
    "id": "fQ8XCirTBjak"
   },
   "outputs": [],
   "source": [
    "# Loans data, customer demographice"
   ]
  },
  {
   "cell_type": "markdown",
   "metadata": {},
   "source": [
    "### Get all existing tables from Database"
   ]
  },
  {
   "cell_type": "code",
   "execution_count": 115,
   "metadata": {
    "colab": {
     "base_uri": "https://localhost:8080/",
     "height": 143
    },
    "id": "vRQbAMeCCcMH",
    "outputId": "16b99bee-bbb0-4312-9a07-c0cb21ca7923"
   },
   "outputs": [
    {
     "data": {
      "text/html": [
       "<div>\n",
       "<style scoped>\n",
       "    .dataframe tbody tr th:only-of-type {\n",
       "        vertical-align: middle;\n",
       "    }\n",
       "\n",
       "    .dataframe tbody tr th {\n",
       "        vertical-align: top;\n",
       "    }\n",
       "\n",
       "    .dataframe thead th {\n",
       "        text-align: right;\n",
       "    }\n",
       "</style>\n",
       "<table border=\"1\" class=\"dataframe\">\n",
       "  <thead>\n",
       "    <tr style=\"text-align: right;\">\n",
       "      <th></th>\n",
       "      <th>TABLE_NAME</th>\n",
       "    </tr>\n",
       "  </thead>\n",
       "  <tbody>\n",
       "    <tr>\n",
       "      <th>0</th>\n",
       "      <td>LoanAccounts</td>\n",
       "    </tr>\n",
       "    <tr>\n",
       "      <th>1</th>\n",
       "      <td>TransactionsLog</td>\n",
       "    </tr>\n",
       "    <tr>\n",
       "      <th>2</th>\n",
       "      <td>Customers</td>\n",
       "    </tr>\n",
       "  </tbody>\n",
       "</table>\n",
       "</div>"
      ],
      "text/plain": [
       "        TABLE_NAME\n",
       "0     LoanAccounts\n",
       "1  TransactionsLog\n",
       "2        Customers"
      ]
     },
     "execution_count": 115,
     "metadata": {},
     "output_type": "execute_result"
    }
   ],
   "source": [
    "# All tables from the DataBase\n",
    "pd.read_sql('SELECT TABLE_NAME FROM INFORMATION_SCHEMA.TABLES', conn)\n"
   ]
  },
  {
   "cell_type": "markdown",
   "metadata": {},
   "source": [
    "### Load database tables into pandas dataframe"
   ]
  },
  {
   "cell_type": "code",
   "execution_count": 10,
   "metadata": {
    "id": "OpApvUpsEgkU"
   },
   "outputs": [],
   "source": [
    "#Analysing LoanAccounts Data"
   ]
  },
  {
   "cell_type": "code",
   "execution_count": 11,
   "metadata": {
    "id": "3bffhtYkBr8k"
   },
   "outputs": [],
   "source": [
    "query1 = 'SELECT * FROM [LOANAccounts]'\n",
    "\n",
    "loans = pd.read_sql(query1, conn)"
   ]
  },
  {
   "cell_type": "code",
   "execution_count": 12,
   "metadata": {},
   "outputs": [],
   "source": [
    "#Exporting to csv jus for my reference\n",
    "loans.to_csv('loans.csv')"
   ]
  },
  {
   "cell_type": "code",
   "execution_count": 116,
   "metadata": {
    "colab": {
     "base_uri": "https://localhost:8080/",
     "height": 357
    },
    "id": "_8x6-fOmBpvb",
    "outputId": "903b5189-b935-4f3f-d18d-d2f6425ad114"
   },
   "outputs": [
    {
     "data": {
      "text/html": [
       "<div>\n",
       "<style scoped>\n",
       "    .dataframe tbody tr th:only-of-type {\n",
       "        vertical-align: middle;\n",
       "    }\n",
       "\n",
       "    .dataframe tbody tr th {\n",
       "        vertical-align: top;\n",
       "    }\n",
       "\n",
       "    .dataframe thead th {\n",
       "        text-align: right;\n",
       "    }\n",
       "</style>\n",
       "<table border=\"1\" class=\"dataframe\">\n",
       "  <thead>\n",
       "    <tr style=\"text-align: right;\">\n",
       "      <th></th>\n",
       "      <th>Id</th>\n",
       "      <th>CreatedDate</th>\n",
       "      <th>CustomerId</th>\n",
       "      <th>LoanAmount</th>\n",
       "      <th>ProductId</th>\n",
       "      <th>LoanReason</th>\n",
       "      <th>Installment</th>\n",
       "      <th>Tenor</th>\n",
       "      <th>Rate</th>\n",
       "      <th>LoanStatus</th>\n",
       "      <th>FirstRepaymentDate</th>\n",
       "      <th>MaturityDate</th>\n",
       "      <th>TotalOutstandingPrincipal</th>\n",
       "      <th>TotalOutstandingInterest</th>\n",
       "      <th>TotalOutstandingBalance</th>\n",
       "      <th>IsEmployed</th>\n",
       "      <th>IsHomeOwner</th>\n",
       "      <th>RepaymentType</th>\n",
       "      <th>LoanPurpose</th>\n",
       "    </tr>\n",
       "  </thead>\n",
       "  <tbody>\n",
       "    <tr>\n",
       "      <th>0</th>\n",
       "      <td>1</td>\n",
       "      <td>2021-06-08 21:54:53.830</td>\n",
       "      <td>2</td>\n",
       "      <td>40000.0</td>\n",
       "      <td>1</td>\n",
       "      <td>NA</td>\n",
       "      <td>54933.33</td>\n",
       "      <td>3</td>\n",
       "      <td>312.0</td>\n",
       "      <td>Rejected</td>\n",
       "      <td>2021-07-07</td>\n",
       "      <td>2021-08-09 21:54:53.820</td>\n",
       "      <td>40000.0</td>\n",
       "      <td>124800.00</td>\n",
       "      <td>164800.00</td>\n",
       "      <td>True</td>\n",
       "      <td>None</td>\n",
       "      <td>1</td>\n",
       "      <td>Business</td>\n",
       "    </tr>\n",
       "    <tr>\n",
       "      <th>1</th>\n",
       "      <td>2</td>\n",
       "      <td>2021-06-09 16:17:15.367</td>\n",
       "      <td>2</td>\n",
       "      <td>45000.0</td>\n",
       "      <td>1</td>\n",
       "      <td>NA</td>\n",
       "      <td>30900.00</td>\n",
       "      <td>6</td>\n",
       "      <td>312.0</td>\n",
       "      <td>Rejected</td>\n",
       "      <td>2021-07-08</td>\n",
       "      <td>2021-11-09 16:17:15.357</td>\n",
       "      <td>45000.0</td>\n",
       "      <td>140400.00</td>\n",
       "      <td>185400.00</td>\n",
       "      <td>True</td>\n",
       "      <td>None</td>\n",
       "      <td>1</td>\n",
       "      <td>SpecialEvents</td>\n",
       "    </tr>\n",
       "    <tr>\n",
       "      <th>2</th>\n",
       "      <td>3</td>\n",
       "      <td>2021-06-09 18:01:55.690</td>\n",
       "      <td>2</td>\n",
       "      <td>45000.0</td>\n",
       "      <td>1</td>\n",
       "      <td>NA</td>\n",
       "      <td>30900.00</td>\n",
       "      <td>6</td>\n",
       "      <td>312.0</td>\n",
       "      <td>Rejected</td>\n",
       "      <td>2021-07-08</td>\n",
       "      <td>2021-11-09 18:01:55.690</td>\n",
       "      <td>45000.0</td>\n",
       "      <td>140400.00</td>\n",
       "      <td>185400.00</td>\n",
       "      <td>True</td>\n",
       "      <td>None</td>\n",
       "      <td>1</td>\n",
       "      <td>Investment</td>\n",
       "    </tr>\n",
       "    <tr>\n",
       "      <th>3</th>\n",
       "      <td>4</td>\n",
       "      <td>2021-06-09 18:16:59.903</td>\n",
       "      <td>2</td>\n",
       "      <td>25000.0</td>\n",
       "      <td>1</td>\n",
       "      <td>NA</td>\n",
       "      <td>34333.33</td>\n",
       "      <td>3</td>\n",
       "      <td>312.0</td>\n",
       "      <td>Rejected</td>\n",
       "      <td>2021-07-08</td>\n",
       "      <td>2021-08-09 18:16:59.900</td>\n",
       "      <td>25000.0</td>\n",
       "      <td>78000.00</td>\n",
       "      <td>103000.00</td>\n",
       "      <td>True</td>\n",
       "      <td>None</td>\n",
       "      <td>1</td>\n",
       "      <td>Investment</td>\n",
       "    </tr>\n",
       "    <tr>\n",
       "      <th>4</th>\n",
       "      <td>5</td>\n",
       "      <td>2021-06-09 18:49:50.483</td>\n",
       "      <td>2</td>\n",
       "      <td>25000.0</td>\n",
       "      <td>1</td>\n",
       "      <td>NA</td>\n",
       "      <td>10774.98</td>\n",
       "      <td>4</td>\n",
       "      <td>312.0</td>\n",
       "      <td>Settled</td>\n",
       "      <td>2021-07-08</td>\n",
       "      <td>2021-09-09 18:49:50.483</td>\n",
       "      <td>25000.0</td>\n",
       "      <td>18099.93</td>\n",
       "      <td>43099.93</td>\n",
       "      <td>True</td>\n",
       "      <td>None</td>\n",
       "      <td>1</td>\n",
       "      <td>Rent</td>\n",
       "    </tr>\n",
       "  </tbody>\n",
       "</table>\n",
       "</div>"
      ],
      "text/plain": [
       "   Id             CreatedDate  CustomerId  LoanAmount  ProductId LoanReason  \\\n",
       "0   1 2021-06-08 21:54:53.830           2     40000.0          1         NA   \n",
       "1   2 2021-06-09 16:17:15.367           2     45000.0          1         NA   \n",
       "2   3 2021-06-09 18:01:55.690           2     45000.0          1         NA   \n",
       "3   4 2021-06-09 18:16:59.903           2     25000.0          1         NA   \n",
       "4   5 2021-06-09 18:49:50.483           2     25000.0          1         NA   \n",
       "\n",
       "   Installment  Tenor   Rate LoanStatus FirstRepaymentDate  \\\n",
       "0     54933.33      3  312.0   Rejected         2021-07-07   \n",
       "1     30900.00      6  312.0   Rejected         2021-07-08   \n",
       "2     30900.00      6  312.0   Rejected         2021-07-08   \n",
       "3     34333.33      3  312.0   Rejected         2021-07-08   \n",
       "4     10774.98      4  312.0    Settled         2021-07-08   \n",
       "\n",
       "             MaturityDate  TotalOutstandingPrincipal  \\\n",
       "0 2021-08-09 21:54:53.820                    40000.0   \n",
       "1 2021-11-09 16:17:15.357                    45000.0   \n",
       "2 2021-11-09 18:01:55.690                    45000.0   \n",
       "3 2021-08-09 18:16:59.900                    25000.0   \n",
       "4 2021-09-09 18:49:50.483                    25000.0   \n",
       "\n",
       "   TotalOutstandingInterest  TotalOutstandingBalance  IsEmployed IsHomeOwner  \\\n",
       "0                 124800.00                164800.00        True        None   \n",
       "1                 140400.00                185400.00        True        None   \n",
       "2                 140400.00                185400.00        True        None   \n",
       "3                  78000.00                103000.00        True        None   \n",
       "4                  18099.93                 43099.93        True        None   \n",
       "\n",
       "   RepaymentType    LoanPurpose  \n",
       "0              1       Business  \n",
       "1              1  SpecialEvents  \n",
       "2              1     Investment  \n",
       "3              1     Investment  \n",
       "4              1           Rent  "
      ]
     },
     "execution_count": 116,
     "metadata": {},
     "output_type": "execute_result"
    }
   ],
   "source": [
    "loans.head()"
   ]
  },
  {
   "cell_type": "code",
   "execution_count": 14,
   "metadata": {
    "colab": {
     "base_uri": "https://localhost:8080/"
    },
    "id": "1mgYwvfGDiyt",
    "outputId": "3a2c4a49-ef14-4547-df6d-50aa3573c896"
   },
   "outputs": [
    {
     "data": {
      "text/plain": [
       "Id                                    int64\n",
       "CreatedDate                  datetime64[ns]\n",
       "CustomerId                            int64\n",
       "LoanAmount                          float64\n",
       "ProductId                             int64\n",
       "LoanReason                           object\n",
       "Installment                         float64\n",
       "Tenor                                 int64\n",
       "Rate                                float64\n",
       "LoanStatus                           object\n",
       "FirstRepaymentDate           datetime64[ns]\n",
       "MaturityDate                 datetime64[ns]\n",
       "TotalOutstandingPrincipal           float64\n",
       "TotalOutstandingInterest            float64\n",
       "TotalOutstandingBalance             float64\n",
       "IsEmployed                             bool\n",
       "IsHomeOwner                          object\n",
       "RepaymentType                         int64\n",
       "LoanPurpose                          object\n",
       "dtype: object"
      ]
     },
     "execution_count": 14,
     "metadata": {},
     "output_type": "execute_result"
    }
   ],
   "source": [
    "#Check whether all columns are having right datatypes\n",
    "loans.dtypes"
   ]
  },
  {
   "cell_type": "code",
   "execution_count": 15,
   "metadata": {
    "id": "uK1RigkCDLyA"
   },
   "outputs": [],
   "source": [
    "query2 = 'SELECT * FROM Customers'\n",
    "\n",
    "customers = pd.read_sql(query2, conn)"
   ]
  },
  {
   "cell_type": "code",
   "execution_count": 16,
   "metadata": {},
   "outputs": [],
   "source": [
    "#Exporting to csv jus for my reference\n",
    "customers.to_csv('customers.csv')"
   ]
  },
  {
   "cell_type": "code",
   "execution_count": 17,
   "metadata": {
    "colab": {
     "base_uri": "https://localhost:8080/"
    },
    "id": "JG1n-Mi8Do8G",
    "outputId": "8ee98963-4713-4341-8cf6-d3f0e65c1751"
   },
   "outputs": [
    {
     "data": {
      "text/plain": [
       "array(['NA'], dtype=object)"
      ]
     },
     "execution_count": 17,
     "metadata": {},
     "output_type": "execute_result"
    }
   ],
   "source": [
    "loans['LoanReason'].unique()"
   ]
  },
  {
   "cell_type": "code",
   "execution_count": 18,
   "metadata": {
    "colab": {
     "base_uri": "https://localhost:8080/",
     "height": 211
    },
    "id": "vurLD1nLDWzp",
    "outputId": "e242cfc4-4fab-4ed7-91e6-66139c56e82c"
   },
   "outputs": [
    {
     "data": {
      "text/html": [
       "<div>\n",
       "<style scoped>\n",
       "    .dataframe tbody tr th:only-of-type {\n",
       "        vertical-align: middle;\n",
       "    }\n",
       "\n",
       "    .dataframe tbody tr th {\n",
       "        vertical-align: top;\n",
       "    }\n",
       "\n",
       "    .dataframe thead th {\n",
       "        text-align: right;\n",
       "    }\n",
       "</style>\n",
       "<table border=\"1\" class=\"dataframe\">\n",
       "  <thead>\n",
       "    <tr style=\"text-align: right;\">\n",
       "      <th></th>\n",
       "      <th>Id</th>\n",
       "      <th>DateOfBirth</th>\n",
       "      <th>Gender</th>\n",
       "      <th>MaritalStatus</th>\n",
       "      <th>CreditScore</th>\n",
       "      <th>LastLoginTime</th>\n",
       "      <th>IsEmailConfirmed</th>\n",
       "      <th>EmailConfirmationDate</th>\n",
       "      <th>PhoneNumberConfirmationDate</th>\n",
       "      <th>IsPhoneNumberConfirmed</th>\n",
       "      <th>EmployerSector</th>\n",
       "      <th>EmploymentStatus</th>\n",
       "      <th>IsVerified</th>\n",
       "      <th>IsBasicProfileComplete</th>\n",
       "    </tr>\n",
       "  </thead>\n",
       "  <tbody>\n",
       "    <tr>\n",
       "      <th>0</th>\n",
       "      <td>1</td>\n",
       "      <td>1997-06-20 00:00:00</td>\n",
       "      <td>Female</td>\n",
       "      <td>Single</td>\n",
       "      <td>0</td>\n",
       "      <td>None</td>\n",
       "      <td>True</td>\n",
       "      <td>2021-06-08 20:04:32.227</td>\n",
       "      <td>None</td>\n",
       "      <td>False</td>\n",
       "      <td>Private</td>\n",
       "      <td>Employed</td>\n",
       "      <td>None</td>\n",
       "      <td>True</td>\n",
       "    </tr>\n",
       "    <tr>\n",
       "      <th>1</th>\n",
       "      <td>2</td>\n",
       "      <td>1983-03-25 00:00:00</td>\n",
       "      <td>Male</td>\n",
       "      <td>Married</td>\n",
       "      <td>0</td>\n",
       "      <td>None</td>\n",
       "      <td>True</td>\n",
       "      <td>2021-06-08 20:50:22.583</td>\n",
       "      <td>None</td>\n",
       "      <td>False</td>\n",
       "      <td>Private</td>\n",
       "      <td>Employed</td>\n",
       "      <td>None</td>\n",
       "      <td>True</td>\n",
       "    </tr>\n",
       "  </tbody>\n",
       "</table>\n",
       "</div>"
      ],
      "text/plain": [
       "   Id          DateOfBirth  Gender MaritalStatus CreditScore LastLoginTime  \\\n",
       "0   1  1997-06-20 00:00:00  Female        Single           0          None   \n",
       "1   2  1983-03-25 00:00:00    Male       Married           0          None   \n",
       "\n",
       "   IsEmailConfirmed   EmailConfirmationDate PhoneNumberConfirmationDate  \\\n",
       "0              True 2021-06-08 20:04:32.227                        None   \n",
       "1              True 2021-06-08 20:50:22.583                        None   \n",
       "\n",
       "   IsPhoneNumberConfirmed EmployerSector EmploymentStatus IsVerified  \\\n",
       "0                   False        Private         Employed       None   \n",
       "1                   False        Private         Employed       None   \n",
       "\n",
       "   IsBasicProfileComplete  \n",
       "0                    True  \n",
       "1                    True  "
      ]
     },
     "execution_count": 18,
     "metadata": {},
     "output_type": "execute_result"
    }
   ],
   "source": [
    "customers.head(2)"
   ]
  },
  {
   "cell_type": "code",
   "execution_count": 19,
   "metadata": {
    "colab": {
     "base_uri": "https://localhost:8080/"
    },
    "id": "9E96tHgEDZXr",
    "outputId": "2edf4aaa-4565-4932-edde-f41520e91755"
   },
   "outputs": [
    {
     "data": {
      "text/plain": [
       "Id                                      int64\n",
       "DateOfBirth                            object\n",
       "Gender                                 object\n",
       "MaritalStatus                          object\n",
       "CreditScore                            object\n",
       "LastLoginTime                          object\n",
       "IsEmailConfirmed                         bool\n",
       "EmailConfirmationDate          datetime64[ns]\n",
       "PhoneNumberConfirmationDate            object\n",
       "IsPhoneNumberConfirmed                   bool\n",
       "EmployerSector                         object\n",
       "EmploymentStatus                       object\n",
       "IsVerified                             object\n",
       "IsBasicProfileComplete                   bool\n",
       "dtype: object"
      ]
     },
     "execution_count": 19,
     "metadata": {},
     "output_type": "execute_result"
    }
   ],
   "source": [
    "customers.dtypes"
   ]
  },
  {
   "cell_type": "code",
   "execution_count": 20,
   "metadata": {},
   "outputs": [],
   "source": [
    "#Get the TransactionLog data from database and store it in dataframe\n",
    "query3 = 'SELECT * FROM [TransactionsLog]'\n",
    "\n",
    "transactions = pd.read_sql(query3, conn)"
   ]
  },
  {
   "cell_type": "code",
   "execution_count": 117,
   "metadata": {},
   "outputs": [
    {
     "data": {
      "text/html": [
       "<div>\n",
       "<style scoped>\n",
       "    .dataframe tbody tr th:only-of-type {\n",
       "        vertical-align: middle;\n",
       "    }\n",
       "\n",
       "    .dataframe tbody tr th {\n",
       "        vertical-align: top;\n",
       "    }\n",
       "\n",
       "    .dataframe thead th {\n",
       "        text-align: right;\n",
       "    }\n",
       "</style>\n",
       "<table border=\"1\" class=\"dataframe\">\n",
       "  <thead>\n",
       "    <tr style=\"text-align: right;\">\n",
       "      <th></th>\n",
       "      <th>Id</th>\n",
       "      <th>CreatedDate</th>\n",
       "      <th>Amount</th>\n",
       "      <th>PaymentType</th>\n",
       "      <th>LoanAccountId</th>\n",
       "      <th>RepaymentDate</th>\n",
       "      <th>RepaymentDeduction</th>\n",
       "    </tr>\n",
       "  </thead>\n",
       "  <tbody>\n",
       "    <tr>\n",
       "      <th>0</th>\n",
       "      <td>1</td>\n",
       "      <td>2021-06-09 18:51:36.960</td>\n",
       "      <td>25000.0</td>\n",
       "      <td>LoanDisbursement</td>\n",
       "      <td>5</td>\n",
       "      <td>2021-06-09 18:51:36.960</td>\n",
       "      <td></td>\n",
       "    </tr>\n",
       "    <tr>\n",
       "      <th>1</th>\n",
       "      <td>2</td>\n",
       "      <td>2021-06-09 19:03:07.937</td>\n",
       "      <td>45000.0</td>\n",
       "      <td>LoanDisbursement</td>\n",
       "      <td>7</td>\n",
       "      <td>2021-06-09 19:03:07.937</td>\n",
       "      <td></td>\n",
       "    </tr>\n",
       "  </tbody>\n",
       "</table>\n",
       "</div>"
      ],
      "text/plain": [
       "   Id             CreatedDate   Amount       PaymentType  LoanAccountId  \\\n",
       "0   1 2021-06-09 18:51:36.960  25000.0  LoanDisbursement              5   \n",
       "1   2 2021-06-09 19:03:07.937  45000.0  LoanDisbursement              7   \n",
       "\n",
       "            RepaymentDate RepaymentDeduction  \n",
       "0 2021-06-09 18:51:36.960                     \n",
       "1 2021-06-09 19:03:07.937                     "
      ]
     },
     "execution_count": 117,
     "metadata": {},
     "output_type": "execute_result"
    }
   ],
   "source": [
    "transactions.head(2)"
   ]
  },
  {
   "cell_type": "code",
   "execution_count": 26,
   "metadata": {},
   "outputs": [
    {
     "data": {
      "text/plain": [
       "CPA                        5919\n",
       "BankTransfer               5077\n",
       "LoanDisbursement           2798\n",
       "CardPayment                2566\n",
       "Liquidation                1357\n",
       "Withdrawal_Cancellation     315\n",
       "CashDeposit                  15\n",
       "GoodwillCredit                5\n",
       "Name: PaymentType, dtype: int64"
      ]
     },
     "execution_count": 26,
     "metadata": {},
     "output_type": "execute_result"
    }
   ],
   "source": [
    "transactions.PaymentType.value_counts()"
   ]
  },
  {
   "cell_type": "markdown",
   "metadata": {},
   "source": [
    "### Merging Tables \n",
    "\n",
    "* To merge 3 tables, \n",
    "* First I have merged to two tables And then merged the result table with another table"
   ]
  },
  {
   "cell_type": "code",
   "execution_count": 22,
   "metadata": {},
   "outputs": [],
   "source": [
    "# Merging loan and transactions table, renaming the ID cloumns with suffixes\n",
    "loan_transaction = loans.merge(transactions, left_on=\"Id\", right_on=\"LoanAccountId\", suffixes=[\"_loans\", \"_transactions\"])\n"
   ]
  },
  {
   "cell_type": "code",
   "execution_count": 23,
   "metadata": {},
   "outputs": [
    {
     "data": {
      "text/html": [
       "<div>\n",
       "<style scoped>\n",
       "    .dataframe tbody tr th:only-of-type {\n",
       "        vertical-align: middle;\n",
       "    }\n",
       "\n",
       "    .dataframe tbody tr th {\n",
       "        vertical-align: top;\n",
       "    }\n",
       "\n",
       "    .dataframe thead th {\n",
       "        text-align: right;\n",
       "    }\n",
       "</style>\n",
       "<table border=\"1\" class=\"dataframe\">\n",
       "  <thead>\n",
       "    <tr style=\"text-align: right;\">\n",
       "      <th></th>\n",
       "      <th>Id_loans</th>\n",
       "      <th>CreatedDate_loans</th>\n",
       "      <th>CustomerId</th>\n",
       "      <th>LoanAmount</th>\n",
       "      <th>ProductId</th>\n",
       "      <th>LoanReason</th>\n",
       "      <th>Installment</th>\n",
       "      <th>Tenor</th>\n",
       "      <th>Rate</th>\n",
       "      <th>LoanStatus</th>\n",
       "      <th>...</th>\n",
       "      <th>IsHomeOwner</th>\n",
       "      <th>RepaymentType</th>\n",
       "      <th>LoanPurpose</th>\n",
       "      <th>Id_transactions</th>\n",
       "      <th>CreatedDate_transactions</th>\n",
       "      <th>Amount</th>\n",
       "      <th>PaymentType</th>\n",
       "      <th>LoanAccountId</th>\n",
       "      <th>RepaymentDate</th>\n",
       "      <th>RepaymentDeduction</th>\n",
       "    </tr>\n",
       "  </thead>\n",
       "  <tbody>\n",
       "    <tr>\n",
       "      <th>0</th>\n",
       "      <td>5</td>\n",
       "      <td>2021-06-09 18:49:50.483</td>\n",
       "      <td>2</td>\n",
       "      <td>25000.0</td>\n",
       "      <td>1</td>\n",
       "      <td>NA</td>\n",
       "      <td>10774.98</td>\n",
       "      <td>4</td>\n",
       "      <td>312.0</td>\n",
       "      <td>Settled</td>\n",
       "      <td>...</td>\n",
       "      <td>None</td>\n",
       "      <td>1</td>\n",
       "      <td>Rent</td>\n",
       "      <td>1</td>\n",
       "      <td>2021-06-09 18:51:36.960</td>\n",
       "      <td>25000.0</td>\n",
       "      <td>LoanDisbursement</td>\n",
       "      <td>5</td>\n",
       "      <td>2021-06-09 18:51:36.960</td>\n",
       "      <td></td>\n",
       "    </tr>\n",
       "    <tr>\n",
       "      <th>1</th>\n",
       "      <td>5</td>\n",
       "      <td>2021-06-09 18:49:50.483</td>\n",
       "      <td>2</td>\n",
       "      <td>25000.0</td>\n",
       "      <td>1</td>\n",
       "      <td>NA</td>\n",
       "      <td>10774.98</td>\n",
       "      <td>4</td>\n",
       "      <td>312.0</td>\n",
       "      <td>Settled</td>\n",
       "      <td>...</td>\n",
       "      <td>None</td>\n",
       "      <td>1</td>\n",
       "      <td>Rent</td>\n",
       "      <td>3</td>\n",
       "      <td>2021-06-09 19:19:53.857</td>\n",
       "      <td>25000.0</td>\n",
       "      <td>CardPayment</td>\n",
       "      <td>5</td>\n",
       "      <td>2021-06-09 19:19:53.857</td>\n",
       "      <td>TotalReceived</td>\n",
       "    </tr>\n",
       "  </tbody>\n",
       "</table>\n",
       "<p>2 rows × 26 columns</p>\n",
       "</div>"
      ],
      "text/plain": [
       "   Id_loans       CreatedDate_loans  CustomerId  LoanAmount  ProductId  \\\n",
       "0         5 2021-06-09 18:49:50.483           2     25000.0          1   \n",
       "1         5 2021-06-09 18:49:50.483           2     25000.0          1   \n",
       "\n",
       "  LoanReason  Installment  Tenor   Rate LoanStatus  ... IsHomeOwner  \\\n",
       "0         NA     10774.98      4  312.0    Settled  ...        None   \n",
       "1         NA     10774.98      4  312.0    Settled  ...        None   \n",
       "\n",
       "  RepaymentType  LoanPurpose  Id_transactions  CreatedDate_transactions  \\\n",
       "0             1         Rent                1   2021-06-09 18:51:36.960   \n",
       "1             1         Rent                3   2021-06-09 19:19:53.857   \n",
       "\n",
       "    Amount       PaymentType  LoanAccountId           RepaymentDate  \\\n",
       "0  25000.0  LoanDisbursement              5 2021-06-09 18:51:36.960   \n",
       "1  25000.0       CardPayment              5 2021-06-09 19:19:53.857   \n",
       "\n",
       "   RepaymentDeduction  \n",
       "0                      \n",
       "1       TotalReceived  \n",
       "\n",
       "[2 rows x 26 columns]"
      ]
     },
     "execution_count": 23,
     "metadata": {},
     "output_type": "execute_result"
    }
   ],
   "source": [
    "loan_transaction.head(2)"
   ]
  },
  {
   "cell_type": "code",
   "execution_count": 118,
   "metadata": {
    "id": "GS43guRVFrXu"
   },
   "outputs": [],
   "source": [
    "#Merging loan_transaction and customers tables(Getting only specific columns from customers table)\n",
    "customer_loan_transactions = loan_transaction.merge(customers[[\"Id\",\"Gender\",\"DateOfBirth\",\"CreditScore\"]], left_on=\"CustomerId\", right_on=\"Id\")\n"
   ]
  },
  {
   "cell_type": "markdown",
   "metadata": {},
   "source": [
    "* customer_loan_transactions  is the final dataframe having loans,customers and transactions tables joined \n",
    "* so for simplicity I am renaming it as df"
   ]
  },
  {
   "cell_type": "code",
   "execution_count": 119,
   "metadata": {},
   "outputs": [],
   "source": [
    "df = customer_loan_transactions"
   ]
  },
  {
   "cell_type": "code",
   "execution_count": 120,
   "metadata": {},
   "outputs": [
    {
     "data": {
      "text/html": [
       "<div>\n",
       "<style scoped>\n",
       "    .dataframe tbody tr th:only-of-type {\n",
       "        vertical-align: middle;\n",
       "    }\n",
       "\n",
       "    .dataframe tbody tr th {\n",
       "        vertical-align: top;\n",
       "    }\n",
       "\n",
       "    .dataframe thead th {\n",
       "        text-align: right;\n",
       "    }\n",
       "</style>\n",
       "<table border=\"1\" class=\"dataframe\">\n",
       "  <thead>\n",
       "    <tr style=\"text-align: right;\">\n",
       "      <th></th>\n",
       "      <th>Id_loans</th>\n",
       "      <th>CreatedDate_loans</th>\n",
       "      <th>CustomerId</th>\n",
       "      <th>LoanAmount</th>\n",
       "      <th>ProductId</th>\n",
       "      <th>LoanReason</th>\n",
       "      <th>Installment</th>\n",
       "      <th>Tenor</th>\n",
       "      <th>Rate</th>\n",
       "      <th>LoanStatus</th>\n",
       "      <th>...</th>\n",
       "      <th>CreatedDate_transactions</th>\n",
       "      <th>Amount</th>\n",
       "      <th>PaymentType</th>\n",
       "      <th>LoanAccountId</th>\n",
       "      <th>RepaymentDate</th>\n",
       "      <th>RepaymentDeduction</th>\n",
       "      <th>Id</th>\n",
       "      <th>Gender</th>\n",
       "      <th>DateOfBirth</th>\n",
       "      <th>CreditScore</th>\n",
       "    </tr>\n",
       "  </thead>\n",
       "  <tbody>\n",
       "    <tr>\n",
       "      <th>0</th>\n",
       "      <td>5</td>\n",
       "      <td>2021-06-09 18:49:50.483</td>\n",
       "      <td>2</td>\n",
       "      <td>25000.0</td>\n",
       "      <td>1</td>\n",
       "      <td>NA</td>\n",
       "      <td>10774.98</td>\n",
       "      <td>4</td>\n",
       "      <td>312.0</td>\n",
       "      <td>Settled</td>\n",
       "      <td>...</td>\n",
       "      <td>2021-06-09 18:51:36.960</td>\n",
       "      <td>25000.0</td>\n",
       "      <td>LoanDisbursement</td>\n",
       "      <td>5</td>\n",
       "      <td>2021-06-09 18:51:36.960</td>\n",
       "      <td></td>\n",
       "      <td>2</td>\n",
       "      <td>Male</td>\n",
       "      <td>1983-03-25 00:00:00</td>\n",
       "      <td>0</td>\n",
       "    </tr>\n",
       "    <tr>\n",
       "      <th>1</th>\n",
       "      <td>5</td>\n",
       "      <td>2021-06-09 18:49:50.483</td>\n",
       "      <td>2</td>\n",
       "      <td>25000.0</td>\n",
       "      <td>1</td>\n",
       "      <td>NA</td>\n",
       "      <td>10774.98</td>\n",
       "      <td>4</td>\n",
       "      <td>312.0</td>\n",
       "      <td>Settled</td>\n",
       "      <td>...</td>\n",
       "      <td>2021-06-09 19:19:53.857</td>\n",
       "      <td>25000.0</td>\n",
       "      <td>CardPayment</td>\n",
       "      <td>5</td>\n",
       "      <td>2021-06-09 19:19:53.857</td>\n",
       "      <td>TotalReceived</td>\n",
       "      <td>2</td>\n",
       "      <td>Male</td>\n",
       "      <td>1983-03-25 00:00:00</td>\n",
       "      <td>0</td>\n",
       "    </tr>\n",
       "  </tbody>\n",
       "</table>\n",
       "<p>2 rows × 30 columns</p>\n",
       "</div>"
      ],
      "text/plain": [
       "   Id_loans       CreatedDate_loans  CustomerId  LoanAmount  ProductId  \\\n",
       "0         5 2021-06-09 18:49:50.483           2     25000.0          1   \n",
       "1         5 2021-06-09 18:49:50.483           2     25000.0          1   \n",
       "\n",
       "  LoanReason  Installment  Tenor   Rate LoanStatus  ...  \\\n",
       "0         NA     10774.98      4  312.0    Settled  ...   \n",
       "1         NA     10774.98      4  312.0    Settled  ...   \n",
       "\n",
       "  CreatedDate_transactions   Amount       PaymentType  LoanAccountId  \\\n",
       "0  2021-06-09 18:51:36.960  25000.0  LoanDisbursement              5   \n",
       "1  2021-06-09 19:19:53.857  25000.0       CardPayment              5   \n",
       "\n",
       "            RepaymentDate  RepaymentDeduction Id  Gender          DateOfBirth  \\\n",
       "0 2021-06-09 18:51:36.960                      2    Male  1983-03-25 00:00:00   \n",
       "1 2021-06-09 19:19:53.857       TotalReceived  2    Male  1983-03-25 00:00:00   \n",
       "\n",
       "   CreditScore  \n",
       "0            0  \n",
       "1            0  \n",
       "\n",
       "[2 rows x 30 columns]"
      ]
     },
     "execution_count": 120,
     "metadata": {},
     "output_type": "execute_result"
    }
   ],
   "source": [
    "df.head(2)"
   ]
  },
  {
   "cell_type": "code",
   "execution_count": 121,
   "metadata": {},
   "outputs": [
    {
     "data": {
      "text/plain": [
       "CPA                        5919\n",
       "BankTransfer               5077\n",
       "LoanDisbursement           2798\n",
       "CardPayment                2566\n",
       "Liquidation                1357\n",
       "Withdrawal_Cancellation     315\n",
       "CashDeposit                  15\n",
       "GoodwillCredit                5\n",
       "Name: PaymentType, dtype: int64"
      ]
     },
     "execution_count": 121,
     "metadata": {},
     "output_type": "execute_result"
    }
   ],
   "source": [
    "df.PaymentType.value_counts()"
   ]
  },
  {
   "cell_type": "code",
   "execution_count": 122,
   "metadata": {},
   "outputs": [
    {
     "data": {
      "text/plain": [
       "Index(['Id_loans', 'CreatedDate_loans', 'CustomerId', 'LoanAmount',\n",
       "       'ProductId', 'LoanReason', 'Installment', 'Tenor', 'Rate', 'LoanStatus',\n",
       "       'FirstRepaymentDate', 'MaturityDate', 'TotalOutstandingPrincipal',\n",
       "       'TotalOutstandingInterest', 'TotalOutstandingBalance', 'IsEmployed',\n",
       "       'IsHomeOwner', 'RepaymentType', 'LoanPurpose', 'Id_transactions',\n",
       "       'CreatedDate_transactions', 'Amount', 'PaymentType', 'LoanAccountId',\n",
       "       'RepaymentDate', 'RepaymentDeduction', 'Id', 'Gender', 'DateOfBirth',\n",
       "       'CreditScore'],\n",
       "      dtype='object')"
      ]
     },
     "execution_count": 122,
     "metadata": {},
     "output_type": "execute_result"
    }
   ],
   "source": [
    "df.columns"
   ]
  },
  {
   "cell_type": "markdown",
   "metadata": {},
   "source": [
    "### Q1. Total Loan amount disbursed by DisbursedMonth, Gender, Tenor"
   ]
  },
  {
   "cell_type": "code",
   "execution_count": 123,
   "metadata": {},
   "outputs": [],
   "source": [
    "#get month from date\n",
    "df['DisbursedMonth'] = df.CreatedDate_transactions.dt.month_name()#df['month'] = df['date_col'].dt.month_name()"
   ]
  },
  {
   "cell_type": "code",
   "execution_count": 125,
   "metadata": {},
   "outputs": [
    {
     "data": {
      "text/plain": [
       "Index(['Id_loans', 'CreatedDate_loans', 'CustomerId', 'LoanAmount',\n",
       "       'ProductId', 'LoanReason', 'Installment', 'Tenor', 'Rate', 'LoanStatus',\n",
       "       'FirstRepaymentDate', 'MaturityDate', 'TotalOutstandingPrincipal',\n",
       "       'TotalOutstandingInterest', 'TotalOutstandingBalance', 'IsEmployed',\n",
       "       'IsHomeOwner', 'RepaymentType', 'LoanPurpose', 'Id_transactions',\n",
       "       'CreatedDate_transactions', 'Amount', 'PaymentType', 'LoanAccountId',\n",
       "       'RepaymentDate', 'RepaymentDeduction', 'Id', 'Gender', 'DateOfBirth',\n",
       "       'CreditScore', 'DisbursedMonth'],\n",
       "      dtype='object')"
      ]
     },
     "execution_count": 125,
     "metadata": {},
     "output_type": "execute_result"
    }
   ],
   "source": [
    "df.columns"
   ]
  },
  {
   "cell_type": "code",
   "execution_count": 126,
   "metadata": {},
   "outputs": [
    {
     "data": {
      "text/html": [
       "<div>\n",
       "<style scoped>\n",
       "    .dataframe tbody tr th:only-of-type {\n",
       "        vertical-align: middle;\n",
       "    }\n",
       "\n",
       "    .dataframe tbody tr th {\n",
       "        vertical-align: top;\n",
       "    }\n",
       "\n",
       "    .dataframe thead th {\n",
       "        text-align: right;\n",
       "    }\n",
       "</style>\n",
       "<table border=\"1\" class=\"dataframe\">\n",
       "  <thead>\n",
       "    <tr style=\"text-align: right;\">\n",
       "      <th></th>\n",
       "      <th>Id_loans</th>\n",
       "      <th>CreatedDate_loans</th>\n",
       "      <th>CustomerId</th>\n",
       "      <th>LoanAmount</th>\n",
       "      <th>ProductId</th>\n",
       "      <th>LoanReason</th>\n",
       "      <th>Installment</th>\n",
       "      <th>Tenor</th>\n",
       "      <th>Rate</th>\n",
       "      <th>LoanStatus</th>\n",
       "      <th>...</th>\n",
       "      <th>Amount</th>\n",
       "      <th>PaymentType</th>\n",
       "      <th>LoanAccountId</th>\n",
       "      <th>RepaymentDate</th>\n",
       "      <th>RepaymentDeduction</th>\n",
       "      <th>Id</th>\n",
       "      <th>Gender</th>\n",
       "      <th>DateOfBirth</th>\n",
       "      <th>CreditScore</th>\n",
       "      <th>DisbursedMonth</th>\n",
       "    </tr>\n",
       "  </thead>\n",
       "  <tbody>\n",
       "    <tr>\n",
       "      <th>0</th>\n",
       "      <td>5</td>\n",
       "      <td>2021-06-09 18:49:50.483</td>\n",
       "      <td>2</td>\n",
       "      <td>25000.0</td>\n",
       "      <td>1</td>\n",
       "      <td>NA</td>\n",
       "      <td>10774.98</td>\n",
       "      <td>4</td>\n",
       "      <td>312.0</td>\n",
       "      <td>Settled</td>\n",
       "      <td>...</td>\n",
       "      <td>25000.0</td>\n",
       "      <td>LoanDisbursement</td>\n",
       "      <td>5</td>\n",
       "      <td>2021-06-09 18:51:36.960</td>\n",
       "      <td></td>\n",
       "      <td>2</td>\n",
       "      <td>Male</td>\n",
       "      <td>1983-03-25 00:00:00</td>\n",
       "      <td>0</td>\n",
       "      <td>June</td>\n",
       "    </tr>\n",
       "    <tr>\n",
       "      <th>3</th>\n",
       "      <td>7</td>\n",
       "      <td>2021-06-09 18:59:22.983</td>\n",
       "      <td>2</td>\n",
       "      <td>45000.0</td>\n",
       "      <td>1</td>\n",
       "      <td>NA</td>\n",
       "      <td>15598.05</td>\n",
       "      <td>6</td>\n",
       "      <td>312.0</td>\n",
       "      <td>Settled</td>\n",
       "      <td>...</td>\n",
       "      <td>45000.0</td>\n",
       "      <td>LoanDisbursement</td>\n",
       "      <td>7</td>\n",
       "      <td>2021-06-09 19:03:07.937</td>\n",
       "      <td></td>\n",
       "      <td>2</td>\n",
       "      <td>Male</td>\n",
       "      <td>1983-03-25 00:00:00</td>\n",
       "      <td>0</td>\n",
       "      <td>June</td>\n",
       "    </tr>\n",
       "    <tr>\n",
       "      <th>5</th>\n",
       "      <td>16</td>\n",
       "      <td>2021-06-11 09:59:25.723</td>\n",
       "      <td>2</td>\n",
       "      <td>25000.0</td>\n",
       "      <td>1</td>\n",
       "      <td>NA</td>\n",
       "      <td>8665.58</td>\n",
       "      <td>6</td>\n",
       "      <td>312.0</td>\n",
       "      <td>Settled</td>\n",
       "      <td>...</td>\n",
       "      <td>25000.0</td>\n",
       "      <td>LoanDisbursement</td>\n",
       "      <td>16</td>\n",
       "      <td>2021-06-11 21:53:00.627</td>\n",
       "      <td></td>\n",
       "      <td>2</td>\n",
       "      <td>Male</td>\n",
       "      <td>1983-03-25 00:00:00</td>\n",
       "      <td>0</td>\n",
       "      <td>June</td>\n",
       "    </tr>\n",
       "    <tr>\n",
       "      <th>12</th>\n",
       "      <td>5454</td>\n",
       "      <td>2021-09-10 09:57:07.190</td>\n",
       "      <td>2</td>\n",
       "      <td>30000.0</td>\n",
       "      <td>1</td>\n",
       "      <td>NA</td>\n",
       "      <td>10398.70</td>\n",
       "      <td>6</td>\n",
       "      <td>312.0</td>\n",
       "      <td>Settled</td>\n",
       "      <td>...</td>\n",
       "      <td>30000.0</td>\n",
       "      <td>LoanDisbursement</td>\n",
       "      <td>5454</td>\n",
       "      <td>2021-09-10 10:19:02.540</td>\n",
       "      <td>NA</td>\n",
       "      <td>2</td>\n",
       "      <td>Male</td>\n",
       "      <td>1983-03-25 00:00:00</td>\n",
       "      <td>0</td>\n",
       "      <td>September</td>\n",
       "    </tr>\n",
       "    <tr>\n",
       "      <th>26</th>\n",
       "      <td>5703</td>\n",
       "      <td>2021-09-14 16:59:59.220</td>\n",
       "      <td>2</td>\n",
       "      <td>25000.0</td>\n",
       "      <td>1</td>\n",
       "      <td>NA</td>\n",
       "      <td>12997.56</td>\n",
       "      <td>3</td>\n",
       "      <td>312.0</td>\n",
       "      <td>Settled</td>\n",
       "      <td>...</td>\n",
       "      <td>25000.0</td>\n",
       "      <td>LoanDisbursement</td>\n",
       "      <td>5703</td>\n",
       "      <td>2021-09-14 17:08:03.737</td>\n",
       "      <td>NA</td>\n",
       "      <td>2</td>\n",
       "      <td>Male</td>\n",
       "      <td>1983-03-25 00:00:00</td>\n",
       "      <td>0</td>\n",
       "      <td>September</td>\n",
       "    </tr>\n",
       "    <tr>\n",
       "      <th>...</th>\n",
       "      <td>...</td>\n",
       "      <td>...</td>\n",
       "      <td>...</td>\n",
       "      <td>...</td>\n",
       "      <td>...</td>\n",
       "      <td>...</td>\n",
       "      <td>...</td>\n",
       "      <td>...</td>\n",
       "      <td>...</td>\n",
       "      <td>...</td>\n",
       "      <td>...</td>\n",
       "      <td>...</td>\n",
       "      <td>...</td>\n",
       "      <td>...</td>\n",
       "      <td>...</td>\n",
       "      <td>...</td>\n",
       "      <td>...</td>\n",
       "      <td>...</td>\n",
       "      <td>...</td>\n",
       "      <td>...</td>\n",
       "      <td>...</td>\n",
       "    </tr>\n",
       "    <tr>\n",
       "      <th>17999</th>\n",
       "      <td>5924</td>\n",
       "      <td>2021-09-19 09:07:55.967</td>\n",
       "      <td>47138</td>\n",
       "      <td>30000.0</td>\n",
       "      <td>1</td>\n",
       "      <td>NA</td>\n",
       "      <td>13357.74</td>\n",
       "      <td>3</td>\n",
       "      <td>192.0</td>\n",
       "      <td>Settled</td>\n",
       "      <td>...</td>\n",
       "      <td>30000.0</td>\n",
       "      <td>LoanDisbursement</td>\n",
       "      <td>5924</td>\n",
       "      <td>2021-09-21 14:18:04.933</td>\n",
       "      <td>NA</td>\n",
       "      <td>47138</td>\n",
       "      <td>Female</td>\n",
       "      <td>1986-10-11 00:00:00</td>\n",
       "      <td>811</td>\n",
       "      <td>September</td>\n",
       "    </tr>\n",
       "    <tr>\n",
       "      <th>18012</th>\n",
       "      <td>5949</td>\n",
       "      <td>2021-09-19 15:09:21.450</td>\n",
       "      <td>5333</td>\n",
       "      <td>50000.0</td>\n",
       "      <td>1</td>\n",
       "      <td>NA</td>\n",
       "      <td>22262.89</td>\n",
       "      <td>3</td>\n",
       "      <td>192.0</td>\n",
       "      <td>Due</td>\n",
       "      <td>...</td>\n",
       "      <td>50000.0</td>\n",
       "      <td>LoanDisbursement</td>\n",
       "      <td>5949</td>\n",
       "      <td>2021-09-21 18:48:15.437</td>\n",
       "      <td>NA</td>\n",
       "      <td>5333</td>\n",
       "      <td>Male</td>\n",
       "      <td>1979-07-17 00:00:00</td>\n",
       "      <td>789</td>\n",
       "      <td>September</td>\n",
       "    </tr>\n",
       "    <tr>\n",
       "      <th>18046</th>\n",
       "      <td>5955</td>\n",
       "      <td>2021-09-19 18:27:03.580</td>\n",
       "      <td>47553</td>\n",
       "      <td>25000.0</td>\n",
       "      <td>1</td>\n",
       "      <td>NA</td>\n",
       "      <td>12997.56</td>\n",
       "      <td>3</td>\n",
       "      <td>312.0</td>\n",
       "      <td>Due</td>\n",
       "      <td>...</td>\n",
       "      <td>25000.0</td>\n",
       "      <td>LoanDisbursement</td>\n",
       "      <td>5955</td>\n",
       "      <td>2021-09-21 13:24:03.267</td>\n",
       "      <td>NA</td>\n",
       "      <td>47553</td>\n",
       "      <td>Male</td>\n",
       "      <td>1984-12-20 00:00:00</td>\n",
       "      <td>623</td>\n",
       "      <td>September</td>\n",
       "    </tr>\n",
       "    <tr>\n",
       "      <th>18050</th>\n",
       "      <td>5961</td>\n",
       "      <td>2021-09-19 20:07:28.450</td>\n",
       "      <td>47609</td>\n",
       "      <td>45000.0</td>\n",
       "      <td>1</td>\n",
       "      <td>NA</td>\n",
       "      <td>15598.05</td>\n",
       "      <td>6</td>\n",
       "      <td>312.0</td>\n",
       "      <td>Due</td>\n",
       "      <td>...</td>\n",
       "      <td>45000.0</td>\n",
       "      <td>LoanDisbursement</td>\n",
       "      <td>5961</td>\n",
       "      <td>2021-09-20 18:20:15.610</td>\n",
       "      <td>NA</td>\n",
       "      <td>47609</td>\n",
       "      <td>Male</td>\n",
       "      <td>1966-10-30 00:00:00</td>\n",
       "      <td>599</td>\n",
       "      <td>September</td>\n",
       "    </tr>\n",
       "    <tr>\n",
       "      <th>18051</th>\n",
       "      <td>6019</td>\n",
       "      <td>2021-09-20 16:05:28.193</td>\n",
       "      <td>46073</td>\n",
       "      <td>50000.0</td>\n",
       "      <td>1</td>\n",
       "      <td>NA</td>\n",
       "      <td>14295.51</td>\n",
       "      <td>6</td>\n",
       "      <td>216.0</td>\n",
       "      <td>Due</td>\n",
       "      <td>...</td>\n",
       "      <td>50000.0</td>\n",
       "      <td>LoanDisbursement</td>\n",
       "      <td>6019</td>\n",
       "      <td>2021-09-20 17:52:15.060</td>\n",
       "      <td>NA</td>\n",
       "      <td>46073</td>\n",
       "      <td>Male</td>\n",
       "      <td>1975-03-20 00:00:00</td>\n",
       "      <td>695</td>\n",
       "      <td>September</td>\n",
       "    </tr>\n",
       "  </tbody>\n",
       "</table>\n",
       "<p>2798 rows × 31 columns</p>\n",
       "</div>"
      ],
      "text/plain": [
       "       Id_loans       CreatedDate_loans  CustomerId  LoanAmount  ProductId  \\\n",
       "0             5 2021-06-09 18:49:50.483           2     25000.0          1   \n",
       "3             7 2021-06-09 18:59:22.983           2     45000.0          1   \n",
       "5            16 2021-06-11 09:59:25.723           2     25000.0          1   \n",
       "12         5454 2021-09-10 09:57:07.190           2     30000.0          1   \n",
       "26         5703 2021-09-14 16:59:59.220           2     25000.0          1   \n",
       "...         ...                     ...         ...         ...        ...   \n",
       "17999      5924 2021-09-19 09:07:55.967       47138     30000.0          1   \n",
       "18012      5949 2021-09-19 15:09:21.450        5333     50000.0          1   \n",
       "18046      5955 2021-09-19 18:27:03.580       47553     25000.0          1   \n",
       "18050      5961 2021-09-19 20:07:28.450       47609     45000.0          1   \n",
       "18051      6019 2021-09-20 16:05:28.193       46073     50000.0          1   \n",
       "\n",
       "      LoanReason  Installment  Tenor   Rate LoanStatus  ...   Amount  \\\n",
       "0             NA     10774.98      4  312.0    Settled  ...  25000.0   \n",
       "3             NA     15598.05      6  312.0    Settled  ...  45000.0   \n",
       "5             NA      8665.58      6  312.0    Settled  ...  25000.0   \n",
       "12            NA     10398.70      6  312.0    Settled  ...  30000.0   \n",
       "26            NA     12997.56      3  312.0    Settled  ...  25000.0   \n",
       "...          ...          ...    ...    ...        ...  ...      ...   \n",
       "17999         NA     13357.74      3  192.0    Settled  ...  30000.0   \n",
       "18012         NA     22262.89      3  192.0        Due  ...  50000.0   \n",
       "18046         NA     12997.56      3  312.0        Due  ...  25000.0   \n",
       "18050         NA     15598.05      6  312.0        Due  ...  45000.0   \n",
       "18051         NA     14295.51      6  216.0        Due  ...  50000.0   \n",
       "\n",
       "            PaymentType  LoanAccountId           RepaymentDate  \\\n",
       "0      LoanDisbursement              5 2021-06-09 18:51:36.960   \n",
       "3      LoanDisbursement              7 2021-06-09 19:03:07.937   \n",
       "5      LoanDisbursement             16 2021-06-11 21:53:00.627   \n",
       "12     LoanDisbursement           5454 2021-09-10 10:19:02.540   \n",
       "26     LoanDisbursement           5703 2021-09-14 17:08:03.737   \n",
       "...                 ...            ...                     ...   \n",
       "17999  LoanDisbursement           5924 2021-09-21 14:18:04.933   \n",
       "18012  LoanDisbursement           5949 2021-09-21 18:48:15.437   \n",
       "18046  LoanDisbursement           5955 2021-09-21 13:24:03.267   \n",
       "18050  LoanDisbursement           5961 2021-09-20 18:20:15.610   \n",
       "18051  LoanDisbursement           6019 2021-09-20 17:52:15.060   \n",
       "\n",
       "       RepaymentDeduction     Id  Gender          DateOfBirth CreditScore  \\\n",
       "0                              2    Male  1983-03-25 00:00:00           0   \n",
       "3                              2    Male  1983-03-25 00:00:00           0   \n",
       "5                              2    Male  1983-03-25 00:00:00           0   \n",
       "12                     NA      2    Male  1983-03-25 00:00:00           0   \n",
       "26                     NA      2    Male  1983-03-25 00:00:00           0   \n",
       "...                   ...    ...     ...                  ...         ...   \n",
       "17999                  NA  47138  Female  1986-10-11 00:00:00         811   \n",
       "18012                  NA   5333    Male  1979-07-17 00:00:00         789   \n",
       "18046                  NA  47553    Male  1984-12-20 00:00:00         623   \n",
       "18050                  NA  47609    Male  1966-10-30 00:00:00         599   \n",
       "18051                  NA  46073    Male  1975-03-20 00:00:00         695   \n",
       "\n",
       "       DisbursedMonth  \n",
       "0                June  \n",
       "3                June  \n",
       "5                June  \n",
       "12          September  \n",
       "26          September  \n",
       "...               ...  \n",
       "17999       September  \n",
       "18012       September  \n",
       "18046       September  \n",
       "18050       September  \n",
       "18051       September  \n",
       "\n",
       "[2798 rows x 31 columns]"
      ]
     },
     "execution_count": 126,
     "metadata": {},
     "output_type": "execute_result"
    }
   ],
   "source": [
    "df[df['PaymentType'] == 'LoanDisbursement']"
   ]
  },
  {
   "cell_type": "code",
   "execution_count": 127,
   "metadata": {},
   "outputs": [
    {
     "data": {
      "text/html": [
       "<div>\n",
       "<style scoped>\n",
       "    .dataframe tbody tr th:only-of-type {\n",
       "        vertical-align: middle;\n",
       "    }\n",
       "\n",
       "    .dataframe tbody tr th {\n",
       "        vertical-align: top;\n",
       "    }\n",
       "\n",
       "    .dataframe thead th {\n",
       "        text-align: right;\n",
       "    }\n",
       "</style>\n",
       "<table border=\"1\" class=\"dataframe\">\n",
       "  <thead>\n",
       "    <tr style=\"text-align: right;\">\n",
       "      <th></th>\n",
       "      <th></th>\n",
       "      <th></th>\n",
       "      <th>LoanAmount</th>\n",
       "    </tr>\n",
       "    <tr>\n",
       "      <th>DisbursedMonth</th>\n",
       "      <th>Gender</th>\n",
       "      <th>Tenor</th>\n",
       "      <th></th>\n",
       "    </tr>\n",
       "  </thead>\n",
       "  <tbody>\n",
       "    <tr>\n",
       "      <th rowspan=\"8\" valign=\"top\">August</th>\n",
       "      <th rowspan=\"4\" valign=\"top\">Female</th>\n",
       "      <th>3</th>\n",
       "      <td>5025000.0</td>\n",
       "    </tr>\n",
       "    <tr>\n",
       "      <th>4</th>\n",
       "      <td>1365000.0</td>\n",
       "    </tr>\n",
       "    <tr>\n",
       "      <th>5</th>\n",
       "      <td>860000.0</td>\n",
       "    </tr>\n",
       "    <tr>\n",
       "      <th>6</th>\n",
       "      <td>13998000.0</td>\n",
       "    </tr>\n",
       "    <tr>\n",
       "      <th rowspan=\"4\" valign=\"top\">Male</th>\n",
       "      <th>3</th>\n",
       "      <td>15076800.0</td>\n",
       "    </tr>\n",
       "    <tr>\n",
       "      <th>4</th>\n",
       "      <td>5007000.0</td>\n",
       "    </tr>\n",
       "    <tr>\n",
       "      <th>5</th>\n",
       "      <td>2961000.0</td>\n",
       "    </tr>\n",
       "    <tr>\n",
       "      <th>6</th>\n",
       "      <td>30420500.0</td>\n",
       "    </tr>\n",
       "    <tr>\n",
       "      <th rowspan=\"8\" valign=\"top\">July</th>\n",
       "      <th rowspan=\"4\" valign=\"top\">Female</th>\n",
       "      <th>3</th>\n",
       "      <td>4752500.0</td>\n",
       "    </tr>\n",
       "    <tr>\n",
       "      <th>4</th>\n",
       "      <td>1522000.0</td>\n",
       "    </tr>\n",
       "    <tr>\n",
       "      <th>5</th>\n",
       "      <td>1028000.0</td>\n",
       "    </tr>\n",
       "    <tr>\n",
       "      <th>6</th>\n",
       "      <td>12431000.0</td>\n",
       "    </tr>\n",
       "    <tr>\n",
       "      <th rowspan=\"4\" valign=\"top\">Male</th>\n",
       "      <th>3</th>\n",
       "      <td>13804000.0</td>\n",
       "    </tr>\n",
       "    <tr>\n",
       "      <th>4</th>\n",
       "      <td>3989000.0</td>\n",
       "    </tr>\n",
       "    <tr>\n",
       "      <th>5</th>\n",
       "      <td>1085000.0</td>\n",
       "    </tr>\n",
       "    <tr>\n",
       "      <th>6</th>\n",
       "      <td>22903000.0</td>\n",
       "    </tr>\n",
       "    <tr>\n",
       "      <th rowspan=\"8\" valign=\"top\">June</th>\n",
       "      <th rowspan=\"4\" valign=\"top\">Female</th>\n",
       "      <th>3</th>\n",
       "      <td>680000.0</td>\n",
       "    </tr>\n",
       "    <tr>\n",
       "      <th>4</th>\n",
       "      <td>190000.0</td>\n",
       "    </tr>\n",
       "    <tr>\n",
       "      <th>5</th>\n",
       "      <td>120000.0</td>\n",
       "    </tr>\n",
       "    <tr>\n",
       "      <th>6</th>\n",
       "      <td>1405000.0</td>\n",
       "    </tr>\n",
       "    <tr>\n",
       "      <th rowspan=\"4\" valign=\"top\">Male</th>\n",
       "      <th>3</th>\n",
       "      <td>2310000.0</td>\n",
       "    </tr>\n",
       "    <tr>\n",
       "      <th>4</th>\n",
       "      <td>457000.0</td>\n",
       "    </tr>\n",
       "    <tr>\n",
       "      <th>5</th>\n",
       "      <td>90000.0</td>\n",
       "    </tr>\n",
       "    <tr>\n",
       "      <th>6</th>\n",
       "      <td>4849000.0</td>\n",
       "    </tr>\n",
       "    <tr>\n",
       "      <th rowspan=\"2\" valign=\"top\">October</th>\n",
       "      <th>Female</th>\n",
       "      <th>4</th>\n",
       "      <td>25000.0</td>\n",
       "    </tr>\n",
       "    <tr>\n",
       "      <th>Male</th>\n",
       "      <th>6</th>\n",
       "      <td>25000.0</td>\n",
       "    </tr>\n",
       "    <tr>\n",
       "      <th rowspan=\"8\" valign=\"top\">September</th>\n",
       "      <th rowspan=\"4\" valign=\"top\">Female</th>\n",
       "      <th>3</th>\n",
       "      <td>2340000.0</td>\n",
       "    </tr>\n",
       "    <tr>\n",
       "      <th>4</th>\n",
       "      <td>270000.0</td>\n",
       "    </tr>\n",
       "    <tr>\n",
       "      <th>5</th>\n",
       "      <td>1140000.0</td>\n",
       "    </tr>\n",
       "    <tr>\n",
       "      <th>6</th>\n",
       "      <td>6678000.0</td>\n",
       "    </tr>\n",
       "    <tr>\n",
       "      <th rowspan=\"4\" valign=\"top\">Male</th>\n",
       "      <th>3</th>\n",
       "      <td>7940000.0</td>\n",
       "    </tr>\n",
       "    <tr>\n",
       "      <th>4</th>\n",
       "      <td>3056000.0</td>\n",
       "    </tr>\n",
       "    <tr>\n",
       "      <th>5</th>\n",
       "      <td>1739000.0</td>\n",
       "    </tr>\n",
       "    <tr>\n",
       "      <th>6</th>\n",
       "      <td>22081000.0</td>\n",
       "    </tr>\n",
       "  </tbody>\n",
       "</table>\n",
       "</div>"
      ],
      "text/plain": [
       "                             LoanAmount\n",
       "DisbursedMonth Gender Tenor            \n",
       "August         Female 3       5025000.0\n",
       "                      4       1365000.0\n",
       "                      5        860000.0\n",
       "                      6      13998000.0\n",
       "               Male   3      15076800.0\n",
       "                      4       5007000.0\n",
       "                      5       2961000.0\n",
       "                      6      30420500.0\n",
       "July           Female 3       4752500.0\n",
       "                      4       1522000.0\n",
       "                      5       1028000.0\n",
       "                      6      12431000.0\n",
       "               Male   3      13804000.0\n",
       "                      4       3989000.0\n",
       "                      5       1085000.0\n",
       "                      6      22903000.0\n",
       "June           Female 3        680000.0\n",
       "                      4        190000.0\n",
       "                      5        120000.0\n",
       "                      6       1405000.0\n",
       "               Male   3       2310000.0\n",
       "                      4        457000.0\n",
       "                      5         90000.0\n",
       "                      6       4849000.0\n",
       "October        Female 4         25000.0\n",
       "               Male   6         25000.0\n",
       "September      Female 3       2340000.0\n",
       "                      4        270000.0\n",
       "                      5       1140000.0\n",
       "                      6       6678000.0\n",
       "               Male   3       7940000.0\n",
       "                      4       3056000.0\n",
       "                      5       1739000.0\n",
       "                      6      22081000.0"
      ]
     },
     "execution_count": 127,
     "metadata": {},
     "output_type": "execute_result"
    }
   ],
   "source": [
    "#Total Loan amount disbursed by DisbursedMonth, Gender, Tenor\n",
    "#Solution1\n",
    "df[df['PaymentType'] == 'LoanDisbursement'].groupby(['DisbursedMonth','Gender','Tenor']).agg({'LoanAmount':'sum'})"
   ]
  },
  {
   "cell_type": "code",
   "execution_count": 128,
   "metadata": {},
   "outputs": [
    {
     "data": {
      "text/plain": [
       "DisbursedMonth  Gender  Tenor\n",
       "August          Female  3         5025000.0\n",
       "                        4         1365000.0\n",
       "                        5          860000.0\n",
       "                        6        13998000.0\n",
       "                Male    3        15076800.0\n",
       "                        4         5007000.0\n",
       "                        5         2961000.0\n",
       "                        6        30420500.0\n",
       "July            Female  3         4752500.0\n",
       "                        4         1522000.0\n",
       "                        5         1028000.0\n",
       "                        6        12431000.0\n",
       "                Male    3        13804000.0\n",
       "                        4         3989000.0\n",
       "                        5         1085000.0\n",
       "                        6        22903000.0\n",
       "June            Female  3          680000.0\n",
       "                        4          190000.0\n",
       "                        5          120000.0\n",
       "                        6         1405000.0\n",
       "                Male    3         2310000.0\n",
       "                        4          457000.0\n",
       "                        5           90000.0\n",
       "                        6         4849000.0\n",
       "October         Female  4           25000.0\n",
       "                Male    6           25000.0\n",
       "September       Female  3         2340000.0\n",
       "                        4          270000.0\n",
       "                        5         1140000.0\n",
       "                        6         6678000.0\n",
       "                Male    3         7940000.0\n",
       "                        4         3056000.0\n",
       "                        5         1739000.0\n",
       "                        6        22081000.0\n",
       "Name: LoanAmount, dtype: float64"
      ]
     },
     "execution_count": 128,
     "metadata": {},
     "output_type": "execute_result"
    }
   ],
   "source": [
    "#Total Loan amount disbursed by DisbursedMonth, Gender, Tenor\n",
    "#Solution2\n",
    "df[df['PaymentType'] == 'LoanDisbursement'].groupby(['DisbursedMonth','Gender','Tenor'])['LoanAmount'].sum()"
   ]
  },
  {
   "cell_type": "markdown",
   "metadata": {},
   "source": [
    "### Q2. Average days to disburse loan from application date ( Loan creation date, Loan Disbursement Date)"
   ]
  },
  {
   "cell_type": "code",
   "execution_count": 129,
   "metadata": {},
   "outputs": [
    {
     "data": {
      "text/plain": [
       "Index(['Id_loans', 'CreatedDate_loans', 'CustomerId', 'LoanAmount',\n",
       "       'ProductId', 'LoanReason', 'Installment', 'Tenor', 'Rate', 'LoanStatus',\n",
       "       'FirstRepaymentDate', 'MaturityDate', 'TotalOutstandingPrincipal',\n",
       "       'TotalOutstandingInterest', 'TotalOutstandingBalance', 'IsEmployed',\n",
       "       'IsHomeOwner', 'RepaymentType', 'LoanPurpose', 'Id_transactions',\n",
       "       'CreatedDate_transactions', 'Amount', 'PaymentType', 'LoanAccountId',\n",
       "       'RepaymentDate', 'RepaymentDeduction', 'Id', 'Gender', 'DateOfBirth',\n",
       "       'CreditScore', 'DisbursedMonth'],\n",
       "      dtype='object')"
      ]
     },
     "execution_count": 129,
     "metadata": {},
     "output_type": "execute_result"
    }
   ],
   "source": [
    "df.columns"
   ]
  },
  {
   "cell_type": "code",
   "execution_count": 130,
   "metadata": {},
   "outputs": [
    {
     "data": {
      "text/plain": [
       "CPA                        5919\n",
       "BankTransfer               5077\n",
       "LoanDisbursement           2798\n",
       "CardPayment                2566\n",
       "Liquidation                1357\n",
       "Withdrawal_Cancellation     315\n",
       "CashDeposit                  15\n",
       "GoodwillCredit                5\n",
       "Name: PaymentType, dtype: int64"
      ]
     },
     "execution_count": 130,
     "metadata": {},
     "output_type": "execute_result"
    }
   ],
   "source": [
    "df.PaymentType.value_counts()"
   ]
  },
  {
   "cell_type": "code",
   "execution_count": 132,
   "metadata": {},
   "outputs": [
    {
     "data": {
      "text/plain": [
       "90 days 19:51:42.290000     6\n",
       "86 days 16:13:49.687000     4\n",
       "30 days 11:34:04.776000     4\n",
       "125 days 03:41:47.446000    3\n",
       "29 days 06:39:16.730000     3\n",
       "                           ..\n",
       "0 days 17:13:36.950000      1\n",
       "29 days 18:03:54.477000     1\n",
       "0 days 00:19:12.173000      1\n",
       "30 days 03:43:01.620000     1\n",
       "0 days 01:59:12.613000      1\n",
       "Name: days, Length: 9236, dtype: int64"
      ]
     },
     "execution_count": 132,
     "metadata": {},
     "output_type": "execute_result"
    }
   ],
   "source": [
    "df['days'].value_counts()"
   ]
  },
  {
   "cell_type": "code",
   "execution_count": 136,
   "metadata": {},
   "outputs": [],
   "source": [
    "df['days'] = df.CreatedDate_transactions-df.CreatedDate_loans"
   ]
  },
  {
   "cell_type": "code",
   "execution_count": 137,
   "metadata": {},
   "outputs": [
    {
     "data": {
      "text/html": [
       "<div>\n",
       "<style scoped>\n",
       "    .dataframe tbody tr th:only-of-type {\n",
       "        vertical-align: middle;\n",
       "    }\n",
       "\n",
       "    .dataframe tbody tr th {\n",
       "        vertical-align: top;\n",
       "    }\n",
       "\n",
       "    .dataframe thead th {\n",
       "        text-align: right;\n",
       "    }\n",
       "</style>\n",
       "<table border=\"1\" class=\"dataframe\">\n",
       "  <thead>\n",
       "    <tr style=\"text-align: right;\">\n",
       "      <th></th>\n",
       "      <th>Id_loans</th>\n",
       "      <th>CreatedDate_loans</th>\n",
       "      <th>CustomerId</th>\n",
       "      <th>LoanAmount</th>\n",
       "      <th>ProductId</th>\n",
       "      <th>LoanReason</th>\n",
       "      <th>Installment</th>\n",
       "      <th>Tenor</th>\n",
       "      <th>Rate</th>\n",
       "      <th>LoanStatus</th>\n",
       "      <th>...</th>\n",
       "      <th>PaymentType</th>\n",
       "      <th>LoanAccountId</th>\n",
       "      <th>RepaymentDate</th>\n",
       "      <th>RepaymentDeduction</th>\n",
       "      <th>Id</th>\n",
       "      <th>Gender</th>\n",
       "      <th>DateOfBirth</th>\n",
       "      <th>CreditScore</th>\n",
       "      <th>DisbursedMonth</th>\n",
       "      <th>days</th>\n",
       "    </tr>\n",
       "  </thead>\n",
       "  <tbody>\n",
       "    <tr>\n",
       "      <th>0</th>\n",
       "      <td>5</td>\n",
       "      <td>2021-06-09 18:49:50.483</td>\n",
       "      <td>2</td>\n",
       "      <td>25000.0</td>\n",
       "      <td>1</td>\n",
       "      <td>NA</td>\n",
       "      <td>10774.98</td>\n",
       "      <td>4</td>\n",
       "      <td>312.0</td>\n",
       "      <td>Settled</td>\n",
       "      <td>...</td>\n",
       "      <td>LoanDisbursement</td>\n",
       "      <td>5</td>\n",
       "      <td>2021-06-09 18:51:36.960</td>\n",
       "      <td></td>\n",
       "      <td>2</td>\n",
       "      <td>Male</td>\n",
       "      <td>1983-03-25 00:00:00</td>\n",
       "      <td>0</td>\n",
       "      <td>June</td>\n",
       "      <td>00:01:46.477000</td>\n",
       "    </tr>\n",
       "    <tr>\n",
       "      <th>1</th>\n",
       "      <td>5</td>\n",
       "      <td>2021-06-09 18:49:50.483</td>\n",
       "      <td>2</td>\n",
       "      <td>25000.0</td>\n",
       "      <td>1</td>\n",
       "      <td>NA</td>\n",
       "      <td>10774.98</td>\n",
       "      <td>4</td>\n",
       "      <td>312.0</td>\n",
       "      <td>Settled</td>\n",
       "      <td>...</td>\n",
       "      <td>CardPayment</td>\n",
       "      <td>5</td>\n",
       "      <td>2021-06-09 19:19:53.857</td>\n",
       "      <td>TotalReceived</td>\n",
       "      <td>2</td>\n",
       "      <td>Male</td>\n",
       "      <td>1983-03-25 00:00:00</td>\n",
       "      <td>0</td>\n",
       "      <td>June</td>\n",
       "      <td>00:30:03.374000</td>\n",
       "    </tr>\n",
       "  </tbody>\n",
       "</table>\n",
       "<p>2 rows × 32 columns</p>\n",
       "</div>"
      ],
      "text/plain": [
       "   Id_loans       CreatedDate_loans  CustomerId  LoanAmount  ProductId  \\\n",
       "0         5 2021-06-09 18:49:50.483           2     25000.0          1   \n",
       "1         5 2021-06-09 18:49:50.483           2     25000.0          1   \n",
       "\n",
       "  LoanReason  Installment  Tenor   Rate LoanStatus  ...       PaymentType  \\\n",
       "0         NA     10774.98      4  312.0    Settled  ...  LoanDisbursement   \n",
       "1         NA     10774.98      4  312.0    Settled  ...       CardPayment   \n",
       "\n",
       "  LoanAccountId           RepaymentDate  RepaymentDeduction  Id  Gender  \\\n",
       "0             5 2021-06-09 18:51:36.960                       2    Male   \n",
       "1             5 2021-06-09 19:19:53.857       TotalReceived   2    Male   \n",
       "\n",
       "           DateOfBirth  CreditScore DisbursedMonth            days  \n",
       "0  1983-03-25 00:00:00            0           June 00:01:46.477000  \n",
       "1  1983-03-25 00:00:00            0           June 00:30:03.374000  \n",
       "\n",
       "[2 rows x 32 columns]"
      ]
     },
     "execution_count": 137,
     "metadata": {},
     "output_type": "execute_result"
    }
   ],
   "source": [
    "df.head(2)"
   ]
  },
  {
   "cell_type": "code",
   "execution_count": 135,
   "metadata": {},
   "outputs": [
    {
     "data": {
      "text/plain": [
       "Timedelta('0 days 10:06:43.305943')"
      ]
     },
     "execution_count": 135,
     "metadata": {},
     "output_type": "execute_result"
    }
   ],
   "source": [
    "# Q2. Average days to disburse loan from application date ( Loan creation date, Loan Disbursement Date)\n",
    "# solution1\n",
    "df[df['PaymentType']=='LoanDisbursement']['days'].mean()"
   ]
  },
  {
   "cell_type": "code",
   "execution_count": null,
   "metadata": {},
   "outputs": [],
   "source": []
  },
  {
   "cell_type": "code",
   "execution_count": null,
   "metadata": {},
   "outputs": [],
   "source": []
  },
  {
   "cell_type": "code",
   "execution_count": 187,
   "metadata": {},
   "outputs": [
    {
     "data": {
      "text/plain": [
       "days   10:06:43.305943\n",
       "dtype: timedelta64[ns]"
      ]
     },
     "execution_count": 187,
     "metadata": {},
     "output_type": "execute_result"
    }
   ],
   "source": [
    "# Q2. Average days to disburse loan from application date ( Loan creation date, Loan Disbursement Date)\n",
    "# solution1\n",
    "df[df['PaymentType']=='LoanDisbursement'][['days']].mean()"
   ]
  },
  {
   "cell_type": "code",
   "execution_count": null,
   "metadata": {},
   "outputs": [],
   "source": []
  },
  {
   "cell_type": "code",
   "execution_count": null,
   "metadata": {},
   "outputs": [],
   "source": []
  },
  {
   "cell_type": "code",
   "execution_count": 139,
   "metadata": {},
   "outputs": [
    {
     "data": {
      "text/plain": [
       "Timedelta('0 days 10:06:43.305943')"
      ]
     },
     "execution_count": 139,
     "metadata": {},
     "output_type": "execute_result"
    }
   ],
   "source": [
    "# Q2. Average days to disburse loan from application date ( Loan creation date, Loan Disbursement Date)\n",
    "# solution2\n",
    "df['days'].loc[df['PaymentType'] == 'LoanDisbursement'].mean()"
   ]
  },
  {
   "cell_type": "code",
   "execution_count": 197,
   "metadata": {},
   "outputs": [
    {
     "data": {
      "text/plain": [
       "Timedelta('0 days 10:06:43.305943')"
      ]
     },
     "execution_count": 197,
     "metadata": {},
     "output_type": "execute_result"
    }
   ],
   "source": [
    "# Q2. Average days to disburse loan from application date ( Loan creation date, Loan Disbursement Date)\n",
    "# solution3\n",
    "df['days'][df['PaymentType'] == 'LoanDisbursement'].mean()"
   ]
  },
  {
   "cell_type": "markdown",
   "metadata": {},
   "source": [
    "### Q3. Average Loan amount disbursed to Female for Business Purpose"
   ]
  },
  {
   "cell_type": "code",
   "execution_count": 163,
   "metadata": {},
   "outputs": [
    {
     "data": {
      "text/plain": [
       "Index(['Id_loans', 'CreatedDate_loans', 'CustomerId', 'LoanAmount',\n",
       "       'ProductId', 'LoanReason', 'Installment', 'Tenor', 'Rate', 'LoanStatus',\n",
       "       'FirstRepaymentDate', 'MaturityDate', 'TotalOutstandingPrincipal',\n",
       "       'TotalOutstandingInterest', 'TotalOutstandingBalance', 'IsEmployed',\n",
       "       'IsHomeOwner', 'RepaymentType', 'LoanPurpose', 'Id_transactions',\n",
       "       'CreatedDate_transactions', 'Amount', 'PaymentType', 'LoanAccountId',\n",
       "       'RepaymentDate', 'RepaymentDeduction', 'Id', 'Gender', 'DateOfBirth',\n",
       "       'CreditScore', 'DisbursedMonth', 'days', 'age'],\n",
       "      dtype='object')"
      ]
     },
     "execution_count": 163,
     "metadata": {},
     "output_type": "execute_result"
    }
   ],
   "source": [
    "df.columns"
   ]
  },
  {
   "cell_type": "code",
   "execution_count": 164,
   "metadata": {},
   "outputs": [
    {
     "data": {
      "text/plain": [
       "Business             8726\n",
       "Emergency            2454\n",
       "Rent                 1342\n",
       "MedicalBills         1283\n",
       "Bills                1024\n",
       "Education            1002\n",
       "Investment            756\n",
       "CarExpense            451\n",
       "Food_Provisions       444\n",
       "SpecialEvents         252\n",
       "DebtConsideration     149\n",
       "PocketMoney           113\n",
       "Entertainment          56\n",
       "Name: LoanPurpose, dtype: int64"
      ]
     },
     "execution_count": 164,
     "metadata": {},
     "output_type": "execute_result"
    }
   ],
   "source": [
    "df.LoanPurpose.value_counts() #Gender=female"
   ]
  },
  {
   "cell_type": "code",
   "execution_count": 198,
   "metadata": {},
   "outputs": [
    {
     "data": {
      "text/plain": [
       "CPA                        5919\n",
       "BankTransfer               5077\n",
       "LoanDisbursement           2798\n",
       "CardPayment                2566\n",
       "Liquidation                1357\n",
       "Withdrawal_Cancellation     315\n",
       "CashDeposit                  15\n",
       "GoodwillCredit                5\n",
       "Name: PaymentType, dtype: int64"
      ]
     },
     "execution_count": 198,
     "metadata": {},
     "output_type": "execute_result"
    }
   ],
   "source": [
    "df.PaymentType.value_counts()"
   ]
  },
  {
   "cell_type": "code",
   "execution_count": 166,
   "metadata": {},
   "outputs": [
    {
     "data": {
      "text/plain": [
       "74692.69776876268"
      ]
     },
     "execution_count": 166,
     "metadata": {},
     "output_type": "execute_result"
    }
   ],
   "source": [
    "#Q3. Average Loan amount disbursed to Female for Business Purpose\n",
    "#Solution1\n",
    "filter1 = df.PaymentType=='LoanDisbursement'\n",
    "filter2 = df['Gender'] == 'Female'\n",
    "filter3 =  df['LoanPurpose'] == 'Business'\n",
    "\n",
    "\n",
    "customer_loan_transactions[filter1 & filter2 & filter3]['LoanAmount'].mean()\n"
   ]
  },
  {
   "cell_type": "code",
   "execution_count": 179,
   "metadata": {},
   "outputs": [
    {
     "data": {
      "text/plain": [
       "74692.69776876268"
      ]
     },
     "execution_count": 179,
     "metadata": {},
     "output_type": "execute_result"
    }
   ],
   "source": [
    "#Q3. Average Loan amount disbursed to Female for Business Purpose\n",
    "#Solution2\n",
    "filter1 = df.PaymentType=='LoanDisbursement'\n",
    "filter2 = df['Gender'] == 'Female'\n",
    "filter3 =  df['LoanPurpose'] == 'Business'\n",
    "\n",
    "\n",
    "df['LoanAmount'][filter1 & filter2 & filter3].mean()"
   ]
  },
  {
   "cell_type": "code",
   "execution_count": 168,
   "metadata": {},
   "outputs": [
    {
     "data": {
      "text/plain": [
       "74692.69776876268"
      ]
     },
     "execution_count": 168,
     "metadata": {},
     "output_type": "execute_result"
    }
   ],
   "source": [
    "#Q3. Average Loan amount disbursed to Female for Business Purpose\n",
    "#Solution3\n",
    "df[(df.PaymentType=='LoanDisbursement') & \n",
    "   (df.Gender=='Female') & \n",
    "   (df.LoanPurpose=='Business')]['LoanAmount'].mean() "
   ]
  },
  {
   "cell_type": "code",
   "execution_count": 217,
   "metadata": {},
   "outputs": [
    {
     "data": {
      "text/plain": [
       "74692.69776876268"
      ]
     },
     "execution_count": 217,
     "metadata": {},
     "output_type": "execute_result"
    }
   ],
   "source": [
    "#Q3. Average Loan amount disbursed to Female for Business Purpose\n",
    "#Solution4\n",
    "df.loc[(df.PaymentType=='LoanDisbursement') & \n",
    "   (df.Gender=='Female') & \n",
    "   (df.LoanPurpose=='Business')]['LoanAmount'].mean() "
   ]
  },
  {
   "cell_type": "code",
   "execution_count": 226,
   "metadata": {},
   "outputs": [
    {
     "data": {
      "text/plain": [
       "Id_loans                                              5\n",
       "CreatedDate_loans            2021-06-09 18:49:50.483000\n",
       "CustomerId                                            2\n",
       "LoanAmount                                        25000\n",
       "ProductId                                             1\n",
       "LoanReason                                           NA\n",
       "Installment                                       10775\n",
       "Tenor                                                 4\n",
       "Rate                                                312\n",
       "LoanStatus                                      Settled\n",
       "FirstRepaymentDate                  2021-07-08 00:00:00\n",
       "MaturityDate                 2021-09-09 18:49:50.483000\n",
       "TotalOutstandingPrincipal                         25000\n",
       "TotalOutstandingInterest                        18099.9\n",
       "TotalOutstandingBalance                         43099.9\n",
       "IsEmployed                                         True\n",
       "IsHomeOwner                                        None\n",
       "RepaymentType                                         1\n",
       "LoanPurpose                                        Rent\n",
       "Id_transactions                                       1\n",
       "CreatedDate_transactions     2021-06-09 18:51:36.960000\n",
       "Amount                                            25000\n",
       "PaymentType                            LoanDisbursement\n",
       "LoanAccountId                                         5\n",
       "RepaymentDate                2021-06-09 18:51:36.960000\n",
       "RepaymentDeduction                                     \n",
       "Id                                                    2\n",
       "Gender                                             Male\n",
       "DateOfBirth                         1983-03-25 00:00:00\n",
       "CreditScore                                           0\n",
       "DisbursedMonth                                     June\n",
       "days                             0 days 00:01:46.477000\n",
       "age                                                  38\n",
       "Name: 0, dtype: object"
      ]
     },
     "execution_count": 226,
     "metadata": {},
     "output_type": "execute_result"
    }
   ],
   "source": [
    "df.loc[]"
   ]
  },
  {
   "cell_type": "markdown",
   "metadata": {},
   "source": [
    "### Q4. Average Age of Customers requesting loan for Educational Purpose\n"
   ]
  },
  {
   "cell_type": "code",
   "execution_count": 169,
   "metadata": {},
   "outputs": [
    {
     "data": {
      "text/plain": [
       "Business             8726\n",
       "Emergency            2454\n",
       "Rent                 1342\n",
       "MedicalBills         1283\n",
       "Bills                1024\n",
       "Education            1002\n",
       "Investment            756\n",
       "CarExpense            451\n",
       "Food_Provisions       444\n",
       "SpecialEvents         252\n",
       "DebtConsideration     149\n",
       "PocketMoney           113\n",
       "Entertainment          56\n",
       "Name: LoanPurpose, dtype: int64"
      ]
     },
     "execution_count": 169,
     "metadata": {},
     "output_type": "execute_result"
    }
   ],
   "source": [
    "df.LoanPurpose.value_counts() #Gender=female"
   ]
  },
  {
   "cell_type": "code",
   "execution_count": 170,
   "metadata": {},
   "outputs": [],
   "source": [
    "#calculating age of customers based on DateOfBirth column- from (now-DoB)\n",
    "now = pd.Timestamp('now')\n",
    "df['age'] = (now - df['DateOfBirth']).astype('<m8[Y]')  "
   ]
  },
  {
   "cell_type": "code",
   "execution_count": 223,
   "metadata": {},
   "outputs": [
    {
     "data": {
      "text/plain": [
       "36.77445109780439"
      ]
     },
     "execution_count": 223,
     "metadata": {},
     "output_type": "execute_result"
    }
   ],
   "source": [
    "# Q4. Average Age of Customers requesting loan for Educational Purpose\n",
    "# Solution1\n",
    "df[df.LoanPurpose == 'Education']['age'].agg('mean')"
   ]
  },
  {
   "cell_type": "code",
   "execution_count": 222,
   "metadata": {},
   "outputs": [
    {
     "data": {
      "text/plain": [
       "36.77445109780439"
      ]
     },
     "execution_count": 222,
     "metadata": {},
     "output_type": "execute_result"
    }
   ],
   "source": [
    "# Q4. Average Age of Customers requesting loan for Educational Purpose\n",
    "# Solution2\n",
    "df[df.LoanPurpose == 'Education']['age'].mean()"
   ]
  },
  {
   "cell_type": "code",
   "execution_count": 221,
   "metadata": {},
   "outputs": [
    {
     "data": {
      "text/plain": [
       "36.77445109780439"
      ]
     },
     "execution_count": 221,
     "metadata": {},
     "output_type": "execute_result"
    }
   ],
   "source": [
    "# Q4. Average Age of Customers requesting loan for Educational Purpose\n",
    "# Solution2\n",
    "df.loc[df.LoanPurpose == 'Education']['age'].mean()"
   ]
  },
  {
   "cell_type": "markdown",
   "metadata": {},
   "source": [
    "### Q5. Average tenor for the loan disbursed for customers with the max credit score"
   ]
  },
  {
   "cell_type": "code",
   "execution_count": 262,
   "metadata": {},
   "outputs": [],
   "source": [
    "filter1 = (df.CreditScore == df.CreditScore.max())"
   ]
  },
  {
   "cell_type": "code",
   "execution_count": 263,
   "metadata": {},
   "outputs": [],
   "source": [
    "filter2 = (df.PaymentType == 'LoanDisbursement')"
   ]
  },
  {
   "cell_type": "code",
   "execution_count": 264,
   "metadata": {},
   "outputs": [
    {
     "data": {
      "text/plain": [
       "5.333333333333333"
      ]
     },
     "execution_count": 264,
     "metadata": {},
     "output_type": "execute_result"
    }
   ],
   "source": [
    "df[filter1 & filter2]['Tenor'].mean()"
   ]
  },
  {
   "cell_type": "markdown",
   "metadata": {},
   "source": [
    "### Q5. List of customers with the max credit score, average tenor for the loan disbursed to them."
   ]
  },
  {
   "cell_type": "code",
   "execution_count": 173,
   "metadata": {},
   "outputs": [
    {
     "data": {
      "text/plain": [
       "Index(['Id_loans', 'CreatedDate_loans', 'CustomerId', 'LoanAmount',\n",
       "       'ProductId', 'LoanReason', 'Installment', 'Tenor', 'Rate', 'LoanStatus',\n",
       "       'FirstRepaymentDate', 'MaturityDate', 'TotalOutstandingPrincipal',\n",
       "       'TotalOutstandingInterest', 'TotalOutstandingBalance', 'IsEmployed',\n",
       "       'IsHomeOwner', 'RepaymentType', 'LoanPurpose', 'Id_transactions',\n",
       "       'CreatedDate_transactions', 'Amount', 'PaymentType', 'LoanAccountId',\n",
       "       'RepaymentDate', 'RepaymentDeduction', 'Id', 'Gender', 'DateOfBirth',\n",
       "       'CreditScore', 'DisbursedMonth', 'days', 'age'],\n",
       "      dtype='object')"
      ]
     },
     "execution_count": 173,
     "metadata": {},
     "output_type": "execute_result"
    }
   ],
   "source": [
    "df.columns"
   ]
  },
  {
   "cell_type": "code",
   "execution_count": 174,
   "metadata": {},
   "outputs": [
    {
     "data": {
      "text/plain": [
       "Index(['Id', 'DateOfBirth', 'Gender', 'MaritalStatus', 'CreditScore',\n",
       "       'LastLoginTime', 'IsEmailConfirmed', 'EmailConfirmationDate',\n",
       "       'PhoneNumberConfirmationDate', 'IsPhoneNumberConfirmed',\n",
       "       'EmployerSector', 'EmploymentStatus', 'IsVerified',\n",
       "       'IsBasicProfileComplete'],\n",
       "      dtype='object')"
      ]
     },
     "execution_count": 174,
     "metadata": {},
     "output_type": "execute_result"
    }
   ],
   "source": [
    "customers.columns"
   ]
  },
  {
   "cell_type": "code",
   "execution_count": 175,
   "metadata": {},
   "outputs": [],
   "source": [
    "filter1 = df.CreditScore.max"
   ]
  },
  {
   "cell_type": "code",
   "execution_count": 176,
   "metadata": {},
   "outputs": [],
   "source": [
    "filter2 = df.Tenor.mean()"
   ]
  },
  {
   "cell_type": "code",
   "execution_count": 177,
   "metadata": {},
   "outputs": [],
   "source": [
    "filter3 = (df.PaymentType == 'LoanDisbursement')"
   ]
  },
  {
   "cell_type": "code",
   "execution_count": 248,
   "metadata": {},
   "outputs": [
    {
     "data": {
      "text/plain": [
       "<bound method Series.unique of 97           1\n",
       "100          1\n",
       "129         22\n",
       "171         25\n",
       "388         97\n",
       "         ...  \n",
       "17881    10909\n",
       "17891     2693\n",
       "17959    42810\n",
       "17963    43172\n",
       "17999    47138\n",
       "Name: CustomerId, Length: 493, dtype: int64>"
      ]
     },
     "execution_count": 248,
     "metadata": {},
     "output_type": "execute_result"
    }
   ],
   "source": [
    "# solution1 - gives boolean series as result with unique customerids\n",
    "df.loc[filter1 & filter2 & filter3].CustomerId.unique"
   ]
  },
  {
   "cell_type": "code",
   "execution_count": 250,
   "metadata": {},
   "outputs": [
    {
     "data": {
      "text/plain": [
       "array([    1,    22,    25,    97,   372,   222,   542,   783,   665,\n",
       "         609,  1064,  1063,   559,  1293,  1309,  1521,  1525,  1775,\n",
       "        1778,   421,  1304,  1838,  1158,  1865,  1371,  1042,  1196,\n",
       "        2030,  2086,  1608,  1124,  2118,  2096,  2016,  2166,  2107,\n",
       "        1943,  1369,  1360,  2307,  2142,  1295,  2329,  2336,  1297,\n",
       "        2363,  2445,  2456,  2536,  2516,   526,  2262,  1955,  2665,\n",
       "        2551,   902,  2387,  2303,  2225,  2507,  2566,  2838,  2924,\n",
       "         934,  1126,  2887,  3051,  1303,  1732,   487,  1666,  3157,\n",
       "        3307,  3287,  2936,  2539,  2694,  3302,  3249,  2085,  2446,\n",
       "        2801,  3489,  2797,  2193,  2656,  2861,  1096,  1773,  2411,\n",
       "        2955,  2155,  3612,  3206,   633,  3725,  2076,  2596,  2793,\n",
       "         417,  1153,  4121,  2561,  3848,  2692,  4226,  2345,  4251,\n",
       "        2669,  4315,  1450,  2181,  4414,  2650,  1628,  4386,  3070,\n",
       "        4404,  4391,  2235,  4702,  4527,  4956,  4026,  2745,  2197,\n",
       "        1465,  3745,  3539,  4795,  3801,  5356,  5689,  5544,  4983,\n",
       "        5920,  4369,  5717,   230,  4916,  3153,  3686,  6184,  5375,\n",
       "        3155,  5983,  2359,  6244,  2263,  2746,  5119,  6135,  3796,\n",
       "        6246,  6484,  5861,  6577,  6516,  2772,  4352,  3160,  4509,\n",
       "        2514,  6635,  5537,   175,  6398,  6463,  7290,  5310,  7399,\n",
       "        6851,  7450,  1767,  5009,  7691,  1337,  2497,  7422,   888,\n",
       "        8116,  3717,  2311,  8381,  6534,  6625,  7738,  5546,  8156,\n",
       "        7785,   462,  8658,  9028,  6107,  8244,  7801,  8516,  9636,\n",
       "        8659,  8319,  1526,  7733,  9857,  8746,  9646,  9934, 10066,\n",
       "        9868, 10113,  4190, 10445, 10525, 10548,  1915,  2557,  6464,\n",
       "       11030, 10103,  3047,  3014,  8285, 11793,  3314, 11581,  5550,\n",
       "        1803,  1646,  1794, 12553, 12184, 12573,  6900, 13140, 13162,\n",
       "       12532,  5197,  4730,  4365,  4067, 13461,  1947, 13788, 12477,\n",
       "        9148,  4049,   986,  2378, 13996, 14651, 14489,  5337,  1893,\n",
       "         885, 15226, 10223,  8648,  7182, 14029, 12675, 16004, 10319,\n",
       "        5202,   653,  2512,  4305, 14689,  4835, 14319,  2741, 14003,\n",
       "        3997,   880,   895,  7748,  2469, 13204, 12895, 11001, 13027,\n",
       "       12423, 16729,  6903, 13523,  3291, 17001,  6158,  5218,   233,\n",
       "       16836,  6778,  3746, 16902,  2331, 17509, 17549, 16666, 17706,\n",
       "        2637, 17916,  3171, 17101, 18055,  8989, 17891, 17526,  9782,\n",
       "       15183,  3006, 18097, 17691, 16951,  4263,  5393, 18378, 18577,\n",
       "       13314,  8196, 18784,  2840,  2169, 17868, 16968,  8575, 12577,\n",
       "        7086, 17820, 18866, 10748, 18777,  6807, 17285, 19231, 11453,\n",
       "        7788, 16720, 19423,  6275, 19317,  8485,  4515, 17154, 19443,\n",
       "       10015,  2260, 19631, 17649,  6201, 18756, 16569, 19084, 20550,\n",
       "       18472, 10288, 13689,  5625, 18420,  2351, 20683,  9065, 20619,\n",
       "       14324,  2064, 12704, 24423, 16907, 25006, 24840, 18300, 26356,\n",
       "       27760, 28214, 26723,  4778,  2473, 20121, 26171, 29309, 27283,\n",
       "       30383, 26298, 30495, 27736, 13167,  2106, 31294,  7260, 24295,\n",
       "       31435, 31814,  5293, 20424, 20852,  2021, 28920, 21395, 23272,\n",
       "       32374, 32137, 27593,  2432, 32659, 33142, 33072, 26849,  4173,\n",
       "       34159, 21436, 34350,  5361, 34758,  2857, 35112, 21828, 35618,\n",
       "       36974, 37109, 35607, 37961, 39713, 18738, 40073, 39708, 24614,\n",
       "       17017, 40591, 38886, 40907, 15011, 10439, 30069, 39681, 39019,\n",
       "        7127, 41203, 41674, 40868, 39324, 14528, 40520, 37567, 43248,\n",
       "       42729, 12701,  5519, 13518,  2385, 40575, 10909,  2693, 42810,\n",
       "       43172, 47138], dtype=int64)"
      ]
     },
     "execution_count": 250,
     "metadata": {},
     "output_type": "execute_result"
    }
   ],
   "source": [
    "#solution2 - gives numpy array as result with list of unique customerIDs\n",
    "df.loc[filter1 & filter2 & filter3].CustomerId.unique()"
   ]
  },
  {
   "cell_type": "code",
   "execution_count": 231,
   "metadata": {},
   "outputs": [
    {
     "data": {
      "text/html": [
       "<div>\n",
       "<style scoped>\n",
       "    .dataframe tbody tr th:only-of-type {\n",
       "        vertical-align: middle;\n",
       "    }\n",
       "\n",
       "    .dataframe tbody tr th {\n",
       "        vertical-align: top;\n",
       "    }\n",
       "\n",
       "    .dataframe thead th {\n",
       "        text-align: right;\n",
       "    }\n",
       "</style>\n",
       "<table border=\"1\" class=\"dataframe\">\n",
       "  <thead>\n",
       "    <tr style=\"text-align: right;\">\n",
       "      <th></th>\n",
       "      <th>CustomerId</th>\n",
       "    </tr>\n",
       "  </thead>\n",
       "  <tbody>\n",
       "    <tr>\n",
       "      <th>97</th>\n",
       "      <td>1</td>\n",
       "    </tr>\n",
       "    <tr>\n",
       "      <th>100</th>\n",
       "      <td>1</td>\n",
       "    </tr>\n",
       "    <tr>\n",
       "      <th>129</th>\n",
       "      <td>22</td>\n",
       "    </tr>\n",
       "    <tr>\n",
       "      <th>171</th>\n",
       "      <td>25</td>\n",
       "    </tr>\n",
       "    <tr>\n",
       "      <th>388</th>\n",
       "      <td>97</td>\n",
       "    </tr>\n",
       "    <tr>\n",
       "      <th>...</th>\n",
       "      <td>...</td>\n",
       "    </tr>\n",
       "    <tr>\n",
       "      <th>17881</th>\n",
       "      <td>10909</td>\n",
       "    </tr>\n",
       "    <tr>\n",
       "      <th>17891</th>\n",
       "      <td>2693</td>\n",
       "    </tr>\n",
       "    <tr>\n",
       "      <th>17959</th>\n",
       "      <td>42810</td>\n",
       "    </tr>\n",
       "    <tr>\n",
       "      <th>17963</th>\n",
       "      <td>43172</td>\n",
       "    </tr>\n",
       "    <tr>\n",
       "      <th>17999</th>\n",
       "      <td>47138</td>\n",
       "    </tr>\n",
       "  </tbody>\n",
       "</table>\n",
       "<p>493 rows × 1 columns</p>\n",
       "</div>"
      ],
      "text/plain": [
       "       CustomerId\n",
       "97              1\n",
       "100             1\n",
       "129            22\n",
       "171            25\n",
       "388            97\n",
       "...           ...\n",
       "17881       10909\n",
       "17891        2693\n",
       "17959       42810\n",
       "17963       43172\n",
       "17999       47138\n",
       "\n",
       "[493 rows x 1 columns]"
      ]
     },
     "execution_count": 231,
     "metadata": {},
     "output_type": "execute_result"
    }
   ],
   "source": [
    "# solution3 - gives dataframe as result with CustomerId(but not unique)\n",
    "df[filter1 & filter2 & filter3][['CustomerId']]"
   ]
  },
  {
   "cell_type": "code",
   "execution_count": 228,
   "metadata": {},
   "outputs": [
    {
     "data": {
      "text/html": [
       "<div>\n",
       "<style scoped>\n",
       "    .dataframe tbody tr th:only-of-type {\n",
       "        vertical-align: middle;\n",
       "    }\n",
       "\n",
       "    .dataframe tbody tr th {\n",
       "        vertical-align: top;\n",
       "    }\n",
       "\n",
       "    .dataframe thead th {\n",
       "        text-align: right;\n",
       "    }\n",
       "</style>\n",
       "<table border=\"1\" class=\"dataframe\">\n",
       "  <thead>\n",
       "    <tr style=\"text-align: right;\">\n",
       "      <th></th>\n",
       "      <th>Id_loans</th>\n",
       "      <th>CreatedDate_loans</th>\n",
       "      <th>CustomerId</th>\n",
       "      <th>LoanAmount</th>\n",
       "      <th>ProductId</th>\n",
       "      <th>LoanReason</th>\n",
       "      <th>Installment</th>\n",
       "      <th>Tenor</th>\n",
       "      <th>Rate</th>\n",
       "      <th>LoanStatus</th>\n",
       "      <th>...</th>\n",
       "      <th>LoanAccountId</th>\n",
       "      <th>RepaymentDate</th>\n",
       "      <th>RepaymentDeduction</th>\n",
       "      <th>Id</th>\n",
       "      <th>Gender</th>\n",
       "      <th>DateOfBirth</th>\n",
       "      <th>CreditScore</th>\n",
       "      <th>DisbursedMonth</th>\n",
       "      <th>days</th>\n",
       "      <th>age</th>\n",
       "    </tr>\n",
       "  </thead>\n",
       "  <tbody>\n",
       "    <tr>\n",
       "      <th>97</th>\n",
       "      <td>6</td>\n",
       "      <td>2021-06-09 18:51:18.263</td>\n",
       "      <td>1</td>\n",
       "      <td>25000.0</td>\n",
       "      <td>1</td>\n",
       "      <td>NA</td>\n",
       "      <td>9459.86</td>\n",
       "      <td>6</td>\n",
       "      <td>360.0</td>\n",
       "      <td>Settled</td>\n",
       "      <td>...</td>\n",
       "      <td>6</td>\n",
       "      <td>2021-06-09 19:48:56.540</td>\n",
       "      <td></td>\n",
       "      <td>1</td>\n",
       "      <td>Female</td>\n",
       "      <td>1997-06-20 00:00:00</td>\n",
       "      <td>0</td>\n",
       "      <td>June</td>\n",
       "      <td>00:57:38.277000</td>\n",
       "      <td>24.0</td>\n",
       "    </tr>\n",
       "    <tr>\n",
       "      <th>100</th>\n",
       "      <td>15</td>\n",
       "      <td>2021-06-11 09:34:33.620</td>\n",
       "      <td>1</td>\n",
       "      <td>25000.0</td>\n",
       "      <td>1</td>\n",
       "      <td>NA</td>\n",
       "      <td>9459.86</td>\n",
       "      <td>6</td>\n",
       "      <td>360.0</td>\n",
       "      <td>Settled</td>\n",
       "      <td>...</td>\n",
       "      <td>15</td>\n",
       "      <td>2021-06-11 09:43:30.263</td>\n",
       "      <td></td>\n",
       "      <td>1</td>\n",
       "      <td>Female</td>\n",
       "      <td>1997-06-20 00:00:00</td>\n",
       "      <td>0</td>\n",
       "      <td>June</td>\n",
       "      <td>00:08:56.643000</td>\n",
       "      <td>24.0</td>\n",
       "    </tr>\n",
       "  </tbody>\n",
       "</table>\n",
       "<p>2 rows × 33 columns</p>\n",
       "</div>"
      ],
      "text/plain": [
       "     Id_loans       CreatedDate_loans  CustomerId  LoanAmount  ProductId  \\\n",
       "97          6 2021-06-09 18:51:18.263           1     25000.0          1   \n",
       "100        15 2021-06-11 09:34:33.620           1     25000.0          1   \n",
       "\n",
       "    LoanReason  Installment  Tenor   Rate LoanStatus  ... LoanAccountId  \\\n",
       "97          NA      9459.86      6  360.0    Settled  ...             6   \n",
       "100         NA      9459.86      6  360.0    Settled  ...            15   \n",
       "\n",
       "              RepaymentDate  RepaymentDeduction  Id  Gender  \\\n",
       "97  2021-06-09 19:48:56.540                       1  Female   \n",
       "100 2021-06-11 09:43:30.263                       1  Female   \n",
       "\n",
       "             DateOfBirth CreditScore  DisbursedMonth            days   age  \n",
       "97   1997-06-20 00:00:00           0            June 00:57:38.277000  24.0  \n",
       "100  1997-06-20 00:00:00           0            June 00:08:56.643000  24.0  \n",
       "\n",
       "[2 rows x 33 columns]"
      ]
     },
     "execution_count": 228,
     "metadata": {},
     "output_type": "execute_result"
    }
   ],
   "source": [
    "#Solution4- gives dataframe with all details of customers(but not unique)\n",
    "df.loc[filter1 & filter2 & filter3].head(2)"
   ]
  },
  {
   "cell_type": "code",
   "execution_count": 251,
   "metadata": {},
   "outputs": [
    {
     "data": {
      "text/plain": [
       "4.774193548387097"
      ]
     },
     "execution_count": 251,
     "metadata": {},
     "output_type": "execute_result"
    }
   ],
   "source": [
    "df.loc[df['CreditScore'] == df['CreditScore'].max()]['Tenor'].mean()"
   ]
  },
  {
   "cell_type": "code",
   "execution_count": 199,
   "metadata": {},
   "outputs": [],
   "source": [
    "transactions.loc[]"
   ]
  },
  {
   "cell_type": "code",
   "execution_count": 203,
   "metadata": {},
   "outputs": [
    {
     "data": {
      "text/html": [
       "<div>\n",
       "<style scoped>\n",
       "    .dataframe tbody tr th:only-of-type {\n",
       "        vertical-align: middle;\n",
       "    }\n",
       "\n",
       "    .dataframe tbody tr th {\n",
       "        vertical-align: top;\n",
       "    }\n",
       "\n",
       "    .dataframe thead th {\n",
       "        text-align: right;\n",
       "    }\n",
       "</style>\n",
       "<table border=\"1\" class=\"dataframe\">\n",
       "  <thead>\n",
       "    <tr style=\"text-align: right;\">\n",
       "      <th></th>\n",
       "      <th>Id_loans</th>\n",
       "      <th>CreatedDate_loans</th>\n",
       "      <th>CustomerId</th>\n",
       "      <th>LoanAmount</th>\n",
       "      <th>ProductId</th>\n",
       "      <th>LoanReason</th>\n",
       "      <th>Installment</th>\n",
       "      <th>Tenor</th>\n",
       "      <th>Rate</th>\n",
       "      <th>LoanStatus</th>\n",
       "      <th>...</th>\n",
       "      <th>LoanAccountId</th>\n",
       "      <th>RepaymentDate</th>\n",
       "      <th>RepaymentDeduction</th>\n",
       "      <th>Id</th>\n",
       "      <th>Gender</th>\n",
       "      <th>DateOfBirth</th>\n",
       "      <th>CreditScore</th>\n",
       "      <th>DisbursedMonth</th>\n",
       "      <th>days</th>\n",
       "      <th>age</th>\n",
       "    </tr>\n",
       "  </thead>\n",
       "  <tbody>\n",
       "    <tr>\n",
       "      <th>0</th>\n",
       "      <td>5</td>\n",
       "      <td>2021-06-09 18:49:50.483</td>\n",
       "      <td>2</td>\n",
       "      <td>25000.0</td>\n",
       "      <td>1</td>\n",
       "      <td>NA</td>\n",
       "      <td>10774.98</td>\n",
       "      <td>4</td>\n",
       "      <td>312.0</td>\n",
       "      <td>Settled</td>\n",
       "      <td>...</td>\n",
       "      <td>5</td>\n",
       "      <td>2021-06-09 18:51:36.960</td>\n",
       "      <td></td>\n",
       "      <td>2</td>\n",
       "      <td>Male</td>\n",
       "      <td>1983-03-25 00:00:00</td>\n",
       "      <td>0</td>\n",
       "      <td>June</td>\n",
       "      <td>00:01:46.477000</td>\n",
       "      <td>38.0</td>\n",
       "    </tr>\n",
       "    <tr>\n",
       "      <th>1</th>\n",
       "      <td>5</td>\n",
       "      <td>2021-06-09 18:49:50.483</td>\n",
       "      <td>2</td>\n",
       "      <td>25000.0</td>\n",
       "      <td>1</td>\n",
       "      <td>NA</td>\n",
       "      <td>10774.98</td>\n",
       "      <td>4</td>\n",
       "      <td>312.0</td>\n",
       "      <td>Settled</td>\n",
       "      <td>...</td>\n",
       "      <td>5</td>\n",
       "      <td>2021-06-09 19:19:53.857</td>\n",
       "      <td>TotalReceived</td>\n",
       "      <td>2</td>\n",
       "      <td>Male</td>\n",
       "      <td>1983-03-25 00:00:00</td>\n",
       "      <td>0</td>\n",
       "      <td>June</td>\n",
       "      <td>00:30:03.374000</td>\n",
       "      <td>38.0</td>\n",
       "    </tr>\n",
       "    <tr>\n",
       "      <th>2</th>\n",
       "      <td>5</td>\n",
       "      <td>2021-06-09 18:49:50.483</td>\n",
       "      <td>2</td>\n",
       "      <td>25000.0</td>\n",
       "      <td>1</td>\n",
       "      <td>NA</td>\n",
       "      <td>10774.98</td>\n",
       "      <td>4</td>\n",
       "      <td>312.0</td>\n",
       "      <td>Settled</td>\n",
       "      <td>...</td>\n",
       "      <td>5</td>\n",
       "      <td>2021-06-09 19:32:34.473</td>\n",
       "      <td>TotalReceived</td>\n",
       "      <td>2</td>\n",
       "      <td>Male</td>\n",
       "      <td>1983-03-25 00:00:00</td>\n",
       "      <td>0</td>\n",
       "      <td>June</td>\n",
       "      <td>00:42:43.990000</td>\n",
       "      <td>38.0</td>\n",
       "    </tr>\n",
       "    <tr>\n",
       "      <th>3</th>\n",
       "      <td>7</td>\n",
       "      <td>2021-06-09 18:59:22.983</td>\n",
       "      <td>2</td>\n",
       "      <td>45000.0</td>\n",
       "      <td>1</td>\n",
       "      <td>NA</td>\n",
       "      <td>15598.05</td>\n",
       "      <td>6</td>\n",
       "      <td>312.0</td>\n",
       "      <td>Settled</td>\n",
       "      <td>...</td>\n",
       "      <td>7</td>\n",
       "      <td>2021-06-09 19:03:07.937</td>\n",
       "      <td></td>\n",
       "      <td>2</td>\n",
       "      <td>Male</td>\n",
       "      <td>1983-03-25 00:00:00</td>\n",
       "      <td>0</td>\n",
       "      <td>June</td>\n",
       "      <td>00:03:44.954000</td>\n",
       "      <td>38.0</td>\n",
       "    </tr>\n",
       "    <tr>\n",
       "      <th>4</th>\n",
       "      <td>7</td>\n",
       "      <td>2021-06-09 18:59:22.983</td>\n",
       "      <td>2</td>\n",
       "      <td>45000.0</td>\n",
       "      <td>1</td>\n",
       "      <td>NA</td>\n",
       "      <td>15598.05</td>\n",
       "      <td>6</td>\n",
       "      <td>312.0</td>\n",
       "      <td>Settled</td>\n",
       "      <td>...</td>\n",
       "      <td>7</td>\n",
       "      <td>2021-06-09 19:28:19.360</td>\n",
       "      <td>TotalReceived</td>\n",
       "      <td>2</td>\n",
       "      <td>Male</td>\n",
       "      <td>1983-03-25 00:00:00</td>\n",
       "      <td>0</td>\n",
       "      <td>June</td>\n",
       "      <td>00:28:56.377000</td>\n",
       "      <td>38.0</td>\n",
       "    </tr>\n",
       "  </tbody>\n",
       "</table>\n",
       "<p>5 rows × 33 columns</p>\n",
       "</div>"
      ],
      "text/plain": [
       "   Id_loans       CreatedDate_loans  CustomerId  LoanAmount  ProductId  \\\n",
       "0         5 2021-06-09 18:49:50.483           2     25000.0          1   \n",
       "1         5 2021-06-09 18:49:50.483           2     25000.0          1   \n",
       "2         5 2021-06-09 18:49:50.483           2     25000.0          1   \n",
       "3         7 2021-06-09 18:59:22.983           2     45000.0          1   \n",
       "4         7 2021-06-09 18:59:22.983           2     45000.0          1   \n",
       "\n",
       "  LoanReason  Installment  Tenor   Rate LoanStatus  ... LoanAccountId  \\\n",
       "0         NA     10774.98      4  312.0    Settled  ...             5   \n",
       "1         NA     10774.98      4  312.0    Settled  ...             5   \n",
       "2         NA     10774.98      4  312.0    Settled  ...             5   \n",
       "3         NA     15598.05      6  312.0    Settled  ...             7   \n",
       "4         NA     15598.05      6  312.0    Settled  ...             7   \n",
       "\n",
       "            RepaymentDate  RepaymentDeduction  Id  Gender  \\\n",
       "0 2021-06-09 18:51:36.960                       2    Male   \n",
       "1 2021-06-09 19:19:53.857       TotalReceived   2    Male   \n",
       "2 2021-06-09 19:32:34.473       TotalReceived   2    Male   \n",
       "3 2021-06-09 19:03:07.937                       2    Male   \n",
       "4 2021-06-09 19:28:19.360       TotalReceived   2    Male   \n",
       "\n",
       "           DateOfBirth CreditScore  DisbursedMonth            days   age  \n",
       "0  1983-03-25 00:00:00           0            June 00:01:46.477000  38.0  \n",
       "1  1983-03-25 00:00:00           0            June 00:30:03.374000  38.0  \n",
       "2  1983-03-25 00:00:00           0            June 00:42:43.990000  38.0  \n",
       "3  1983-03-25 00:00:00           0            June 00:03:44.954000  38.0  \n",
       "4  1983-03-25 00:00:00           0            June 00:28:56.377000  38.0  \n",
       "\n",
       "[5 rows x 33 columns]"
      ]
     },
     "execution_count": 203,
     "metadata": {},
     "output_type": "execute_result"
    }
   ],
   "source": [
    "df.head()"
   ]
  },
  {
   "cell_type": "code",
   "execution_count": 213,
   "metadata": {},
   "outputs": [
    {
     "data": {
      "text/html": [
       "<div>\n",
       "<style scoped>\n",
       "    .dataframe tbody tr th:only-of-type {\n",
       "        vertical-align: middle;\n",
       "    }\n",
       "\n",
       "    .dataframe tbody tr th {\n",
       "        vertical-align: top;\n",
       "    }\n",
       "\n",
       "    .dataframe thead th {\n",
       "        text-align: right;\n",
       "    }\n",
       "</style>\n",
       "<table border=\"1\" class=\"dataframe\">\n",
       "  <thead>\n",
       "    <tr style=\"text-align: right;\">\n",
       "      <th></th>\n",
       "      <th>Id_loans</th>\n",
       "      <th>CreatedDate_loans</th>\n",
       "      <th>CustomerId</th>\n",
       "      <th>LoanAmount</th>\n",
       "      <th>ProductId</th>\n",
       "      <th>LoanReason</th>\n",
       "      <th>Installment</th>\n",
       "      <th>Tenor</th>\n",
       "      <th>Rate</th>\n",
       "      <th>LoanStatus</th>\n",
       "      <th>...</th>\n",
       "      <th>LoanAccountId</th>\n",
       "      <th>RepaymentDate</th>\n",
       "      <th>RepaymentDeduction</th>\n",
       "      <th>Id</th>\n",
       "      <th>Gender</th>\n",
       "      <th>DateOfBirth</th>\n",
       "      <th>CreditScore</th>\n",
       "      <th>DisbursedMonth</th>\n",
       "      <th>days</th>\n",
       "      <th>age</th>\n",
       "    </tr>\n",
       "  </thead>\n",
       "  <tbody>\n",
       "    <tr>\n",
       "      <th>2160</th>\n",
       "      <td>739</td>\n",
       "      <td>2021-07-07 12:11:38.450</td>\n",
       "      <td>1046</td>\n",
       "      <td>70000.0</td>\n",
       "      <td>1</td>\n",
       "      <td>NA</td>\n",
       "      <td>18997.29</td>\n",
       "      <td>6</td>\n",
       "      <td>192.0</td>\n",
       "      <td>Due</td>\n",
       "      <td>...</td>\n",
       "      <td>739</td>\n",
       "      <td>2021-07-07 13:25:15.850</td>\n",
       "      <td></td>\n",
       "      <td>1046</td>\n",
       "      <td>Male</td>\n",
       "      <td>1970-09-24 00:00:00</td>\n",
       "      <td>850</td>\n",
       "      <td>July</td>\n",
       "      <td>0 days 01:13:37.400000</td>\n",
       "      <td>51.0</td>\n",
       "    </tr>\n",
       "    <tr>\n",
       "      <th>2161</th>\n",
       "      <td>739</td>\n",
       "      <td>2021-07-07 12:11:38.450</td>\n",
       "      <td>1046</td>\n",
       "      <td>70000.0</td>\n",
       "      <td>1</td>\n",
       "      <td>NA</td>\n",
       "      <td>18997.29</td>\n",
       "      <td>6</td>\n",
       "      <td>192.0</td>\n",
       "      <td>Due</td>\n",
       "      <td>...</td>\n",
       "      <td>739</td>\n",
       "      <td>2021-08-06 20:54:15.780</td>\n",
       "      <td>TotalReceived</td>\n",
       "      <td>1046</td>\n",
       "      <td>Male</td>\n",
       "      <td>1970-09-24 00:00:00</td>\n",
       "      <td>850</td>\n",
       "      <td>August</td>\n",
       "      <td>30 days 08:42:37.330000</td>\n",
       "      <td>51.0</td>\n",
       "    </tr>\n",
       "  </tbody>\n",
       "</table>\n",
       "<p>2 rows × 33 columns</p>\n",
       "</div>"
      ],
      "text/plain": [
       "      Id_loans       CreatedDate_loans  CustomerId  LoanAmount  ProductId  \\\n",
       "2160       739 2021-07-07 12:11:38.450        1046     70000.0          1   \n",
       "2161       739 2021-07-07 12:11:38.450        1046     70000.0          1   \n",
       "\n",
       "     LoanReason  Installment  Tenor   Rate LoanStatus  ... LoanAccountId  \\\n",
       "2160         NA     18997.29      6  192.0        Due  ...           739   \n",
       "2161         NA     18997.29      6  192.0        Due  ...           739   \n",
       "\n",
       "               RepaymentDate  RepaymentDeduction    Id  Gender  \\\n",
       "2160 2021-07-07 13:25:15.850                      1046    Male   \n",
       "2161 2021-08-06 20:54:15.780       TotalReceived  1046    Male   \n",
       "\n",
       "              DateOfBirth CreditScore  DisbursedMonth                    days  \\\n",
       "2160  1970-09-24 00:00:00         850            July  0 days 01:13:37.400000   \n",
       "2161  1970-09-24 00:00:00         850          August 30 days 08:42:37.330000   \n",
       "\n",
       "       age  \n",
       "2160  51.0  \n",
       "2161  51.0  \n",
       "\n",
       "[2 rows x 33 columns]"
      ]
     },
     "execution_count": 213,
     "metadata": {},
     "output_type": "execute_result"
    }
   ],
   "source": [
    "#Passing booleen series to dataframe -results in dataframe\n",
    "df[df[\"CreditScore\"] == df[\"CreditScore\"].max()].head(2)\n"
   ]
  },
  {
   "cell_type": "code",
   "execution_count": null,
   "metadata": {},
   "outputs": [],
   "source": []
  }
 ],
 "metadata": {
  "colab": {
   "collapsed_sections": [],
   "name": "Data Manipulation3_LoanDataSetipynb",
   "provenance": []
  },
  "kernelspec": {
   "display_name": "Python 3",
   "language": "python",
   "name": "python3"
  },
  "language_info": {
   "codemirror_mode": {
    "name": "ipython",
    "version": 3
   },
   "file_extension": ".py",
   "mimetype": "text/x-python",
   "name": "python",
   "nbconvert_exporter": "python",
   "pygments_lexer": "ipython3",
   "version": "3.7.6"
  }
 },
 "nbformat": 4,
 "nbformat_minor": 1
}
